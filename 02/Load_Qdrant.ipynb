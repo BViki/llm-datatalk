{
 "cells": [
  {
   "cell_type": "code",
   "execution_count": 6,
   "id": "01cd0c82-6608-4ce0-b7a0-84a2228d906c",
   "metadata": {},
   "outputs": [],
   "source": [
    "from qdrant_client import QdrantClient, models"
   ]
  },
  {
   "cell_type": "code",
   "execution_count": 7,
   "id": "c8cf513a-45a2-4bf3-ac06-28602680b328",
   "metadata": {},
   "outputs": [],
   "source": [
    "client = QdrantClient(\"http://localhost:6333\") #connecting to local Qdrant instance"
   ]
  },
  {
   "cell_type": "code",
   "execution_count": 8,
   "id": "eea0f0e1-b615-4527-a0e9-ecef3112f27a",
   "metadata": {},
   "outputs": [],
   "source": [
    "import requests\n",
    "\n",
    "docs_url = 'https://github.com/alexeygrigorev/llm-rag-workshop/raw/main/notebooks/documents.json'\n",
    "docs_response = requests.get(docs_url)\n",
    "documents_raw = docs_response.json()"
   ]
  },
  {
   "cell_type": "code",
   "execution_count": 9,
   "id": "51a5b346-4ba5-4dab-84bd-559d39fb3a2d",
   "metadata": {},
   "outputs": [],
   "source": [
    "EMBEDDING_DIMENSIONALITY = 512"
   ]
  },
  {
   "cell_type": "code",
   "execution_count": 10,
   "id": "1526f9c0-002a-4404-93e7-edfc73e3d901",
   "metadata": {},
   "outputs": [
    {
     "name": "stdout",
     "output_type": "stream",
     "text": [
      "✅ Created collection 'zoomcamp-rag'\n",
      "🚀 Upserted 948 documents into 'zoomcamp-rag'\n"
     ]
    }
   ],
   "source": [
    "from qdrant_client import QdrantClient, models\n",
    "\n",
    "# Initialize Qdrant client\n",
    "client = QdrantClient(\"http://localhost:6333\")\n",
    "\n",
    "# Collection details\n",
    "collection_name = \"zoomcamp-rag\"\n",
    "embedding_dimension = EMBEDDING_DIMENSIONALITY\n",
    "model_handle = \"jinaai/jina-embeddings-v2-small-en\"\n",
    "\n",
    "# Track whether we created the collection\n",
    "created_new_collection = False\n",
    "\n",
    "# Check existing collections\n",
    "existing_collections = [col.name for col in client.get_collections().collections]\n",
    "\n",
    "if collection_name not in existing_collections:\n",
    "    client.create_collection(\n",
    "        collection_name=collection_name,\n",
    "        vectors_config=models.VectorParams(\n",
    "            size=embedding_dimension,\n",
    "            distance=models.Distance.COSINE\n",
    "        )\n",
    "    )\n",
    "    print(f\"✅ Created collection '{collection_name}'\")\n",
    "    created_new_collection = True\n",
    "else:\n",
    "    print(f\"ℹ️ Collection '{collection_name}' already exists. Skipping creation.\")\n",
    "\n",
    "# Only upsert if the collection was freshly created\n",
    "if created_new_collection:\n",
    "    points = []\n",
    "    id = 0\n",
    "\n",
    "    for course in documents_raw:\n",
    "        for doc in course['documents']:\n",
    "            point = models.PointStruct(\n",
    "                id=id,\n",
    "                vector=models.Document(text=doc['text'], model=model_handle),\n",
    "                payload={\n",
    "                    \"text\": doc['text'],\n",
    "                    \"section\": doc['section'],\n",
    "                    \"course\": course['course']\n",
    "                }\n",
    "            )\n",
    "            points.append(point)\n",
    "            id += 1\n",
    "\n",
    "    client.upsert(collection_name=collection_name, points=points)\n",
    "    client.create_payload_index(\n",
    "    collection_name=collection_name,\n",
    "    field_name=\"course\",\n",
    "    field_schema=\"keyword\" # exact matching on string metadata fields\n",
    "    )\n",
    "    print(f\"🚀 Upserted {len(points)} documents into '{collection_name}'\")\n"
   ]
  }
 ],
 "metadata": {
  "kernelspec": {
   "display_name": "Python 3 (ipykernel)",
   "language": "python",
   "name": "python3"
  },
  "language_info": {
   "codemirror_mode": {
    "name": "ipython",
    "version": 3
   },
   "file_extension": ".py",
   "mimetype": "text/x-python",
   "name": "python",
   "nbconvert_exporter": "python",
   "pygments_lexer": "ipython3",
   "version": "3.12.1"
  }
 },
 "nbformat": 4,
 "nbformat_minor": 5
}
