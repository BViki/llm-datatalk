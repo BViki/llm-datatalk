{
 "cells": [
  {
   "cell_type": "markdown",
   "id": "8e76ba6e-c2cf-41f1-8983-b37f1bb434fb",
   "metadata": {},
   "source": [
    "#### Question 1: Embedding the query"
   ]
  },
  {
   "cell_type": "code",
   "execution_count": 1,
   "id": "5760c05f-dab9-493a-9c2b-dbea7e0bb99d",
   "metadata": {},
   "outputs": [],
   "source": [
    "from fastembed import TextEmbedding\n",
    "import numpy as np"
   ]
  },
  {
   "cell_type": "code",
   "execution_count": 2,
   "id": "0750220b-1a22-4388-856a-6b787269d6bd",
   "metadata": {},
   "outputs": [],
   "source": [
    "model = \"jinaai/jina-embeddings-v2-small-en\""
   ]
  },
  {
   "cell_type": "code",
   "execution_count": 3,
   "id": "dc675676-ac3d-4023-b948-dc0e45a99a63",
   "metadata": {},
   "outputs": [],
   "source": [
    "q1_query = 'I just discovered the course. Can I join now?'"
   ]
  },
  {
   "cell_type": "code",
   "execution_count": 4,
   "id": "f79dab08-764a-428b-ae97-51e675fa6e18",
   "metadata": {},
   "outputs": [
    {
     "data": {
      "application/vnd.jupyter.widget-view+json": {
       "model_id": "fa2630f75df94de5911a71266557df5e",
       "version_major": 2,
       "version_minor": 0
      },
      "text/plain": [
       "Fetching 5 files:   0%|          | 0/5 [00:00<?, ?it/s]"
      ]
     },
     "metadata": {},
     "output_type": "display_data"
    },
    {
     "data": {
      "application/vnd.jupyter.widget-view+json": {
       "model_id": "e9a96d6e2f30451d87a8c6891ef3ee02",
       "version_major": 2,
       "version_minor": 0
      },
      "text/plain": [
       "special_tokens_map.json:   0%|          | 0.00/125 [00:00<?, ?B/s]"
      ]
     },
     "metadata": {},
     "output_type": "display_data"
    },
    {
     "data": {
      "application/vnd.jupyter.widget-view+json": {
       "model_id": "cd9ec16dbd0e441b993c1114baa03772",
       "version_major": 2,
       "version_minor": 0
      },
      "text/plain": [
       "config.json: 0.00B [00:00, ?B/s]"
      ]
     },
     "metadata": {},
     "output_type": "display_data"
    },
    {
     "data": {
      "application/vnd.jupyter.widget-view+json": {
       "model_id": "872856469bef43b5b17807b174e045ac",
       "version_major": 2,
       "version_minor": 0
      },
      "text/plain": [
       "tokenizer.json: 0.00B [00:00, ?B/s]"
      ]
     },
     "metadata": {},
     "output_type": "display_data"
    },
    {
     "data": {
      "application/vnd.jupyter.widget-view+json": {
       "model_id": "aadbaef256d84b16a5026b52fa697bee",
       "version_major": 2,
       "version_minor": 0
      },
      "text/plain": [
       "tokenizer_config.json:   0%|          | 0.00/367 [00:00<?, ?B/s]"
      ]
     },
     "metadata": {},
     "output_type": "display_data"
    },
    {
     "data": {
      "application/vnd.jupyter.widget-view+json": {
       "model_id": "44e33c91676b40d9a9f53be8cdd6ed7e",
       "version_major": 2,
       "version_minor": 0
      },
      "text/plain": [
       "onnx/model.onnx:   0%|          | 0.00/130M [00:00<?, ?B/s]"
      ]
     },
     "metadata": {},
     "output_type": "display_data"
    }
   ],
   "source": [
    "# https://qdrant.github.io/fastembed/Getting%20Started/#quick-start\n",
    "embedding_model = TextEmbedding(model_name=model)"
   ]
  },
  {
   "cell_type": "code",
   "execution_count": 21,
   "id": "0756ab5c-d04c-474d-b42e-61b16a7b1077",
   "metadata": {},
   "outputs": [],
   "source": [
    "q1_query_embedding = next(embedding_model.embed(q1_query))"
   ]
  },
  {
   "cell_type": "code",
   "execution_count": 7,
   "id": "dd8c33e7-c942-4984-afd7-df7824b064f4",
   "metadata": {},
   "outputs": [],
   "source": [
    "# embeddings_generator = model.embed(query)\n",
    "\n",
    "# for doc, vector in zip(query, embeddings_generator):\n",
    "#     print(\"Document:\", doc)\n",
    "#     print(f\"Vector of type: {type(vector)} with shape: {vector.shape}\")"
   ]
  },
  {
   "cell_type": "code",
   "execution_count": 22,
   "id": "eb3615b3-efc9-4abf-8e06-7335eb8851cd",
   "metadata": {},
   "outputs": [],
   "source": [
    "q1_embedding_np_array = np.array(q1_query_embedding)"
   ]
  },
  {
   "cell_type": "code",
   "execution_count": 23,
   "id": "6abc3ac1-4df6-4d5f-a4e4-58b2589dbd34",
   "metadata": {},
   "outputs": [
    {
     "name": "stdout",
     "output_type": "stream",
     "text": [
      "Shape: (512,)\n"
     ]
    }
   ],
   "source": [
    "print(\"Shape:\", q1_embedding_np_array.shape) "
   ]
  },
  {
   "cell_type": "code",
   "execution_count": 24,
   "id": "4a3b9541-d2ac-45aa-8123-c904ae84ab0a",
   "metadata": {},
   "outputs": [
    {
     "name": "stdout",
     "output_type": "stream",
     "text": [
      "Min value: -0.11726373885183883\n"
     ]
    }
   ],
   "source": [
    "print(\"Min value:\", q1_embedding_np_array.min())"
   ]
  },
  {
   "cell_type": "markdown",
   "id": "192b5b5e-4009-4795-b3c2-58755953a7dd",
   "metadata": {},
   "source": [
    "#### Question 2: Cosine similarity"
   ]
  },
  {
   "cell_type": "code",
   "execution_count": 11,
   "id": "5642871c-f245-45c0-bdf2-3c376e9df78a",
   "metadata": {},
   "outputs": [
    {
     "data": {
      "text/plain": [
       "np.float64(1.0)"
      ]
     },
     "execution_count": 11,
     "metadata": {},
     "output_type": "execute_result"
    }
   ],
   "source": [
    "np.linalg.norm(q1_embedding_np_array)"
   ]
  },
  {
   "cell_type": "code",
   "execution_count": 12,
   "id": "11553469-5f3e-49cd-be6c-45abc637fef1",
   "metadata": {},
   "outputs": [
    {
     "data": {
      "text/plain": [
       "np.float64(1.0000000000000002)"
      ]
     },
     "execution_count": 12,
     "metadata": {},
     "output_type": "execute_result"
    }
   ],
   "source": [
    "q1_embedding_np_array.dot(q1_embedding_np_array)"
   ]
  },
  {
   "cell_type": "code",
   "execution_count": 13,
   "id": "969db12c-d5ac-446d-86c7-d1038296b9b6",
   "metadata": {},
   "outputs": [],
   "source": [
    "q2_query = 'Can I still join the course after the start date?'"
   ]
  },
  {
   "cell_type": "code",
   "execution_count": 14,
   "id": "b37be690-fe43-48c0-acec-87fd534fd3e5",
   "metadata": {},
   "outputs": [],
   "source": [
    "q2_query_embedding = next(model.embed(q2_query))"
   ]
  },
  {
   "cell_type": "code",
   "execution_count": 15,
   "id": "0ae32e98-a641-48d7-9c3a-3290376f8f25",
   "metadata": {},
   "outputs": [],
   "source": [
    "q2_embedding_np_array = np.array(q2_query_embedding)"
   ]
  },
  {
   "cell_type": "code",
   "execution_count": 16,
   "id": "1fd9f46b-ac6e-4cfe-b46d-eff642e67c2e",
   "metadata": {},
   "outputs": [
    {
     "data": {
      "text/plain": [
       "np.float64(0.9008528895674548)"
      ]
     },
     "execution_count": 16,
     "metadata": {},
     "output_type": "execute_result"
    }
   ],
   "source": [
    "q1_embedding_np_array.dot(q2_embedding_np_array)"
   ]
  },
  {
   "cell_type": "code",
   "execution_count": 17,
   "id": "cf3c55c6-f984-495d-945b-3a120a327cb0",
   "metadata": {},
   "outputs": [
    {
     "data": {
      "text/plain": [
       "np.float64(0.9008528895674548)"
      ]
     },
     "execution_count": 17,
     "metadata": {},
     "output_type": "execute_result"
    }
   ],
   "source": [
    "q2_embedding_np_array.dot(q1_embedding_np_array)"
   ]
  },
  {
   "cell_type": "code",
   "execution_count": 18,
   "id": "9075d078-8cc2-4d3a-a68e-308eb354abb3",
   "metadata": {},
   "outputs": [
    {
     "name": "stdout",
     "output_type": "stream",
     "text": [
      "Cosine similarity: 0.9008528895674548\n"
     ]
    }
   ],
   "source": [
    "print(\"Cosine similarity:\", q2_embedding_np_array.dot(q1_embedding_np_array))"
   ]
  },
  {
   "cell_type": "markdown",
   "id": "615df454-34ab-49b2-8ad7-682a87cab61b",
   "metadata": {},
   "source": [
    "#### Question 3: Ranking by Cosine"
   ]
  },
  {
   "cell_type": "code",
   "execution_count": 25,
   "id": "1e5fc7e3-7d63-49d1-9522-09e4824a2f58",
   "metadata": {},
   "outputs": [],
   "source": [
    "q3_documents = [{'text': \"Yes, even if you don't register, you're still eligible to submit the homeworks.\\nBe aware, however, that there will be deadlines for turning in the final projects. So don't leave everything for the last minute.\",\n",
    "  'section': 'General course-related questions',\n",
    "  'question': 'Course - Can I still join the course after the start date?',\n",
    "  'course': 'data-engineering-zoomcamp'},\n",
    " {'text': 'Yes, we will keep all the materials after the course finishes, so you can follow the course at your own pace after it finishes.\\nYou can also continue looking at the homeworks and continue preparing for the next cohort. I guess you can also start working on your final capstone project.',\n",
    "  'section': 'General course-related questions',\n",
    "  'question': 'Course - Can I follow the course after it finishes?',\n",
    "  'course': 'data-engineering-zoomcamp'},\n",
    " {'text': \"The purpose of this document is to capture frequently asked technical questions\\nThe exact day and hour of the course will be 15th Jan 2024 at 17h00. The course will start with the first  “Office Hours'' live.1\\nSubscribe to course public Google Calendar (it works from Desktop only).\\nRegister before the course starts using this link.\\nJoin the course Telegram channel with announcements.\\nDon’t forget to register in DataTalks.Club's Slack and join the channel.\",\n",
    "  'section': 'General course-related questions',\n",
    "  'question': 'Course - When will the course start?',\n",
    "  'course': 'data-engineering-zoomcamp'},\n",
    " {'text': 'You can start by installing and setting up all the dependencies and requirements:\\nGoogle cloud account\\nGoogle Cloud SDK\\nPython 3 (installed with Anaconda)\\nTerraform\\nGit\\nLook over the prerequisites and syllabus to see if you are comfortable with these subjects.',\n",
    "  'section': 'General course-related questions',\n",
    "  'question': 'Course - What can I do before the course starts?',\n",
    "  'course': 'data-engineering-zoomcamp'},\n",
    " {'text': 'Star the repo! Share it with friends if you find it useful ❣️\\nCreate a PR if you see you can improve the text or the structure of the repository.',\n",
    "  'section': 'General course-related questions',\n",
    "  'question': 'How can we contribute to the course?',\n",
    "  'course': 'data-engineering-zoomcamp'}]"
   ]
  },
  {
   "cell_type": "code",
   "execution_count": 26,
   "id": "909827ac-f8e1-493b-94f3-d3a032657e0f",
   "metadata": {},
   "outputs": [],
   "source": [
    "texts = [doc['text'] for doc in q3_documents]"
   ]
  },
  {
   "cell_type": "code",
   "execution_count": 30,
   "id": "17a49540-4efd-419c-8e8f-b46a0f00d8b4",
   "metadata": {},
   "outputs": [],
   "source": [
    "embeddings_generator = embedding_model.embed(texts)\n",
    "\n",
    "doc_embeddings = []\n",
    "\n",
    "for doc, vector in zip(q3_documents, embeddings_generator):\n",
    "    doc_embeddings.append({\n",
    "        \"text\": doc[\"text\"],\n",
    "        \"vector\": vector\n",
    "    })"
   ]
  },
  {
   "cell_type": "code",
   "execution_count": 53,
   "id": "bad1f071-3bd5-4212-8cdc-e40a04c541d4",
   "metadata": {},
   "outputs": [],
   "source": [
    "q3_text_embeddings = np.array([\n",
    "    vector for vector in doc_embeddings\n",
    "])  # Shape: (5, 512)"
   ]
  },
  {
   "cell_type": "code",
   "execution_count": 31,
   "id": "40e4b09c-b9c9-42a9-b4e1-148ec87961b1",
   "metadata": {},
   "outputs": [],
   "source": [
    "import pandas as pd \n",
    "df_embeddings= pd.DataFrame(doc_embeddings)"
   ]
  },
  {
   "cell_type": "code",
   "execution_count": 32,
   "id": "42e71e7f-db6a-4ce4-a38f-ebc4f427dd90",
   "metadata": {},
   "outputs": [
    {
     "data": {
      "text/html": [
       "<div>\n",
       "<style scoped>\n",
       "    .dataframe tbody tr th:only-of-type {\n",
       "        vertical-align: middle;\n",
       "    }\n",
       "\n",
       "    .dataframe tbody tr th {\n",
       "        vertical-align: top;\n",
       "    }\n",
       "\n",
       "    .dataframe thead th {\n",
       "        text-align: right;\n",
       "    }\n",
       "</style>\n",
       "<table border=\"1\" class=\"dataframe\">\n",
       "  <thead>\n",
       "    <tr style=\"text-align: right;\">\n",
       "      <th></th>\n",
       "      <th>text</th>\n",
       "      <th>vector</th>\n",
       "    </tr>\n",
       "  </thead>\n",
       "  <tbody>\n",
       "    <tr>\n",
       "      <th>0</th>\n",
       "      <td>Yes, even if you don't register, you're still ...</td>\n",
       "      <td>[-0.024952500601280857, -0.039645403430715875,...</td>\n",
       "    </tr>\n",
       "    <tr>\n",
       "      <th>1</th>\n",
       "      <td>Yes, we will keep all the materials after the ...</td>\n",
       "      <td>[-0.05947089729865029, -0.08523984248531108, 0...</td>\n",
       "    </tr>\n",
       "    <tr>\n",
       "      <th>2</th>\n",
       "      <td>The purpose of this document is to capture fre...</td>\n",
       "      <td>[-0.06846454499342787, -0.0407909771755291, 0....</td>\n",
       "    </tr>\n",
       "    <tr>\n",
       "      <th>3</th>\n",
       "      <td>You can start by installing and setting up all...</td>\n",
       "      <td>[-0.0464050626316478, -0.025552290220715833, 0...</td>\n",
       "    </tr>\n",
       "    <tr>\n",
       "      <th>4</th>\n",
       "      <td>Star the repo! Share it with friends if you fi...</td>\n",
       "      <td>[-0.053949116022754706, -0.04693814362572923, ...</td>\n",
       "    </tr>\n",
       "  </tbody>\n",
       "</table>\n",
       "</div>"
      ],
      "text/plain": [
       "                                                text  \\\n",
       "0  Yes, even if you don't register, you're still ...   \n",
       "1  Yes, we will keep all the materials after the ...   \n",
       "2  The purpose of this document is to capture fre...   \n",
       "3  You can start by installing and setting up all...   \n",
       "4  Star the repo! Share it with friends if you fi...   \n",
       "\n",
       "                                              vector  \n",
       "0  [-0.024952500601280857, -0.039645403430715875,...  \n",
       "1  [-0.05947089729865029, -0.08523984248531108, 0...  \n",
       "2  [-0.06846454499342787, -0.0407909771755291, 0....  \n",
       "3  [-0.0464050626316478, -0.025552290220715833, 0...  \n",
       "4  [-0.053949116022754706, -0.04693814362572923, ...  "
      ]
     },
     "execution_count": 32,
     "metadata": {},
     "output_type": "execute_result"
    }
   ],
   "source": [
    "df_embeddings"
   ]
  },
  {
   "cell_type": "code",
   "execution_count": 37,
   "id": "152e5210-2e4e-46ed-a835-026361d19a09",
   "metadata": {},
   "outputs": [
    {
     "name": "stdout",
     "output_type": "stream",
     "text": [
      "Shape: (5,)\n"
     ]
    }
   ],
   "source": [
    "print(\"Shape:\", text_embeddings.shape) "
   ]
  },
  {
   "cell_type": "code",
   "execution_count": 41,
   "id": "16546923-c3a4-4dee-ba3f-3c6ecfa49809",
   "metadata": {},
   "outputs": [],
   "source": [
    "query = \"I just discovered the course. Can I join now?\"\n",
    "query_vector = next(embedding_model.embed([query]))  # Shape: (512,)"
   ]
  },
  {
   "cell_type": "code",
   "execution_count": 56,
   "id": "e9cc8202-7e26-43ea-b7ab-5d8b47e91132",
   "metadata": {},
   "outputs": [
    {
     "data": {
      "text/plain": [
       "(512,)"
      ]
     },
     "execution_count": 56,
     "metadata": {},
     "output_type": "execute_result"
    }
   ],
   "source": [
    "import numpy as np\n",
    "\n",
    "query = \"I just discovered the course. Can I join now?\"\n",
    "query_vector = next(embedding_model.embed([query]))  # Shape: (512,)\n",
    "query_vector.shape"
   ]
  },
  {
   "cell_type": "code",
   "execution_count": null,
   "id": "45a0afac-46c5-47f2-a124-2d706cdb9c0a",
   "metadata": {},
   "outputs": [],
   "source": [
    "text_embeddings = np.array([\n",
    "    vector for vector in embedding_model.embed([doc['text'] for doc in q3_documents])\n",
    "])  # Shape: (5, 512)\n",
    "text_embeddings.shape"
   ]
  },
  {
   "cell_type": "code",
   "execution_count": null,
   "id": "020b6981-c275-4b38-9a2e-7ccb9cfa226a",
   "metadata": {},
   "outputs": [],
   "source": [
    "# Step 3: Compute cosine similarity (dot product since vectors are normalized)\n",
    "cosine_similarities = text_embeddings.dot(query_vector)  # Shape: (5,)"
   ]
  },
  {
   "cell_type": "code",
   "execution_count": null,
   "id": "b8d17e78-56bd-482a-a333-4078284c5e57",
   "metadata": {},
   "outputs": [],
   "source": [
    "# Step 4: Find the index with the highest similarity\n",
    "most_similar_idx = np.argmax(cosine_similarities)\n",
    "print(\"Index with highest similarity:\", most_similar_idx)"
   ]
  },
  {
   "cell_type": "code",
   "execution_count": 51,
   "id": "3209fe0c-a577-4e2a-896c-0744694492ec",
   "metadata": {},
   "outputs": [
    {
     "data": {
      "text/html": [
       "<div>\n",
       "<style scoped>\n",
       "    .dataframe tbody tr th:only-of-type {\n",
       "        vertical-align: middle;\n",
       "    }\n",
       "\n",
       "    .dataframe tbody tr th {\n",
       "        vertical-align: top;\n",
       "    }\n",
       "\n",
       "    .dataframe thead th {\n",
       "        text-align: right;\n",
       "    }\n",
       "</style>\n",
       "<table border=\"1\" class=\"dataframe\">\n",
       "  <thead>\n",
       "    <tr style=\"text-align: right;\">\n",
       "      <th></th>\n",
       "      <th>0</th>\n",
       "    </tr>\n",
       "  </thead>\n",
       "  <tbody>\n",
       "    <tr>\n",
       "      <th>0</th>\n",
       "      <td>0.762968</td>\n",
       "    </tr>\n",
       "    <tr>\n",
       "      <th>1</th>\n",
       "      <td>0.818238</td>\n",
       "    </tr>\n",
       "    <tr>\n",
       "      <th>2</th>\n",
       "      <td>0.808540</td>\n",
       "    </tr>\n",
       "    <tr>\n",
       "      <th>3</th>\n",
       "      <td>0.713308</td>\n",
       "    </tr>\n",
       "    <tr>\n",
       "      <th>4</th>\n",
       "      <td>0.730450</td>\n",
       "    </tr>\n",
       "  </tbody>\n",
       "</table>\n",
       "</div>"
      ],
      "text/plain": [
       "          0\n",
       "0  0.762968\n",
       "1  0.818238\n",
       "2  0.808540\n",
       "3  0.713308\n",
       "4  0.730450"
      ]
     },
     "execution_count": 51,
     "metadata": {},
     "output_type": "execute_result"
    }
   ],
   "source": [
    "import pandas as pd \n",
    "df_cosine_similarities= pd.DataFrame(cosine_similarities)\n",
    "df_cosine_similarities"
   ]
  },
  {
   "cell_type": "markdown",
   "id": "b53df7b5-1624-4b2c-9932-1fc5a9472b50",
   "metadata": {},
   "source": [
    "#### Question 4 : Ranking by cosine, version two"
   ]
  },
  {
   "cell_type": "code",
   "execution_count": 48,
   "id": "90ebd8e3-ab43-4549-a83d-1244372b75cc",
   "metadata": {},
   "outputs": [
    {
     "name": "stdout",
     "output_type": "stream",
     "text": [
      "Index with highest similarity: 0\n"
     ]
    }
   ],
   "source": [
    "import numpy as np\n",
    "\n",
    "# Step 1: Embed the query\n",
    "query = \"I just discovered the course. Can I join now?\"\n",
    "query_vector = next(embedding_model.embed([query]))  # Shape: (512,)\n",
    "\n",
    "# Step 2: Embed all text fields (if not already done)\n",
    "text_embeddings = np.array([\n",
    "    vector for vector in embedding_model.embed([ doc['question'] + ' ' + doc['text'] for doc in q3_documents])\n",
    "])  # Shape: (5, 512)\n",
    "\n",
    "# Step 3: Compute cosine similarity (dot product since vectors are normalized)\n",
    "cosine_similarities = text_embeddings.dot(query_vector)  # Shape: (5,)\n",
    "\n",
    "# Step 4: Find the index with the highest similarity\n",
    "most_similar_idx = np.argmax(cosine_similarities)\n",
    "print(\"Index with highest similarity:\", most_similar_idx)"
   ]
  },
  {
   "cell_type": "code",
   "execution_count": 46,
   "id": "ebd5132a-c38f-4902-889b-12b439e7daab",
   "metadata": {},
   "outputs": [
    {
     "data": {
      "text/html": [
       "<div>\n",
       "<style scoped>\n",
       "    .dataframe tbody tr th:only-of-type {\n",
       "        vertical-align: middle;\n",
       "    }\n",
       "\n",
       "    .dataframe tbody tr th {\n",
       "        vertical-align: top;\n",
       "    }\n",
       "\n",
       "    .dataframe thead th {\n",
       "        text-align: right;\n",
       "    }\n",
       "</style>\n",
       "<table border=\"1\" class=\"dataframe\">\n",
       "  <thead>\n",
       "    <tr style=\"text-align: right;\">\n",
       "      <th></th>\n",
       "      <th>0</th>\n",
       "    </tr>\n",
       "  </thead>\n",
       "  <tbody>\n",
       "    <tr>\n",
       "      <th>0</th>\n",
       "      <td>0.851454</td>\n",
       "    </tr>\n",
       "    <tr>\n",
       "      <th>1</th>\n",
       "      <td>0.843659</td>\n",
       "    </tr>\n",
       "    <tr>\n",
       "      <th>2</th>\n",
       "      <td>0.840829</td>\n",
       "    </tr>\n",
       "    <tr>\n",
       "      <th>3</th>\n",
       "      <td>0.775516</td>\n",
       "    </tr>\n",
       "    <tr>\n",
       "      <th>4</th>\n",
       "      <td>0.808601</td>\n",
       "    </tr>\n",
       "  </tbody>\n",
       "</table>\n",
       "</div>"
      ],
      "text/plain": [
       "          0\n",
       "0  0.851454\n",
       "1  0.843659\n",
       "2  0.840829\n",
       "3  0.775516\n",
       "4  0.808601"
      ]
     },
     "execution_count": 46,
     "metadata": {},
     "output_type": "execute_result"
    }
   ],
   "source": [
    "import pandas as pd \n",
    "df_cosine_similarities= pd.DataFrame(cosine_similarities)\n",
    "df_cosine_similarities"
   ]
  },
  {
   "cell_type": "markdown",
   "id": "6a439cbf-6e2e-4b2a-8912-e10d9f33f8cf",
   "metadata": {},
   "source": [
    "#### Question 5 : Selecting the embedding model"
   ]
  },
  {
   "cell_type": "code",
   "execution_count": 46,
   "id": "e0b0dde2-a114-46a3-9f98-0f4ac50d2ecf",
   "metadata": {},
   "outputs": [
    {
     "data": {
      "text/html": [
       "<div>\n",
       "<style scoped>\n",
       "    .dataframe tbody tr th:only-of-type {\n",
       "        vertical-align: middle;\n",
       "    }\n",
       "\n",
       "    .dataframe tbody tr th {\n",
       "        vertical-align: top;\n",
       "    }\n",
       "\n",
       "    .dataframe thead th {\n",
       "        text-align: right;\n",
       "    }\n",
       "</style>\n",
       "<table border=\"1\" class=\"dataframe\">\n",
       "  <thead>\n",
       "    <tr style=\"text-align: right;\">\n",
       "      <th></th>\n",
       "      <th>model</th>\n",
       "      <th>description</th>\n",
       "      <th>license</th>\n",
       "      <th>size_in_GB</th>\n",
       "      <th>dim</th>\n",
       "      <th>tasks</th>\n",
       "    </tr>\n",
       "  </thead>\n",
       "  <tbody>\n",
       "    <tr>\n",
       "      <th>0</th>\n",
       "      <td>BAAI/bge-small-en</td>\n",
       "      <td>Text embeddings, Unimodal (text), English, 512...</td>\n",
       "      <td>mit</td>\n",
       "      <td>0.130</td>\n",
       "      <td>384</td>\n",
       "      <td>{}</td>\n",
       "    </tr>\n",
       "    <tr>\n",
       "      <th>1</th>\n",
       "      <td>BAAI/bge-small-en-v1.5</td>\n",
       "      <td>Text embeddings, Unimodal (text), English, 512...</td>\n",
       "      <td>mit</td>\n",
       "      <td>0.067</td>\n",
       "      <td>384</td>\n",
       "      <td>{}</td>\n",
       "    </tr>\n",
       "    <tr>\n",
       "      <th>2</th>\n",
       "      <td>snowflake/snowflake-arctic-embed-xs</td>\n",
       "      <td>Text embeddings, Unimodal (text), English, 512...</td>\n",
       "      <td>apache-2.0</td>\n",
       "      <td>0.090</td>\n",
       "      <td>384</td>\n",
       "      <td>{}</td>\n",
       "    </tr>\n",
       "  </tbody>\n",
       "</table>\n",
       "</div>"
      ],
      "text/plain": [
       "                                 model  \\\n",
       "0                    BAAI/bge-small-en   \n",
       "1               BAAI/bge-small-en-v1.5   \n",
       "2  snowflake/snowflake-arctic-embed-xs   \n",
       "\n",
       "                                         description     license  size_in_GB  \\\n",
       "0  Text embeddings, Unimodal (text), English, 512...         mit       0.130   \n",
       "1  Text embeddings, Unimodal (text), English, 512...         mit       0.067   \n",
       "2  Text embeddings, Unimodal (text), English, 512...  apache-2.0       0.090   \n",
       "\n",
       "   dim tasks  \n",
       "0  384    {}  \n",
       "1  384    {}  \n",
       "2  384    {}  "
      ]
     },
     "execution_count": 46,
     "metadata": {},
     "output_type": "execute_result"
    }
   ],
   "source": [
    "import pandas as pd\n",
    "\n",
    "supported_models = (\n",
    "    pd.DataFrame(TextEmbedding.list_supported_models())\n",
    "    .sort_values(\"dim\")\n",
    "    .drop(columns=[\"sources\", \"model_file\", \"additional_files\"])\n",
    "    .reset_index(drop=True)\n",
    ")\n",
    "supported_models.head(3)"
   ]
  },
  {
   "cell_type": "markdown",
   "id": "7c78b216-8d01-47a9-9809-1fde5bdb1ddd",
   "metadata": {},
   "source": [
    "#### Question 5 : Indexing with qdrant"
   ]
  },
  {
   "cell_type": "code",
   "execution_count": 55,
   "id": "034f4e43-db00-43cf-8124-becaeae29b8b",
   "metadata": {},
   "outputs": [],
   "source": [
    "import requests \n",
    "\n",
    "docs_url = 'https://github.com/alexeygrigorev/llm-rag-workshop/raw/main/notebooks/documents.json'\n",
    "docs_response = requests.get(docs_url)\n",
    "documents_raw = docs_response.json()\n",
    "\n",
    "\n",
    "documents = []\n",
    "\n",
    "for course in documents_raw:\n",
    "    course_name = course['course']\n",
    "    if course_name != 'machine-learning-zoomcamp':\n",
    "        continue\n",
    "\n",
    "    for doc in course['documents']:\n",
    "        doc['course'] = course_name\n",
    "        documents.append(doc)"
   ]
  },
  {
   "cell_type": "code",
   "execution_count": 56,
   "id": "a5f67bdc-05bd-466a-9a05-fd5080b13597",
   "metadata": {},
   "outputs": [],
   "source": [
    "EMBEDDING_DIMENSIONALITY = 384"
   ]
  },
  {
   "cell_type": "code",
   "execution_count": 57,
   "id": "4171b9f7-b179-4dbe-80b0-be701280de8e",
   "metadata": {},
   "outputs": [
    {
     "name": "stdout",
     "output_type": "stream",
     "text": [
      "✅ Created collection 'zoomcamp-hw-week-q6'\n"
     ]
    }
   ],
   "source": [
    "from qdrant_client import QdrantClient, models\n",
    "\n",
    "# Initialize Qdrant client\n",
    "client = QdrantClient(\"http://localhost:6333\")\n",
    "\n",
    "# Collection details\n",
    "collection_name = \"zoomcamp-hw-week-q6\"\n",
    "embedding_dimension = EMBEDDING_DIMENSIONALITY\n",
    "model_handle = \"BAAI/bge-small-en\"\n",
    "\n",
    "# Track whether we created the collection\n",
    "created_new_collection = False\n",
    "\n",
    "# Check existing collections\n",
    "existing_collections = [col.name for col in client.get_collections().collections]\n",
    "\n",
    "if collection_name not in existing_collections:\n",
    "    client.create_collection(\n",
    "        collection_name=collection_name,\n",
    "        vectors_config=models.VectorParams(\n",
    "            size=embedding_dimension,\n",
    "            distance=models.Distance.COSINE\n",
    "        )\n",
    "    )\n",
    "    print(f\"✅ Created collection '{collection_name}'\")\n",
    "    created_new_collection = True\n",
    "else:\n",
    "    print(f\"ℹ️ Collection '{collection_name}' already exists. Skipping creation.\")\n"
   ]
  },
  {
   "cell_type": "code",
   "execution_count": 58,
   "id": "88176368-d3ec-4bf2-b822-296cc7509f45",
   "metadata": {},
   "outputs": [
    {
     "data": {
      "text/plain": [
       "{'text': 'Machine Learning Zoomcamp FAQ\\nThe purpose of this document is to capture frequently asked technical questions.\\nWe did this for our data engineering course and it worked quite well. Check this document for inspiration on how to structure your questions and answers:\\nData Engineering Zoomcamp FAQ\\nIn the course GitHub repository there’s a link. Here it is: https://airtable.com/shryxwLd0COOEaqXo\\nwork',\n",
       " 'section': 'General course-related questions',\n",
       " 'question': 'How do I sign up?',\n",
       " 'course': 'machine-learning-zoomcamp'}"
      ]
     },
     "execution_count": 58,
     "metadata": {},
     "output_type": "execute_result"
    }
   ],
   "source": [
    "documents[0]"
   ]
  },
  {
   "cell_type": "code",
   "execution_count": 59,
   "id": "df86c404-d965-41ef-ab1b-64bcdd2bc37e",
   "metadata": {},
   "outputs": [
    {
     "name": "stdout",
     "output_type": "stream",
     "text": [
      "🚀 Upserted 375 documents into 'zoomcamp-hw-week-q6'\n"
     ]
    }
   ],
   "source": [
    "# Only upsert if the collection was freshly created\n",
    "if created_new_collection:\n",
    "    points = []\n",
    "    id = 0\n",
    "\n",
    "    for doc in documents:\n",
    "        point = models.PointStruct(\n",
    "            id=id,\n",
    "            vector=models.Document(text=doc['question'] + ' ' + doc['text'], model=model_handle),\n",
    "            payload={\n",
    "                \"text\": doc['text'],\n",
    "                \"section\": doc['section'],\n",
    "                \"course\": doc['course']\n",
    "            }\n",
    "        )\n",
    "        points.append(point)\n",
    "        id += 1\n",
    "\n",
    "    client.upsert(collection_name=collection_name, points=points)\n",
    "    print(f\"🚀 Upserted {len(points)} documents into '{collection_name}'\")"
   ]
  },
  {
   "cell_type": "code",
   "execution_count": 60,
   "id": "5e35850f-306a-4452-93e5-e8f0843841d2",
   "metadata": {},
   "outputs": [
    {
     "data": {
      "text/plain": [
       "UpdateResult(operation_id=2, status=<UpdateStatus.COMPLETED: 'completed'>)"
      ]
     },
     "execution_count": 60,
     "metadata": {},
     "output_type": "execute_result"
    }
   ],
   "source": [
    "client.create_payload_index(\n",
    "    collection_name=collection_name,\n",
    "    field_name=\"course\",\n",
    "    field_schema=\"keyword\" # exact matching on string metadata fields\n",
    "    )"
   ]
  },
  {
   "cell_type": "code",
   "execution_count": 61,
   "id": "0eee9e2f-438e-4a93-b100-0d258ac792b7",
   "metadata": {},
   "outputs": [],
   "source": [
    "def search(query, limit=1):\n",
    "\n",
    "    results = client.query_points(\n",
    "        collection_name=collection_name,\n",
    "        query=models.Document( #embed the query text locally with \"jinaai/jina-embeddings-v2-small-en\"\n",
    "            text=query,\n",
    "            model=model_handle \n",
    "        ),\n",
    "        limit=limit, # top closest matches\n",
    "        with_payload=True #to get metadata in the results\n",
    "    )\n",
    "\n",
    "    return results"
   ]
  },
  {
   "cell_type": "code",
   "execution_count": 64,
   "id": "08c89c42-d6f9-4823-b37e-925ac44c10c6",
   "metadata": {},
   "outputs": [
    {
     "data": {
      "text/plain": [
       "QueryResponse(points=[ScoredPoint(id=14, version=0, score=0.8703172, payload={'text': 'Yes, you can. You won’t be able to submit some of the homeworks, but you can still take part in the course.\\nIn order to get a certificate, you need to submit 2 out of 3 course projects and review 3 peers’ Projects by the deadline. It means that if you join the course at the end of November and manage to work on two projects, you will still be eligible for a certificate.', 'section': 'General course-related questions', 'course': 'machine-learning-zoomcamp'}, vector=None, shard_key=None, order_value=None)])"
      ]
     },
     "execution_count": 64,
     "metadata": {},
     "output_type": "execute_result"
    }
   ],
   "source": [
    "search('I just discovered the course. Can I join now?')"
   ]
  }
 ],
 "metadata": {
  "kernelspec": {
   "display_name": "Python 3 (ipykernel)",
   "language": "python",
   "name": "python3"
  },
  "language_info": {
   "codemirror_mode": {
    "name": "ipython",
    "version": 3
   },
   "file_extension": ".py",
   "mimetype": "text/x-python",
   "name": "python",
   "nbconvert_exporter": "python",
   "pygments_lexer": "ipython3",
   "version": "3.12.1"
  }
 },
 "nbformat": 4,
 "nbformat_minor": 5
}
