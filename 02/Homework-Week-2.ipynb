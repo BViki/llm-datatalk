{
 "cells": [
  {
   "cell_type": "markdown",
   "id": "8e76ba6e-c2cf-41f1-8983-b37f1bb434fb",
   "metadata": {},
   "source": [
    "#### Question 1: Embedding the query"
   ]
  },
  {
   "cell_type": "code",
   "execution_count": 1,
   "id": "5760c05f-dab9-493a-9c2b-dbea7e0bb99d",
   "metadata": {},
   "outputs": [],
   "source": [
    "from fastembed import TextEmbedding\n",
    "import numpy as np"
   ]
  },
  {
   "cell_type": "code",
   "execution_count": 2,
   "id": "0750220b-1a22-4388-856a-6b787269d6bd",
   "metadata": {},
   "outputs": [],
   "source": [
    "model = \"jinaai/jina-embeddings-v2-small-en\""
   ]
  },
  {
   "cell_type": "code",
   "execution_count": 3,
   "id": "dc675676-ac3d-4023-b948-dc0e45a99a63",
   "metadata": {},
   "outputs": [],
   "source": [
    "q1_query = 'I just discovered the course. Can I join now?'"
   ]
  },
  {
   "cell_type": "code",
   "execution_count": 4,
   "id": "f79dab08-764a-428b-ae97-51e675fa6e18",
   "metadata": {},
   "outputs": [
    {
     "data": {
      "application/vnd.jupyter.widget-view+json": {
       "model_id": "0780581a02844599ba28a00b4711c7b1",
       "version_major": 2,
       "version_minor": 0
      },
      "text/plain": [
       "Fetching 5 files:   0%|          | 0/5 [00:00<?, ?it/s]"
      ]
     },
     "metadata": {},
     "output_type": "display_data"
    },
    {
     "data": {
      "application/vnd.jupyter.widget-view+json": {
       "model_id": "a0599305490346b8aef922782de0fe63",
       "version_major": 2,
       "version_minor": 0
      },
      "text/plain": [
       "config.json: 0.00B [00:00, ?B/s]"
      ]
     },
     "metadata": {},
     "output_type": "display_data"
    },
    {
     "data": {
      "application/vnd.jupyter.widget-view+json": {
       "model_id": "68e1384c0cbd4fb186eb1b5fd9eef43e",
       "version_major": 2,
       "version_minor": 0
      },
      "text/plain": [
       "tokenizer.json: 0.00B [00:00, ?B/s]"
      ]
     },
     "metadata": {},
     "output_type": "display_data"
    },
    {
     "data": {
      "application/vnd.jupyter.widget-view+json": {
       "model_id": "318c52ecd1db4816a4f5c65347346c81",
       "version_major": 2,
       "version_minor": 0
      },
      "text/plain": [
       "tokenizer_config.json:   0%|          | 0.00/367 [00:00<?, ?B/s]"
      ]
     },
     "metadata": {},
     "output_type": "display_data"
    },
    {
     "data": {
      "application/vnd.jupyter.widget-view+json": {
       "model_id": "837d669a26fc4ea0a8982630768a97de",
       "version_major": 2,
       "version_minor": 0
      },
      "text/plain": [
       "special_tokens_map.json:   0%|          | 0.00/125 [00:00<?, ?B/s]"
      ]
     },
     "metadata": {},
     "output_type": "display_data"
    },
    {
     "data": {
      "application/vnd.jupyter.widget-view+json": {
       "model_id": "b51215084b954d1aadc9d7104977cb5c",
       "version_major": 2,
       "version_minor": 0
      },
      "text/plain": [
       "onnx/model.onnx:   0%|          | 0.00/130M [00:00<?, ?B/s]"
      ]
     },
     "metadata": {},
     "output_type": "display_data"
    }
   ],
   "source": [
    "# https://qdrant.github.io/fastembed/Getting%20Started/#quick-start\n",
    "embedding_model = TextEmbedding(model_name=model)"
   ]
  },
  {
   "cell_type": "code",
   "execution_count": 5,
   "id": "0756ab5c-d04c-474d-b42e-61b16a7b1077",
   "metadata": {},
   "outputs": [],
   "source": [
    "q1_query_embedding = next(embedding_model.embed(q1_query))"
   ]
  },
  {
   "cell_type": "code",
   "execution_count": 6,
   "id": "dd8c33e7-c942-4984-afd7-df7824b064f4",
   "metadata": {},
   "outputs": [],
   "source": [
    "# embeddings_generator = model.embed(query)\n",
    "\n",
    "# for doc, vector in zip(query, embeddings_generator):\n",
    "#     print(\"Document:\", doc)\n",
    "#     print(f\"Vector of type: {type(vector)} with shape: {vector.shape}\")"
   ]
  },
  {
   "cell_type": "code",
   "execution_count": 7,
   "id": "eb3615b3-efc9-4abf-8e06-7335eb8851cd",
   "metadata": {},
   "outputs": [],
   "source": [
    "q1_embedding_np_array = np.array(q1_query_embedding)"
   ]
  },
  {
   "cell_type": "code",
   "execution_count": 8,
   "id": "6abc3ac1-4df6-4d5f-a4e4-58b2589dbd34",
   "metadata": {},
   "outputs": [
    {
     "name": "stdout",
     "output_type": "stream",
     "text": [
      "Shape: (512,)\n"
     ]
    }
   ],
   "source": [
    "print(\"Shape:\", q1_embedding_np_array.shape) "
   ]
  },
  {
   "cell_type": "code",
   "execution_count": 9,
   "id": "4a3b9541-d2ac-45aa-8123-c904ae84ab0a",
   "metadata": {},
   "outputs": [
    {
     "name": "stdout",
     "output_type": "stream",
     "text": [
      "Min value: -0.11726373885183883\n"
     ]
    }
   ],
   "source": [
    "print(\"Min value:\", q1_embedding_np_array.min())"
   ]
  },
  {
   "cell_type": "markdown",
   "id": "192b5b5e-4009-4795-b3c2-58755953a7dd",
   "metadata": {},
   "source": [
    "#### Question 2: Cosine similarity"
   ]
  },
  {
   "cell_type": "code",
   "execution_count": 10,
   "id": "5642871c-f245-45c0-bdf2-3c376e9df78a",
   "metadata": {},
   "outputs": [
    {
     "data": {
      "text/plain": [
       "np.float64(1.0)"
      ]
     },
     "execution_count": 10,
     "metadata": {},
     "output_type": "execute_result"
    }
   ],
   "source": [
    "np.linalg.norm(q1_embedding_np_array)"
   ]
  },
  {
   "cell_type": "code",
   "execution_count": 11,
   "id": "11553469-5f3e-49cd-be6c-45abc637fef1",
   "metadata": {},
   "outputs": [
    {
     "data": {
      "text/plain": [
       "np.float64(1.0000000000000002)"
      ]
     },
     "execution_count": 11,
     "metadata": {},
     "output_type": "execute_result"
    }
   ],
   "source": [
    "q1_embedding_np_array.dot(q1_embedding_np_array)"
   ]
  },
  {
   "cell_type": "code",
   "execution_count": 12,
   "id": "969db12c-d5ac-446d-86c7-d1038296b9b6",
   "metadata": {},
   "outputs": [],
   "source": [
    "q2_query = 'Can I still join the course after the start date?'"
   ]
  },
  {
   "cell_type": "code",
   "execution_count": 13,
   "id": "b37be690-fe43-48c0-acec-87fd534fd3e5",
   "metadata": {},
   "outputs": [],
   "source": [
    "q2_query_embedding = next(embedding_model.embed(q2_query))"
   ]
  },
  {
   "cell_type": "code",
   "execution_count": 14,
   "id": "0ae32e98-a641-48d7-9c3a-3290376f8f25",
   "metadata": {},
   "outputs": [],
   "source": [
    "q2_embedding_np_array = np.array(q2_query_embedding)"
   ]
  },
  {
   "cell_type": "code",
   "execution_count": 15,
   "id": "1fd9f46b-ac6e-4cfe-b46d-eff642e67c2e",
   "metadata": {},
   "outputs": [
    {
     "data": {
      "text/plain": [
       "np.float64(0.9008528895674548)"
      ]
     },
     "execution_count": 15,
     "metadata": {},
     "output_type": "execute_result"
    }
   ],
   "source": [
    "q1_embedding_np_array.dot(q2_embedding_np_array)"
   ]
  },
  {
   "cell_type": "code",
   "execution_count": 16,
   "id": "cf3c55c6-f984-495d-945b-3a120a327cb0",
   "metadata": {},
   "outputs": [
    {
     "data": {
      "text/plain": [
       "np.float64(0.9008528895674548)"
      ]
     },
     "execution_count": 16,
     "metadata": {},
     "output_type": "execute_result"
    }
   ],
   "source": [
    "q2_embedding_np_array.dot(q1_embedding_np_array)"
   ]
  },
  {
   "cell_type": "code",
   "execution_count": 17,
   "id": "9075d078-8cc2-4d3a-a68e-308eb354abb3",
   "metadata": {},
   "outputs": [
    {
     "name": "stdout",
     "output_type": "stream",
     "text": [
      "Cosine similarity: 0.9008528895674548\n"
     ]
    }
   ],
   "source": [
    "print(\"Cosine similarity:\", q2_embedding_np_array.dot(q1_embedding_np_array))"
   ]
  },
  {
   "cell_type": "markdown",
   "id": "615df454-34ab-49b2-8ad7-682a87cab61b",
   "metadata": {},
   "source": [
    "#### Question 3: Ranking by Cosine"
   ]
  },
  {
   "cell_type": "code",
   "execution_count": 18,
   "id": "1e5fc7e3-7d63-49d1-9522-09e4824a2f58",
   "metadata": {},
   "outputs": [],
   "source": [
    "q3_documents = [{'text': \"Yes, even if you don't register, you're still eligible to submit the homeworks.\\nBe aware, however, that there will be deadlines for turning in the final projects. So don't leave everything for the last minute.\",\n",
    "  'section': 'General course-related questions',\n",
    "  'question': 'Course - Can I still join the course after the start date?',\n",
    "  'course': 'data-engineering-zoomcamp'},\n",
    " {'text': 'Yes, we will keep all the materials after the course finishes, so you can follow the course at your own pace after it finishes.\\nYou can also continue looking at the homeworks and continue preparing for the next cohort. I guess you can also start working on your final capstone project.',\n",
    "  'section': 'General course-related questions',\n",
    "  'question': 'Course - Can I follow the course after it finishes?',\n",
    "  'course': 'data-engineering-zoomcamp'},\n",
    " {'text': \"The purpose of this document is to capture frequently asked technical questions\\nThe exact day and hour of the course will be 15th Jan 2024 at 17h00. The course will start with the first  “Office Hours'' live.1\\nSubscribe to course public Google Calendar (it works from Desktop only).\\nRegister before the course starts using this link.\\nJoin the course Telegram channel with announcements.\\nDon’t forget to register in DataTalks.Club's Slack and join the channel.\",\n",
    "  'section': 'General course-related questions',\n",
    "  'question': 'Course - When will the course start?',\n",
    "  'course': 'data-engineering-zoomcamp'},\n",
    " {'text': 'You can start by installing and setting up all the dependencies and requirements:\\nGoogle cloud account\\nGoogle Cloud SDK\\nPython 3 (installed with Anaconda)\\nTerraform\\nGit\\nLook over the prerequisites and syllabus to see if you are comfortable with these subjects.',\n",
    "  'section': 'General course-related questions',\n",
    "  'question': 'Course - What can I do before the course starts?',\n",
    "  'course': 'data-engineering-zoomcamp'},\n",
    " {'text': 'Star the repo! Share it with friends if you find it useful ❣️\\nCreate a PR if you see you can improve the text or the structure of the repository.',\n",
    "  'section': 'General course-related questions',\n",
    "  'question': 'How can we contribute to the course?',\n",
    "  'course': 'data-engineering-zoomcamp'}]"
   ]
  },
  {
   "cell_type": "code",
   "execution_count": 19,
   "id": "17a49540-4efd-419c-8e8f-b46a0f00d8b4",
   "metadata": {},
   "outputs": [
    {
     "name": "stdout",
     "output_type": "stream",
     "text": [
      "(5, 2)\n"
     ]
    }
   ],
   "source": [
    "import numpy as np\n",
    "\n",
    "texts = [doc[\"text\"] for doc in q3_documents]\n",
    "vectors = list(embedding_model.embed(texts))\n",
    "\n",
    "# Combine as pairs: [text, vector]\n",
    "text_embeddings = np.array([\n",
    "    [text, vector] for text, vector in zip(texts, vectors)\n",
    "], dtype=object)\n",
    "print(text_embeddings.shape)"
   ]
  },
  {
   "cell_type": "code",
   "execution_count": 34,
   "id": "a40abfba-3e23-48d7-9c25-a697112b82ed",
   "metadata": {},
   "outputs": [],
   "source": [
    "import pandas as pd\n",
    "df_q3_text_embeddings = pd.DataFrame(text_embeddings,columns=['text','vector'])\n",
    "# df_q3_text_embeddings"
   ]
  },
  {
   "cell_type": "code",
   "execution_count": 22,
   "id": "6ab432c9-1995-4a8c-b3de-3dfef58299ba",
   "metadata": {},
   "outputs": [
    {
     "data": {
      "text/plain": [
       "(512,)"
      ]
     },
     "execution_count": 22,
     "metadata": {},
     "output_type": "execute_result"
    }
   ],
   "source": [
    "q3_query = \"I just discovered the course. Can I join now?\"\n",
    "q3_query_vector = next(embedding_model.embed([q3_query]))  # Shape: (512,)\n",
    "q3_query_vector.shape"
   ]
  },
  {
   "cell_type": "code",
   "execution_count": 35,
   "id": "83a0ea0c-bd8e-4626-92e8-bcb2b7907c21",
   "metadata": {},
   "outputs": [
    {
     "data": {
      "text/html": [
       "<div>\n",
       "<style scoped>\n",
       "    .dataframe tbody tr th:only-of-type {\n",
       "        vertical-align: middle;\n",
       "    }\n",
       "\n",
       "    .dataframe tbody tr th {\n",
       "        vertical-align: top;\n",
       "    }\n",
       "\n",
       "    .dataframe thead th {\n",
       "        text-align: right;\n",
       "    }\n",
       "</style>\n",
       "<table border=\"1\" class=\"dataframe\">\n",
       "  <thead>\n",
       "    <tr style=\"text-align: right;\">\n",
       "      <th></th>\n",
       "      <th>text</th>\n",
       "      <th>vector</th>\n",
       "      <th>similarity</th>\n",
       "    </tr>\n",
       "  </thead>\n",
       "  <tbody>\n",
       "    <tr>\n",
       "      <th>1</th>\n",
       "      <td>Yes, we will keep all the materials after the ...</td>\n",
       "      <td>[-0.05947089729865029, -0.08523984248531108, 0...</td>\n",
       "      <td>0.818238</td>\n",
       "    </tr>\n",
       "    <tr>\n",
       "      <th>2</th>\n",
       "      <td>The purpose of this document is to capture fre...</td>\n",
       "      <td>[-0.06846454499342787, -0.0407909771755291, 0....</td>\n",
       "      <td>0.808540</td>\n",
       "    </tr>\n",
       "    <tr>\n",
       "      <th>0</th>\n",
       "      <td>Yes, even if you don't register, you're still ...</td>\n",
       "      <td>[-0.024952500601280857, -0.039645403430715875,...</td>\n",
       "      <td>0.762968</td>\n",
       "    </tr>\n",
       "    <tr>\n",
       "      <th>4</th>\n",
       "      <td>Star the repo! Share it with friends if you fi...</td>\n",
       "      <td>[-0.053949116022754706, -0.04693814362572923, ...</td>\n",
       "      <td>0.730450</td>\n",
       "    </tr>\n",
       "    <tr>\n",
       "      <th>3</th>\n",
       "      <td>You can start by installing and setting up all...</td>\n",
       "      <td>[-0.0464050626316478, -0.025552290220715833, 0...</td>\n",
       "      <td>0.713308</td>\n",
       "    </tr>\n",
       "  </tbody>\n",
       "</table>\n",
       "</div>"
      ],
      "text/plain": [
       "                                                text  \\\n",
       "1  Yes, we will keep all the materials after the ...   \n",
       "2  The purpose of this document is to capture fre...   \n",
       "0  Yes, even if you don't register, you're still ...   \n",
       "4  Star the repo! Share it with friends if you fi...   \n",
       "3  You can start by installing and setting up all...   \n",
       "\n",
       "                                              vector  similarity  \n",
       "1  [-0.05947089729865029, -0.08523984248531108, 0...    0.818238  \n",
       "2  [-0.06846454499342787, -0.0407909771755291, 0....    0.808540  \n",
       "0  [-0.024952500601280857, -0.039645403430715875,...    0.762968  \n",
       "4  [-0.053949116022754706, -0.04693814362572923, ...    0.730450  \n",
       "3  [-0.0464050626316478, -0.025552290220715833, 0...    0.713308  "
      ]
     },
     "execution_count": 35,
     "metadata": {},
     "output_type": "execute_result"
    }
   ],
   "source": [
    "# Compute cosine similarity via dot product (vectors must be normalized)\n",
    "df_q3_text_embeddings[\"similarity\"] = df_q3_text_embeddings[\"vector\"].apply(lambda x: np.dot(x, q3_query_vector))\n",
    "\n",
    "# Sort to get the most similar at the top\n",
    "df_q3_sorted = df_q3_text_embeddings.sort_values(by=\"similarity\", ascending=False)\n",
    "\n",
    "df_q3_sorted"
   ]
  },
  {
   "cell_type": "markdown",
   "id": "b53df7b5-1624-4b2c-9932-1fc5a9472b50",
   "metadata": {},
   "source": [
    "#### Question 4 : Ranking by cosine, version two"
   ]
  },
  {
   "cell_type": "code",
   "execution_count": 36,
   "id": "f971b5f4-db4d-4810-b1ce-5590590e8c4a",
   "metadata": {},
   "outputs": [
    {
     "name": "stdout",
     "output_type": "stream",
     "text": [
      "(5, 2)\n"
     ]
    }
   ],
   "source": [
    "import numpy as np\n",
    "\n",
    "q4_texts = [doc['question'] + ' ' + doc['text'] for doc in q3_documents]\n",
    "q4_vectors = list(embedding_model.embed(q4_texts))\n",
    "\n",
    "# Combine as pairs: [text, vector]\n",
    "q4_text_embeddings = np.array([\n",
    "    [text, vector] for text, vector in zip(q4_texts, q4_vectors)\n",
    "], dtype=object)\n",
    "print(q4_text_embeddings.shape)\n",
    "df_q4_text_embeddings = pd.DataFrame(q4_text_embeddings,columns=['text','vector'])\n",
    "# df_q4_text_embeddings"
   ]
  },
  {
   "cell_type": "code",
   "execution_count": 37,
   "id": "187521b5-6fe9-484f-8fb4-7777706bd530",
   "metadata": {},
   "outputs": [
    {
     "data": {
      "text/html": [
       "<div>\n",
       "<style scoped>\n",
       "    .dataframe tbody tr th:only-of-type {\n",
       "        vertical-align: middle;\n",
       "    }\n",
       "\n",
       "    .dataframe tbody tr th {\n",
       "        vertical-align: top;\n",
       "    }\n",
       "\n",
       "    .dataframe thead th {\n",
       "        text-align: right;\n",
       "    }\n",
       "</style>\n",
       "<table border=\"1\" class=\"dataframe\">\n",
       "  <thead>\n",
       "    <tr style=\"text-align: right;\">\n",
       "      <th></th>\n",
       "      <th>text</th>\n",
       "      <th>vector</th>\n",
       "      <th>similarity</th>\n",
       "    </tr>\n",
       "  </thead>\n",
       "  <tbody>\n",
       "    <tr>\n",
       "      <th>0</th>\n",
       "      <td>Course - Can I still join the course after the...</td>\n",
       "      <td>[-0.03958748262081998, -0.06904068936129748, 0...</td>\n",
       "      <td>0.851454</td>\n",
       "    </tr>\n",
       "    <tr>\n",
       "      <th>1</th>\n",
       "      <td>Course - Can I follow the course after it fini...</td>\n",
       "      <td>[-0.08249755003702235, -0.08627811833574725, 0...</td>\n",
       "      <td>0.843659</td>\n",
       "    </tr>\n",
       "    <tr>\n",
       "      <th>2</th>\n",
       "      <td>Course - When will the course start? The purpo...</td>\n",
       "      <td>[-0.07798265715506465, -0.054283763168184285, ...</td>\n",
       "      <td>0.840829</td>\n",
       "    </tr>\n",
       "    <tr>\n",
       "      <th>4</th>\n",
       "      <td>How can we contribute to the course? Star the ...</td>\n",
       "      <td>[-0.08384529091747055, -0.05699563384774924, 0...</td>\n",
       "      <td>0.808601</td>\n",
       "    </tr>\n",
       "    <tr>\n",
       "      <th>3</th>\n",
       "      <td>Course - What can I do before the course start...</td>\n",
       "      <td>[-0.0719690950180108, -0.05147854858194681, 0....</td>\n",
       "      <td>0.775516</td>\n",
       "    </tr>\n",
       "  </tbody>\n",
       "</table>\n",
       "</div>"
      ],
      "text/plain": [
       "                                                text  \\\n",
       "0  Course - Can I still join the course after the...   \n",
       "1  Course - Can I follow the course after it fini...   \n",
       "2  Course - When will the course start? The purpo...   \n",
       "4  How can we contribute to the course? Star the ...   \n",
       "3  Course - What can I do before the course start...   \n",
       "\n",
       "                                              vector  similarity  \n",
       "0  [-0.03958748262081998, -0.06904068936129748, 0...    0.851454  \n",
       "1  [-0.08249755003702235, -0.08627811833574725, 0...    0.843659  \n",
       "2  [-0.07798265715506465, -0.054283763168184285, ...    0.840829  \n",
       "4  [-0.08384529091747055, -0.05699563384774924, 0...    0.808601  \n",
       "3  [-0.0719690950180108, -0.05147854858194681, 0....    0.775516  "
      ]
     },
     "execution_count": 37,
     "metadata": {},
     "output_type": "execute_result"
    }
   ],
   "source": [
    "# Compute cosine similarity via dot product (vectors must be normalized)\n",
    "df_q4_text_embeddings[\"similarity\"] = df_q4_text_embeddings[\"vector\"].apply(lambda x: np.dot(x, q3_query_vector))\n",
    "\n",
    "# Sort to get the most similar at the top\n",
    "df_q4_sorted = df_q4_text_embeddings.sort_values(by=\"similarity\", ascending=False)\n",
    "\n",
    "df_q4_sorted"
   ]
  },
  {
   "cell_type": "markdown",
   "id": "6a439cbf-6e2e-4b2a-8912-e10d9f33f8cf",
   "metadata": {},
   "source": [
    "#### Question 5 : Selecting the embedding model"
   ]
  },
  {
   "cell_type": "code",
   "execution_count": 38,
   "id": "e0b0dde2-a114-46a3-9f98-0f4ac50d2ecf",
   "metadata": {},
   "outputs": [
    {
     "data": {
      "text/html": [
       "<div>\n",
       "<style scoped>\n",
       "    .dataframe tbody tr th:only-of-type {\n",
       "        vertical-align: middle;\n",
       "    }\n",
       "\n",
       "    .dataframe tbody tr th {\n",
       "        vertical-align: top;\n",
       "    }\n",
       "\n",
       "    .dataframe thead th {\n",
       "        text-align: right;\n",
       "    }\n",
       "</style>\n",
       "<table border=\"1\" class=\"dataframe\">\n",
       "  <thead>\n",
       "    <tr style=\"text-align: right;\">\n",
       "      <th></th>\n",
       "      <th>model</th>\n",
       "      <th>description</th>\n",
       "      <th>license</th>\n",
       "      <th>size_in_GB</th>\n",
       "      <th>dim</th>\n",
       "      <th>tasks</th>\n",
       "    </tr>\n",
       "  </thead>\n",
       "  <tbody>\n",
       "    <tr>\n",
       "      <th>0</th>\n",
       "      <td>BAAI/bge-small-en</td>\n",
       "      <td>Text embeddings, Unimodal (text), English, 512...</td>\n",
       "      <td>mit</td>\n",
       "      <td>0.130</td>\n",
       "      <td>384</td>\n",
       "      <td>{}</td>\n",
       "    </tr>\n",
       "    <tr>\n",
       "      <th>1</th>\n",
       "      <td>BAAI/bge-small-en-v1.5</td>\n",
       "      <td>Text embeddings, Unimodal (text), English, 512...</td>\n",
       "      <td>mit</td>\n",
       "      <td>0.067</td>\n",
       "      <td>384</td>\n",
       "      <td>{}</td>\n",
       "    </tr>\n",
       "    <tr>\n",
       "      <th>2</th>\n",
       "      <td>snowflake/snowflake-arctic-embed-xs</td>\n",
       "      <td>Text embeddings, Unimodal (text), English, 512...</td>\n",
       "      <td>apache-2.0</td>\n",
       "      <td>0.090</td>\n",
       "      <td>384</td>\n",
       "      <td>{}</td>\n",
       "    </tr>\n",
       "  </tbody>\n",
       "</table>\n",
       "</div>"
      ],
      "text/plain": [
       "                                 model  \\\n",
       "0                    BAAI/bge-small-en   \n",
       "1               BAAI/bge-small-en-v1.5   \n",
       "2  snowflake/snowflake-arctic-embed-xs   \n",
       "\n",
       "                                         description     license  size_in_GB  \\\n",
       "0  Text embeddings, Unimodal (text), English, 512...         mit       0.130   \n",
       "1  Text embeddings, Unimodal (text), English, 512...         mit       0.067   \n",
       "2  Text embeddings, Unimodal (text), English, 512...  apache-2.0       0.090   \n",
       "\n",
       "   dim tasks  \n",
       "0  384    {}  \n",
       "1  384    {}  \n",
       "2  384    {}  "
      ]
     },
     "execution_count": 38,
     "metadata": {},
     "output_type": "execute_result"
    }
   ],
   "source": [
    "import pandas as pd\n",
    "\n",
    "supported_models = (\n",
    "    pd.DataFrame(TextEmbedding.list_supported_models())\n",
    "    .sort_values(\"dim\")\n",
    "    .drop(columns=[\"sources\", \"model_file\", \"additional_files\"])\n",
    "    .reset_index(drop=True)\n",
    ")\n",
    "supported_models.head(3)"
   ]
  },
  {
   "cell_type": "markdown",
   "id": "7c78b216-8d01-47a9-9809-1fde5bdb1ddd",
   "metadata": {},
   "source": [
    "#### Question 5 : Indexing with qdrant"
   ]
  },
  {
   "cell_type": "code",
   "execution_count": 39,
   "id": "034f4e43-db00-43cf-8124-becaeae29b8b",
   "metadata": {},
   "outputs": [],
   "source": [
    "import requests \n",
    "\n",
    "docs_url = 'https://github.com/alexeygrigorev/llm-rag-workshop/raw/main/notebooks/documents.json'\n",
    "docs_response = requests.get(docs_url)\n",
    "documents_raw = docs_response.json()\n",
    "\n",
    "\n",
    "documents = []\n",
    "\n",
    "for course in documents_raw:\n",
    "    course_name = course['course']\n",
    "    if course_name != 'machine-learning-zoomcamp':\n",
    "        continue\n",
    "\n",
    "    for doc in course['documents']:\n",
    "        doc['course'] = course_name\n",
    "        documents.append(doc)"
   ]
  },
  {
   "cell_type": "code",
   "execution_count": 40,
   "id": "a5f67bdc-05bd-466a-9a05-fd5080b13597",
   "metadata": {},
   "outputs": [],
   "source": [
    "EMBEDDING_DIMENSIONALITY = 384"
   ]
  },
  {
   "cell_type": "code",
   "execution_count": 41,
   "id": "4171b9f7-b179-4dbe-80b0-be701280de8e",
   "metadata": {},
   "outputs": [
    {
     "name": "stdout",
     "output_type": "stream",
     "text": [
      "ℹ️ Collection 'zoomcamp-hw-week-q6' already exists. Skipping creation.\n"
     ]
    }
   ],
   "source": [
    "from qdrant_client import QdrantClient, models\n",
    "\n",
    "# Initialize Qdrant client\n",
    "client = QdrantClient(\"http://localhost:6333\")\n",
    "\n",
    "# Collection details\n",
    "collection_name = \"zoomcamp-hw-week-q6\"\n",
    "embedding_dimension = EMBEDDING_DIMENSIONALITY\n",
    "model_handle = \"BAAI/bge-small-en\"\n",
    "\n",
    "# Track whether we created the collection\n",
    "created_new_collection = False\n",
    "\n",
    "# Check existing collections\n",
    "existing_collections = [col.name for col in client.get_collections().collections]\n",
    "\n",
    "if collection_name not in existing_collections:\n",
    "    client.create_collection(\n",
    "        collection_name=collection_name,\n",
    "        vectors_config=models.VectorParams(\n",
    "            size=embedding_dimension,\n",
    "            distance=models.Distance.COSINE\n",
    "        )\n",
    "    )\n",
    "    print(f\"✅ Created collection '{collection_name}'\")\n",
    "    created_new_collection = True\n",
    "else:\n",
    "    print(f\"ℹ️ Collection '{collection_name}' already exists. Skipping creation.\")\n"
   ]
  },
  {
   "cell_type": "code",
   "execution_count": null,
   "id": "88176368-d3ec-4bf2-b822-296cc7509f45",
   "metadata": {},
   "outputs": [],
   "source": [
    "documents[0]"
   ]
  },
  {
   "cell_type": "code",
   "execution_count": 42,
   "id": "df86c404-d965-41ef-ab1b-64bcdd2bc37e",
   "metadata": {},
   "outputs": [],
   "source": [
    "# Only upsert if the collection was freshly created\n",
    "if created_new_collection:\n",
    "    points = []\n",
    "    id = 0\n",
    "\n",
    "    for doc in documents:\n",
    "        point = models.PointStruct(\n",
    "            id=id,\n",
    "            vector=models.Document(text=doc['question'] + ' ' + doc['text'], model=model_handle),\n",
    "            payload={\n",
    "                \"text\": doc['text'],\n",
    "                \"section\": doc['section'],\n",
    "                \"course\": doc['course']\n",
    "            }\n",
    "        )\n",
    "        points.append(point)\n",
    "        id += 1\n",
    "\n",
    "    client.upsert(collection_name=collection_name, points=points)\n",
    "    print(f\"🚀 Upserted {len(points)} documents into '{collection_name}'\")"
   ]
  },
  {
   "cell_type": "code",
   "execution_count": 43,
   "id": "5e35850f-306a-4452-93e5-e8f0843841d2",
   "metadata": {},
   "outputs": [
    {
     "data": {
      "text/plain": [
       "UpdateResult(operation_id=4, status=<UpdateStatus.COMPLETED: 'completed'>)"
      ]
     },
     "execution_count": 43,
     "metadata": {},
     "output_type": "execute_result"
    }
   ],
   "source": [
    "client.create_payload_index(\n",
    "    collection_name=collection_name,\n",
    "    field_name=\"course\",\n",
    "    field_schema=\"keyword\" # exact matching on string metadata fields\n",
    "    )"
   ]
  },
  {
   "cell_type": "code",
   "execution_count": 44,
   "id": "0eee9e2f-438e-4a93-b100-0d258ac792b7",
   "metadata": {},
   "outputs": [],
   "source": [
    "def search(query, limit=1):\n",
    "\n",
    "    results = client.query_points(\n",
    "        collection_name=collection_name,\n",
    "        query=models.Document( #embed the query text locally with \"jinaai/jina-embeddings-v2-small-en\"\n",
    "            text=query,\n",
    "            model=model_handle \n",
    "        ),\n",
    "        limit=limit, # top closest matches\n",
    "        with_payload=True #to get metadata in the results\n",
    "    )\n",
    "\n",
    "    return results"
   ]
  },
  {
   "cell_type": "code",
   "execution_count": 45,
   "id": "08c89c42-d6f9-4823-b37e-925ac44c10c6",
   "metadata": {},
   "outputs": [
    {
     "data": {
      "application/vnd.jupyter.widget-view+json": {
       "model_id": "bed7c959c5f549a8968ab9155ee0aca4",
       "version_major": 2,
       "version_minor": 0
      },
      "text/plain": [
       "Fetching 5 files:   0%|          | 0/5 [00:00<?, ?it/s]"
      ]
     },
     "metadata": {},
     "output_type": "display_data"
    },
    {
     "data": {
      "application/vnd.jupyter.widget-view+json": {
       "model_id": "378e221098cf423ba919c675e9ba1062",
       "version_major": 2,
       "version_minor": 0
      },
      "text/plain": [
       "config.json:   0%|          | 0.00/701 [00:00<?, ?B/s]"
      ]
     },
     "metadata": {},
     "output_type": "display_data"
    },
    {
     "data": {
      "application/vnd.jupyter.widget-view+json": {
       "model_id": "cdcd9bdebe824be886106c03446f82a7",
       "version_major": 2,
       "version_minor": 0
      },
      "text/plain": [
       "tokenizer.json: 0.00B [00:00, ?B/s]"
      ]
     },
     "metadata": {},
     "output_type": "display_data"
    },
    {
     "data": {
      "application/vnd.jupyter.widget-view+json": {
       "model_id": "a95ae6914ba340a7919dda93d2adc29b",
       "version_major": 2,
       "version_minor": 0
      },
      "text/plain": [
       "tokenizer_config.json:   0%|          | 0.00/366 [00:00<?, ?B/s]"
      ]
     },
     "metadata": {},
     "output_type": "display_data"
    },
    {
     "data": {
      "application/vnd.jupyter.widget-view+json": {
       "model_id": "33be9bdf7f9e40f8bc97d4777a42403e",
       "version_major": 2,
       "version_minor": 0
      },
      "text/plain": [
       "model_optimized.onnx:   0%|          | 0.00/133M [00:00<?, ?B/s]"
      ]
     },
     "metadata": {},
     "output_type": "display_data"
    },
    {
     "data": {
      "application/vnd.jupyter.widget-view+json": {
       "model_id": "b9fe193a89094571ad3894c3b7bedd04",
       "version_major": 2,
       "version_minor": 0
      },
      "text/plain": [
       "special_tokens_map.json:   0%|          | 0.00/125 [00:00<?, ?B/s]"
      ]
     },
     "metadata": {},
     "output_type": "display_data"
    },
    {
     "data": {
      "text/plain": [
       "QueryResponse(points=[ScoredPoint(id=14, version=0, score=0.8703172, payload={'text': 'Yes, you can. You won’t be able to submit some of the homeworks, but you can still take part in the course.\\nIn order to get a certificate, you need to submit 2 out of 3 course projects and review 3 peers’ Projects by the deadline. It means that if you join the course at the end of November and manage to work on two projects, you will still be eligible for a certificate.', 'section': 'General course-related questions', 'course': 'machine-learning-zoomcamp'}, vector=None, shard_key=None, order_value=None)])"
      ]
     },
     "execution_count": 45,
     "metadata": {},
     "output_type": "execute_result"
    }
   ],
   "source": [
    "search('I just discovered the course. Can I join now?')"
   ]
  }
 ],
 "metadata": {
  "kernelspec": {
   "display_name": "Python 3 (ipykernel)",
   "language": "python",
   "name": "python3"
  },
  "language_info": {
   "codemirror_mode": {
    "name": "ipython",
    "version": 3
   },
   "file_extension": ".py",
   "mimetype": "text/x-python",
   "name": "python",
   "nbconvert_exporter": "python",
   "pygments_lexer": "ipython3",
   "version": "3.12.1"
  }
 },
 "nbformat": 4,
 "nbformat_minor": 5
}
