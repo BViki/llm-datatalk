{
 "cells": [
  {
   "cell_type": "markdown",
   "id": "d71aed7c-9aed-4b4e-a601-a43314d2b306",
   "metadata": {},
   "source": [
    " Q1. Embedding the query"
   ]
  },
  {
   "cell_type": "code",
   "execution_count": 3,
   "id": "5760c05f-dab9-493a-9c2b-dbea7e0bb99d",
   "metadata": {},
   "outputs": [],
   "source": [
    "from fastembed import TextEmbedding\n",
    "from qdrant_client import QdrantClient, models"
   ]
  },
  {
   "cell_type": "code",
   "execution_count": 2,
   "id": "25188635-f2eb-43f9-8e9e-7910d81e71c8",
   "metadata": {},
   "outputs": [],
   "source": [
    "model_handle = \"jinaai/jina-embeddings-v2-small-en\""
   ]
  },
  {
   "cell_type": "code",
   "execution_count": 4,
   "id": "dc675676-ac3d-4023-b948-dc0e45a99a63",
   "metadata": {},
   "outputs": [],
   "source": [
    "query = 'I just discovered the course. Can I join now?'"
   ]
  },
  {
   "cell_type": "code",
   "execution_count": 5,
   "id": "fb86daed-905e-445d-891c-f07bc4e52030",
   "metadata": {},
   "outputs": [],
   "source": [
    "point = models.PointStruct(\n",
    "    id=100,\n",
    "    vector=models.Document(text=query, model=model_handle)\n",
    ")"
   ]
  },
  {
   "cell_type": "code",
   "execution_count": 6,
   "id": "59709cff-bc6c-4285-8c5b-174dbce2dca5",
   "metadata": {},
   "outputs": [
    {
     "data": {
      "text/plain": [
       "PointStruct(id=100, vector=Document(text='I just discovered the course. Can I join now?', model='jinaai/jina-embeddings-v2-small-en', options=None), payload=None)"
      ]
     },
     "execution_count": 6,
     "metadata": {},
     "output_type": "execute_result"
    }
   ],
   "source": [
    "point"
   ]
  }
 ],
 "metadata": {
  "kernelspec": {
   "display_name": "Python 3 (ipykernel)",
   "language": "python",
   "name": "python3"
  },
  "language_info": {
   "codemirror_mode": {
    "name": "ipython",
    "version": 3
   },
   "file_extension": ".py",
   "mimetype": "text/x-python",
   "name": "python",
   "nbconvert_exporter": "python",
   "pygments_lexer": "ipython3",
   "version": "3.12.1"
  }
 },
 "nbformat": 4,
 "nbformat_minor": 5
}
