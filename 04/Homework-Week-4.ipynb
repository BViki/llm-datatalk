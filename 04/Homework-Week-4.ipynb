{
 "cells": [
  {
   "cell_type": "markdown",
   "id": "901a9099-b9e7-4306-9e78-2eab0dee2eef",
   "metadata": {},
   "source": [
    "#### Question 1 : Define function description"
   ]
  },
  {
   "cell_type": "code",
   "execution_count": 8,
   "id": "77789eac-15c9-4e82-ae90-8638fd5b69e0",
   "metadata": {},
   "outputs": [],
   "source": [
    "from openai import OpenAI\n",
    "client = OpenAI()"
   ]
  },
  {
   "cell_type": "code",
   "execution_count": 9,
   "id": "43485e11-9f87-4af7-919b-392693337920",
   "metadata": {},
   "outputs": [],
   "source": [
    "import random\n",
    "\n",
    "known_weather_data = {\n",
    "    'berlin': 20.0\n",
    "}\n",
    "\n",
    "def get_weather(city: str) -> float:\n",
    "    city = city.strip().lower()\n",
    "\n",
    "    if city in known_weather_data:\n",
    "        return known_weather_data[city]\n",
    "\n",
    "    return round(random.uniform(-5, 35), 1)"
   ]
  },
  {
   "cell_type": "code",
   "execution_count": 10,
   "id": "0ae7eef7-4559-447d-970d-4a0c9a90ba22",
   "metadata": {},
   "outputs": [
    {
     "data": {
      "text/plain": [
       "20.0"
      ]
     },
     "execution_count": 10,
     "metadata": {},
     "output_type": "execute_result"
    }
   ],
   "source": [
    "get_weather('berlin')"
   ]
  },
  {
   "cell_type": "code",
   "execution_count": 11,
   "id": "78cb186e-0a89-4a49-8b85-76a52bb28448",
   "metadata": {},
   "outputs": [],
   "source": [
    "get_weather_tool = {\n",
    "    \"type\": \"function\",\n",
    "    \"name\": \"get_weather\",\n",
    "    \"description\": \"Fetch the Weather of the City\",\n",
    "    \"parameters\": {\n",
    "        \"type\": \"object\",\n",
    "        \"properties\": {\n",
    "            \"city\": {\n",
    "                \"type\": \"string\",\n",
    "                \"description\": \"Which city's weather ?\"\n",
    "            }\n",
    "        },\n",
    "        \"required\": ['city'],\n",
    "        \"additionalProperties\": False\n",
    "    }\n",
    "}"
   ]
  },
  {
   "cell_type": "code",
   "execution_count": 12,
   "id": "d8c213ac-c99a-4a70-b935-15973422960e",
   "metadata": {},
   "outputs": [],
   "source": [
    "# !wget https://raw.githubusercontent.com/alexeygrigorev/rag-agents-workshop/refs/heads/main/chat_assistant.py"
   ]
  },
  {
   "cell_type": "code",
   "execution_count": 13,
   "id": "1b492c70-a70d-4701-82c9-57115b3c30e5",
   "metadata": {},
   "outputs": [],
   "source": [
    "import chat_assistant\n",
    "tools = chat_assistant.Tools()"
   ]
  },
  {
   "cell_type": "code",
   "execution_count": 14,
   "id": "c356142b-711b-4c3a-b778-ab0c52529b5d",
   "metadata": {},
   "outputs": [],
   "source": [
    "tools.add_tool(get_weather,get_weather_tool)"
   ]
  },
  {
   "cell_type": "code",
   "execution_count": 15,
   "id": "2ed883c7-6d32-4d6b-96cd-49b8cdff41ab",
   "metadata": {},
   "outputs": [
    {
     "data": {
      "text/plain": [
       "[{'type': 'function',\n",
       "  'name': 'get_weather',\n",
       "  'description': 'Fetch the Weather of the City',\n",
       "  'parameters': {'type': 'object',\n",
       "   'properties': {'city': {'type': 'string',\n",
       "     'description': \"Which city's weather ?\"}},\n",
       "   'required': ['city'],\n",
       "   'additionalProperties': False}}]"
      ]
     },
     "execution_count": 15,
     "metadata": {},
     "output_type": "execute_result"
    }
   ],
   "source": [
    "tools.get_tools()"
   ]
  },
  {
   "cell_type": "code",
   "execution_count": 16,
   "id": "22036cba-41c4-4839-bde3-2414cc8e8689",
   "metadata": {},
   "outputs": [],
   "source": [
    "developer_prompt = \"\"\"\n",
    "You are a weather assistant.\n",
    "\n",
    "When provided with a city name, use the available tools to:\n",
    "1. Fetch the current weather of the city.\n",
    "2. Optionally add the weather information to the database.\n",
    "\n",
    "After each response, follow up with a relevant question to keep the conversation going.\n",
    "\"\"\".strip()\n",
    "\n",
    "chat_interface = chat_assistant.ChatInterface()\n",
    "\n",
    "chat = chat_assistant.ChatAssistant(\n",
    "    tools=tools,\n",
    "    developer_prompt=developer_prompt,\n",
    "    chat_interface=chat_interface,\n",
    "    client=client\n",
    ")"
   ]
  },
  {
   "cell_type": "code",
   "execution_count": 23,
   "id": "22a20dec-afa7-4d25-856c-b47a0a3e39bb",
   "metadata": {},
   "outputs": [
    {
     "name": "stdin",
     "output_type": "stream",
     "text": [
      "You: Let's add Top US Cities Weather to the Database\n"
     ]
    },
    {
     "data": {
      "text/html": [
       "\n",
       "            <div>\n",
       "                <div><b>Assistant:</b></div>\n",
       "                <div><p>Could you please specify which top U.S. cities you'd like to add to the database?</p></div>\n",
       "            </div>\n",
       "        "
      ],
      "text/plain": [
       "<IPython.core.display.HTML object>"
      ]
     },
     "metadata": {},
     "output_type": "display_data"
    },
    {
     "name": "stdin",
     "output_type": "stream",
     "text": [
      "You: West Coast Cities\n"
     ]
    },
    {
     "data": {
      "text/html": [
       "\n",
       "            <div>\n",
       "                <div><b>Assistant:</b></div>\n",
       "                <div><p>Here are some major West Coast cities in the U.S.:</p>\n",
       "<ol>\n",
       "<li>Los Angeles, California</li>\n",
       "<li>San Francisco, California</li>\n",
       "<li>Seattle, Washington</li>\n",
       "<li>San Diego, California</li>\n",
       "<li>Portland, Oregon</li>\n",
       "</ol>\n",
       "<p>Would you like to gather weather information for all of these cities, or do you want to focus on a specific one first?</p></div>\n",
       "            </div>\n",
       "        "
      ],
      "text/plain": [
       "<IPython.core.display.HTML object>"
      ]
     },
     "metadata": {},
     "output_type": "display_data"
    },
    {
     "name": "stdin",
     "output_type": "stream",
     "text": [
      "You: Yes\n"
     ]
    },
    {
     "data": {
      "text/html": [
       "\n",
       "            <details>\n",
       "            <summary>Function call: <tt>get_weather({\"city\":\"Los Angeles\"})</tt></summary>\n",
       "            <div>\n",
       "                <b>Call</b>\n",
       "                <pre>ResponseFunctionToolCall(arguments='{\"city\":\"Los Angeles\"}', call_id='call_jtjmx5s1CZ0j0iRpFH7XEhGs', name='get_weather', type='function_call', id='fc_6885c28b85f0819ea2e5f16da2a4f853043b07c23684c1cb', status='completed')</pre>\n",
       "            </div>\n",
       "            <div>\n",
       "                <b>Output</b>\n",
       "                <pre>-0.1</pre>\n",
       "            </div>\n",
       "            \n",
       "            </details>\n",
       "        "
      ],
      "text/plain": [
       "<IPython.core.display.HTML object>"
      ]
     },
     "metadata": {},
     "output_type": "display_data"
    },
    {
     "data": {
      "text/html": [
       "\n",
       "            <details>\n",
       "            <summary>Function call: <tt>get_weather({\"city\":\"San Francisco\"})</tt></summary>\n",
       "            <div>\n",
       "                <b>Call</b>\n",
       "                <pre>ResponseFunctionToolCall(arguments='{\"city\":\"San Francisco\"}', call_id='call_zQsVyZ0GcKy1IdrRA9xI8GvQ', name='get_weather', type='function_call', id='fc_6885c28bb1cc819e9d837283a36dc9bb043b07c23684c1cb', status='completed')</pre>\n",
       "            </div>\n",
       "            <div>\n",
       "                <b>Output</b>\n",
       "                <pre>9.9</pre>\n",
       "            </div>\n",
       "            \n",
       "            </details>\n",
       "        "
      ],
      "text/plain": [
       "<IPython.core.display.HTML object>"
      ]
     },
     "metadata": {},
     "output_type": "display_data"
    },
    {
     "data": {
      "text/html": [
       "\n",
       "            <details>\n",
       "            <summary>Function call: <tt>get_weather({\"city\":\"Seattle\"})</tt></summary>\n",
       "            <div>\n",
       "                <b>Call</b>\n",
       "                <pre>ResponseFunctionToolCall(arguments='{\"city\":\"Seattle\"}', call_id='call_a9EGXB9DO2JhNSgJv8VpBB1J', name='get_weather', type='function_call', id='fc_6885c28bedc0819e9d36a672c2e7f17c043b07c23684c1cb', status='completed')</pre>\n",
       "            </div>\n",
       "            <div>\n",
       "                <b>Output</b>\n",
       "                <pre>1.2</pre>\n",
       "            </div>\n",
       "            \n",
       "            </details>\n",
       "        "
      ],
      "text/plain": [
       "<IPython.core.display.HTML object>"
      ]
     },
     "metadata": {},
     "output_type": "display_data"
    },
    {
     "data": {
      "text/html": [
       "\n",
       "            <details>\n",
       "            <summary>Function call: <tt>get_weather({\"city\":\"San Diego\"})</tt></summary>\n",
       "            <div>\n",
       "                <b>Call</b>\n",
       "                <pre>ResponseFunctionToolCall(arguments='{\"city\":\"San Diego\"}', call_id='call_LiVPktidJchSPjl44CcBm6Bt', name='get_weather', type='function_call', id='fc_6885c28c1854819ea59075d8730bf15b043b07c23684c1cb', status='completed')</pre>\n",
       "            </div>\n",
       "            <div>\n",
       "                <b>Output</b>\n",
       "                <pre>6.2</pre>\n",
       "            </div>\n",
       "            \n",
       "            </details>\n",
       "        "
      ],
      "text/plain": [
       "<IPython.core.display.HTML object>"
      ]
     },
     "metadata": {},
     "output_type": "display_data"
    },
    {
     "data": {
      "text/html": [
       "\n",
       "            <details>\n",
       "            <summary>Function call: <tt>get_weather({\"city\":\"Portland\"})</tt></summary>\n",
       "            <div>\n",
       "                <b>Call</b>\n",
       "                <pre>ResponseFunctionToolCall(arguments='{\"city\":\"Portland\"}', call_id='call_9SYiIM1R2FkVmveWkrR81gwc', name='get_weather', type='function_call', id='fc_6885c28c445c819ea670548cad9d438b043b07c23684c1cb', status='completed')</pre>\n",
       "            </div>\n",
       "            <div>\n",
       "                <b>Output</b>\n",
       "                <pre>12.1</pre>\n",
       "            </div>\n",
       "            \n",
       "            </details>\n",
       "        "
      ],
      "text/plain": [
       "<IPython.core.display.HTML object>"
      ]
     },
     "metadata": {},
     "output_type": "display_data"
    },
    {
     "data": {
      "text/html": [
       "\n",
       "            <details>\n",
       "            <summary>Function call: <tt>set_weather({\"city\":\"Los Angeles\",\"temp\":30})</tt></summary>\n",
       "            <div>\n",
       "                <b>Call</b>\n",
       "                <pre>ResponseFunctionToolCall(arguments='{\"city\":\"Los Angeles\",\"temp\":30}', call_id='call_2e52Ev9S3hKw0JRAMqqY63JU', name='set_weather', type='function_call', id='fc_6885c28d4a54819e8574e5d952403010043b07c23684c1cb', status='completed')</pre>\n",
       "            </div>\n",
       "            <div>\n",
       "                <b>Output</b>\n",
       "                <pre>\"OK\"</pre>\n",
       "            </div>\n",
       "            \n",
       "            </details>\n",
       "        "
      ],
      "text/plain": [
       "<IPython.core.display.HTML object>"
      ]
     },
     "metadata": {},
     "output_type": "display_data"
    },
    {
     "data": {
      "text/html": [
       "\n",
       "            <details>\n",
       "            <summary>Function call: <tt>set_weather({\"city\":\"San Francisco\",\"temp\":49})</tt></summary>\n",
       "            <div>\n",
       "                <b>Call</b>\n",
       "                <pre>ResponseFunctionToolCall(arguments='{\"city\":\"San Francisco\",\"temp\":49}', call_id='call_MYu3ByZkpd1GIQEpTtAcpqC8', name='set_weather', type='function_call', id='fc_6885c28e0688819ebdb0fbbba6384ed8043b07c23684c1cb', status='completed')</pre>\n",
       "            </div>\n",
       "            <div>\n",
       "                <b>Output</b>\n",
       "                <pre>\"OK\"</pre>\n",
       "            </div>\n",
       "            \n",
       "            </details>\n",
       "        "
      ],
      "text/plain": [
       "<IPython.core.display.HTML object>"
      ]
     },
     "metadata": {},
     "output_type": "display_data"
    },
    {
     "data": {
      "text/html": [
       "\n",
       "            <details>\n",
       "            <summary>Function call: <tt>set_weather({\"city\":\"Seattle\",\"temp\":34})</tt></summary>\n",
       "            <div>\n",
       "                <b>Call</b>\n",
       "                <pre>ResponseFunctionToolCall(arguments='{\"city\":\"Seattle\",\"temp\":34}', call_id='call_1EBvVOwSdJtru48lapdp4VqJ', name='set_weather', type='function_call', id='fc_6885c28e225c819e80cd1950b958e07b043b07c23684c1cb', status='completed')</pre>\n",
       "            </div>\n",
       "            <div>\n",
       "                <b>Output</b>\n",
       "                <pre>\"OK\"</pre>\n",
       "            </div>\n",
       "            \n",
       "            </details>\n",
       "        "
      ],
      "text/plain": [
       "<IPython.core.display.HTML object>"
      ]
     },
     "metadata": {},
     "output_type": "display_data"
    },
    {
     "data": {
      "text/html": [
       "\n",
       "            <details>\n",
       "            <summary>Function call: <tt>set_weather({\"city\":\"San Diego\",\"temp\":43})</tt></summary>\n",
       "            <div>\n",
       "                <b>Call</b>\n",
       "                <pre>ResponseFunctionToolCall(arguments='{\"city\":\"San Diego\",\"temp\":43}', call_id='call_egch8XAh6cnq0uNVk8KvahGn', name='set_weather', type='function_call', id='fc_6885c28e3238819eb2ce8e7516cfd368043b07c23684c1cb', status='completed')</pre>\n",
       "            </div>\n",
       "            <div>\n",
       "                <b>Output</b>\n",
       "                <pre>\"OK\"</pre>\n",
       "            </div>\n",
       "            \n",
       "            </details>\n",
       "        "
      ],
      "text/plain": [
       "<IPython.core.display.HTML object>"
      ]
     },
     "metadata": {},
     "output_type": "display_data"
    },
    {
     "data": {
      "text/html": [
       "\n",
       "            <details>\n",
       "            <summary>Function call: <tt>set_weather({\"city\":\"Portland\",\"temp\":54})</tt></summary>\n",
       "            <div>\n",
       "                <b>Call</b>\n",
       "                <pre>ResponseFunctionToolCall(arguments='{\"city\":\"Portland\",\"temp\":54}', call_id='call_jyKqfmLiOUWoqJYuz9OsXTlR', name='set_weather', type='function_call', id='fc_6885c28e3d90819eb05298e07dbc9857043b07c23684c1cb', status='completed')</pre>\n",
       "            </div>\n",
       "            <div>\n",
       "                <b>Output</b>\n",
       "                <pre>\"OK\"</pre>\n",
       "            </div>\n",
       "            \n",
       "            </details>\n",
       "        "
      ],
      "text/plain": [
       "<IPython.core.display.HTML object>"
      ]
     },
     "metadata": {},
     "output_type": "display_data"
    },
    {
     "data": {
      "text/html": [
       "\n",
       "            <div>\n",
       "                <div><b>Assistant:</b></div>\n",
       "                <div><p>I've successfully gathered the current weather for the major West Coast cities and added them to the database:</p>\n",
       "<ul>\n",
       "<li><strong>Los Angeles:</strong> 30°F</li>\n",
       "<li><strong>San Francisco:</strong> 49°F</li>\n",
       "<li><strong>Seattle:</strong> 34°F</li>\n",
       "<li><strong>San Diego:</strong> 43°F</li>\n",
       "<li><strong>Portland:</strong> 54°F</li>\n",
       "</ul>\n",
       "<p>Would you like to check the weather for any other regions or cities?</p></div>\n",
       "            </div>\n",
       "        "
      ],
      "text/plain": [
       "<IPython.core.display.HTML object>"
      ]
     },
     "metadata": {},
     "output_type": "display_data"
    },
    {
     "name": "stdin",
     "output_type": "stream",
     "text": [
      "You: Five More Cities \n"
     ]
    },
    {
     "data": {
      "text/html": [
       "\n",
       "            <div>\n",
       "                <div><b>Assistant:</b></div>\n",
       "                <div><p>Please specify which five cities you'd like to add next. You can choose cities from anywhere in the U.S. or specific regions!</p></div>\n",
       "            </div>\n",
       "        "
      ],
      "text/plain": [
       "<IPython.core.display.HTML object>"
      ]
     },
     "metadata": {},
     "output_type": "display_data"
    },
    {
     "name": "stdin",
     "output_type": "stream",
     "text": [
      "You: east Coast Cities\n"
     ]
    },
    {
     "data": {
      "text/html": [
       "\n",
       "            <div>\n",
       "                <div><b>Assistant:</b></div>\n",
       "                <div><p>Here are some major East Coast cities in the U.S.:</p>\n",
       "<ol>\n",
       "<li>New York City, New York</li>\n",
       "<li>Boston, Massachusetts</li>\n",
       "<li>Washington, D.C.</li>\n",
       "<li>Philadelphia, Pennsylvania</li>\n",
       "<li>Miami, Florida</li>\n",
       "</ol>\n",
       "<p>Shall I gather the current weather information for all of these cities?</p></div>\n",
       "            </div>\n",
       "        "
      ],
      "text/plain": [
       "<IPython.core.display.HTML object>"
      ]
     },
     "metadata": {},
     "output_type": "display_data"
    },
    {
     "name": "stdin",
     "output_type": "stream",
     "text": [
      "You: YEs\n"
     ]
    },
    {
     "data": {
      "text/html": [
       "\n",
       "            <details>\n",
       "            <summary>Function call: <tt>get_weather({\"city\":\"New York City\"})</tt></summary>\n",
       "            <div>\n",
       "                <b>Call</b>\n",
       "                <pre>ResponseFunctionToolCall(arguments='{\"city\":\"New York City\"}', call_id='call_ohZN5v2yW2NWAy3Gbp2NxbC2', name='get_weather', type='function_call', id='fc_6885c2ad3624819e856555698777c367043b07c23684c1cb', status='completed')</pre>\n",
       "            </div>\n",
       "            <div>\n",
       "                <b>Output</b>\n",
       "                <pre>15.7</pre>\n",
       "            </div>\n",
       "            \n",
       "            </details>\n",
       "        "
      ],
      "text/plain": [
       "<IPython.core.display.HTML object>"
      ]
     },
     "metadata": {},
     "output_type": "display_data"
    },
    {
     "data": {
      "text/html": [
       "\n",
       "            <details>\n",
       "            <summary>Function call: <tt>get_weather({\"city\":\"Boston\"})</tt></summary>\n",
       "            <div>\n",
       "                <b>Call</b>\n",
       "                <pre>ResponseFunctionToolCall(arguments='{\"city\":\"Boston\"}', call_id='call_saMmu2PJTNhT3bkiD3qo8t3a', name='get_weather', type='function_call', id='fc_6885c2ae2e70819eb834cfddd84eceda043b07c23684c1cb', status='completed')</pre>\n",
       "            </div>\n",
       "            <div>\n",
       "                <b>Output</b>\n",
       "                <pre>13.9</pre>\n",
       "            </div>\n",
       "            \n",
       "            </details>\n",
       "        "
      ],
      "text/plain": [
       "<IPython.core.display.HTML object>"
      ]
     },
     "metadata": {},
     "output_type": "display_data"
    },
    {
     "data": {
      "text/html": [
       "\n",
       "            <details>\n",
       "            <summary>Function call: <tt>get_weather({\"city\":\"Washington, D.C.\"})</tt></summary>\n",
       "            <div>\n",
       "                <b>Call</b>\n",
       "                <pre>ResponseFunctionToolCall(arguments='{\"city\":\"Washington, D.C.\"}', call_id='call_vcDSTUT5uGAptPrHRKZy5EDI', name='get_weather', type='function_call', id='fc_6885c2af16b0819eb1d69bbeb9d1ee26043b07c23684c1cb', status='completed')</pre>\n",
       "            </div>\n",
       "            <div>\n",
       "                <b>Output</b>\n",
       "                <pre>2.4</pre>\n",
       "            </div>\n",
       "            \n",
       "            </details>\n",
       "        "
      ],
      "text/plain": [
       "<IPython.core.display.HTML object>"
      ]
     },
     "metadata": {},
     "output_type": "display_data"
    },
    {
     "data": {
      "text/html": [
       "\n",
       "            <details>\n",
       "            <summary>Function call: <tt>get_weather({\"city\":\"Philadelphia\"})</tt></summary>\n",
       "            <div>\n",
       "                <b>Call</b>\n",
       "                <pre>ResponseFunctionToolCall(arguments='{\"city\":\"Philadelphia\"}', call_id='call_okerYQ1SKy21q9c9YmK26ZxL', name='get_weather', type='function_call', id='fc_6885c2b0b754819e8e7a9a63c9e40807043b07c23684c1cb', status='completed')</pre>\n",
       "            </div>\n",
       "            <div>\n",
       "                <b>Output</b>\n",
       "                <pre>27.9</pre>\n",
       "            </div>\n",
       "            \n",
       "            </details>\n",
       "        "
      ],
      "text/plain": [
       "<IPython.core.display.HTML object>"
      ]
     },
     "metadata": {},
     "output_type": "display_data"
    },
    {
     "data": {
      "text/html": [
       "\n",
       "            <details>\n",
       "            <summary>Function call: <tt>get_weather({\"city\":\"Miami\"})</tt></summary>\n",
       "            <div>\n",
       "                <b>Call</b>\n",
       "                <pre>ResponseFunctionToolCall(arguments='{\"city\":\"Miami\"}', call_id='call_G2HrILfkASXOeBJ5nHgFpwZ7', name='get_weather', type='function_call', id='fc_6885c2b18668819e9d0850d858ce3449043b07c23684c1cb', status='completed')</pre>\n",
       "            </div>\n",
       "            <div>\n",
       "                <b>Output</b>\n",
       "                <pre>9.9</pre>\n",
       "            </div>\n",
       "            \n",
       "            </details>\n",
       "        "
      ],
      "text/plain": [
       "<IPython.core.display.HTML object>"
      ]
     },
     "metadata": {},
     "output_type": "display_data"
    },
    {
     "data": {
      "text/html": [
       "\n",
       "            <details>\n",
       "            <summary>Function call: <tt>set_weather({\"city\":\"New York City\",\"temp\":60})</tt></summary>\n",
       "            <div>\n",
       "                <b>Call</b>\n",
       "                <pre>ResponseFunctionToolCall(arguments='{\"city\":\"New York City\",\"temp\":60}', call_id='call_6pyk4XC9AnHKSNdNWzNGL9Ew', name='set_weather', type='function_call', id='fc_6885c2b2f29c819e9279b38f2f78e645043b07c23684c1cb', status='completed')</pre>\n",
       "            </div>\n",
       "            <div>\n",
       "                <b>Output</b>\n",
       "                <pre>\"OK\"</pre>\n",
       "            </div>\n",
       "            \n",
       "            </details>\n",
       "        "
      ],
      "text/plain": [
       "<IPython.core.display.HTML object>"
      ]
     },
     "metadata": {},
     "output_type": "display_data"
    },
    {
     "data": {
      "text/html": [
       "\n",
       "            <details>\n",
       "            <summary>Function call: <tt>set_weather({\"city\":\"Boston\",\"temp\":57})</tt></summary>\n",
       "            <div>\n",
       "                <b>Call</b>\n",
       "                <pre>ResponseFunctionToolCall(arguments='{\"city\":\"Boston\",\"temp\":57}', call_id='call_SXEExYFXhbMYguBcYM3UDzr5', name='set_weather', type='function_call', id='fc_6885c2b331c0819ebb8279938e4297b4043b07c23684c1cb', status='completed')</pre>\n",
       "            </div>\n",
       "            <div>\n",
       "                <b>Output</b>\n",
       "                <pre>\"OK\"</pre>\n",
       "            </div>\n",
       "            \n",
       "            </details>\n",
       "        "
      ],
      "text/plain": [
       "<IPython.core.display.HTML object>"
      ]
     },
     "metadata": {},
     "output_type": "display_data"
    },
    {
     "data": {
      "text/html": [
       "\n",
       "            <details>\n",
       "            <summary>Function call: <tt>set_weather({\"city\":\"Washington, D.C.\",\"temp\":36})</tt></summary>\n",
       "            <div>\n",
       "                <b>Call</b>\n",
       "                <pre>ResponseFunctionToolCall(arguments='{\"city\":\"Washington, D.C.\",\"temp\":36}', call_id='call_mcV7NVJlXXg1wrPSay99bezz', name='set_weather', type='function_call', id='fc_6885c2b379f8819e8f4702c3a45d7cbb043b07c23684c1cb', status='completed')</pre>\n",
       "            </div>\n",
       "            <div>\n",
       "                <b>Output</b>\n",
       "                <pre>\"OK\"</pre>\n",
       "            </div>\n",
       "            \n",
       "            </details>\n",
       "        "
      ],
      "text/plain": [
       "<IPython.core.display.HTML object>"
      ]
     },
     "metadata": {},
     "output_type": "display_data"
    },
    {
     "data": {
      "text/html": [
       "\n",
       "            <details>\n",
       "            <summary>Function call: <tt>set_weather({\"city\":\"Philadelphia\",\"temp\":82})</tt></summary>\n",
       "            <div>\n",
       "                <b>Call</b>\n",
       "                <pre>ResponseFunctionToolCall(arguments='{\"city\":\"Philadelphia\",\"temp\":82}', call_id='call_YrmM66YfmTJdBWDNYdOAS8IO', name='set_weather', type='function_call', id='fc_6885c2b3c12c819eb1f8bcf212215931043b07c23684c1cb', status='completed')</pre>\n",
       "            </div>\n",
       "            <div>\n",
       "                <b>Output</b>\n",
       "                <pre>\"OK\"</pre>\n",
       "            </div>\n",
       "            \n",
       "            </details>\n",
       "        "
      ],
      "text/plain": [
       "<IPython.core.display.HTML object>"
      ]
     },
     "metadata": {},
     "output_type": "display_data"
    },
    {
     "data": {
      "text/html": [
       "\n",
       "            <details>\n",
       "            <summary>Function call: <tt>set_weather({\"city\":\"Miami\",\"temp\":49})</tt></summary>\n",
       "            <div>\n",
       "                <b>Call</b>\n",
       "                <pre>ResponseFunctionToolCall(arguments='{\"city\":\"Miami\",\"temp\":49}', call_id='call_zGfllaQMTWdSxjRvKtODM6B7', name='set_weather', type='function_call', id='fc_6885c2b41374819e8552470bf1f96be7043b07c23684c1cb', status='completed')</pre>\n",
       "            </div>\n",
       "            <div>\n",
       "                <b>Output</b>\n",
       "                <pre>\"OK\"</pre>\n",
       "            </div>\n",
       "            \n",
       "            </details>\n",
       "        "
      ],
      "text/plain": [
       "<IPython.core.display.HTML object>"
      ]
     },
     "metadata": {},
     "output_type": "display_data"
    },
    {
     "data": {
      "text/html": [
       "\n",
       "            <div>\n",
       "                <div><b>Assistant:</b></div>\n",
       "                <div><p>I've gathered the current weather for the major East Coast cities and added them to the database:</p>\n",
       "<ul>\n",
       "<li><strong>New York City:</strong> 60°F</li>\n",
       "<li><strong>Boston:</strong> 57°F</li>\n",
       "<li><strong>Washington, D.C.:</strong> 36°F</li>\n",
       "<li><strong>Philadelphia:</strong> 82°F</li>\n",
       "<li><strong>Miami:</strong> 49°F</li>\n",
       "</ul>\n",
       "<p>Would you like to explore more cities, or need information about anything else?</p></div>\n",
       "            </div>\n",
       "        "
      ],
      "text/plain": [
       "<IPython.core.display.HTML object>"
      ]
     },
     "metadata": {},
     "output_type": "display_data"
    },
    {
     "name": "stdin",
     "output_type": "stream",
     "text": [
      "You: stop\n"
     ]
    },
    {
     "name": "stdout",
     "output_type": "stream",
     "text": [
      "Chat ended.\n"
     ]
    }
   ],
   "source": [
    "chat.run()"
   ]
  },
  {
   "cell_type": "markdown",
   "id": "8c03e381-4f3e-439f-9996-001e567c77aa",
   "metadata": {},
   "source": [
    "#### Question 2 : Adding another tool"
   ]
  },
  {
   "cell_type": "code",
   "execution_count": 18,
   "id": "5082e5d4-12f7-44ac-a410-380b419749ec",
   "metadata": {},
   "outputs": [],
   "source": [
    "def set_weather(city: str, temp: float) -> None:\n",
    "    city = city.strip().lower()\n",
    "    known_weather_data[city] = temp\n",
    "    return 'OK'"
   ]
  },
  {
   "cell_type": "code",
   "execution_count": 19,
   "id": "4cd332f6-423f-4c4a-97a0-beb46e1b4126",
   "metadata": {},
   "outputs": [],
   "source": [
    "set_weather_tool = {\n",
    "    \"type\": \"function\",\n",
    "    \"name\": \"set_weather\",\n",
    "    \"description\": \"Set the Weather of the City\",\n",
    "    \"parameters\": {\n",
    "        \"type\": \"object\",\n",
    "        \"properties\": {\n",
    "            \"city\": {\"type\": \"string\", \"description\": \"Which city's weather?\"},\n",
    "            \"temp\": {\"type\": \"number\", \"description\": \"Temperature in Fahrenheit?\"}\n",
    "        },\n",
    "        \"required\": [\"city\", \"temp\"],\n",
    "        \"additionalProperties\": False\n",
    "    }\n",
    "}"
   ]
  },
  {
   "cell_type": "code",
   "execution_count": 20,
   "id": "39a9eba5-7e00-4fd1-9629-a174920575bc",
   "metadata": {},
   "outputs": [],
   "source": [
    "tools.add_tool(set_weather,set_weather_tool)"
   ]
  },
  {
   "cell_type": "code",
   "execution_count": 21,
   "id": "c0d927eb-bb94-4e30-a8d3-a57c33d8f7a6",
   "metadata": {},
   "outputs": [
    {
     "data": {
      "text/plain": [
       "[{'type': 'function',\n",
       "  'name': 'get_weather',\n",
       "  'description': 'Fetch the Weather of the City',\n",
       "  'parameters': {'type': 'object',\n",
       "   'properties': {'city': {'type': 'string',\n",
       "     'description': \"Which city's weather ?\"}},\n",
       "   'required': ['city'],\n",
       "   'additionalProperties': False}},\n",
       " {'type': 'function',\n",
       "  'name': 'set_weather',\n",
       "  'description': 'Set the Weather of the City',\n",
       "  'parameters': {'type': 'object',\n",
       "   'properties': {'city': {'type': 'string',\n",
       "     'description': \"Which city's weather?\"},\n",
       "    'temp': {'type': 'number', 'description': 'Temperature in Fahrenheit?'}},\n",
       "   'required': ['city', 'temp'],\n",
       "   'additionalProperties': False}}]"
      ]
     },
     "execution_count": 21,
     "metadata": {},
     "output_type": "execute_result"
    }
   ],
   "source": [
    "tools.get_tools()"
   ]
  },
  {
   "cell_type": "code",
   "execution_count": 24,
   "id": "3b1c2dbd-8b04-41fd-b716-13e69d2d09ea",
   "metadata": {},
   "outputs": [
    {
     "data": {
      "text/plain": [
       "{'berlin': 20.0,\n",
       " 'los angeles': 30,\n",
       " 'san francisco': 49,\n",
       " 'seattle': 34,\n",
       " 'san diego': 43,\n",
       " 'portland': 54,\n",
       " 'new york city': 60,\n",
       " 'boston': 57,\n",
       " 'washington, d.c.': 36,\n",
       " 'philadelphia': 82,\n",
       " 'miami': 49}"
      ]
     },
     "execution_count": 24,
     "metadata": {},
     "output_type": "execute_result"
    }
   ],
   "source": [
    "known_weather_data"
   ]
  },
  {
   "cell_type": "code",
   "execution_count": null,
   "id": "1418f1e7-b691-47a7-8661-862d357b2d87",
   "metadata": {},
   "outputs": [],
   "source": [
    "chat.run()"
   ]
  },
  {
   "cell_type": "markdown",
   "id": "391cd4b2-9455-460b-863a-c8b732ae8a14",
   "metadata": {},
   "source": [
    "#### Question 3 :"
   ]
  },
  {
   "cell_type": "code",
   "execution_count": 4,
   "id": "15cb41dd-0219-41c8-8d81-493cca571790",
   "metadata": {},
   "outputs": [
    {
     "name": "stderr",
     "output_type": "stream",
     "text": [
      "/usr/local/python/3.12.1/lib/python3.12/pty.py:95: DeprecationWarning: This process (pid=2842) is multi-threaded, use of forkpty() may lead to deadlocks in the child.\n",
      "  pid, fd = os.forkpty()\n"
     ]
    },
    {
     "name": "stdout",
     "output_type": "stream",
     "text": [
      "Requirement already satisfied: fastmcp in /usr/local/python/3.12.1/lib/python3.12/site-packages (2.10.6)\n",
      "Requirement already satisfied: authlib>=1.5.2 in /usr/local/python/3.12.1/lib/python3.12/site-packages (from fastmcp) (1.6.1)\n",
      "Requirement already satisfied: cyclopts>=3.0.0 in /usr/local/python/3.12.1/lib/python3.12/site-packages (from fastmcp) (3.22.3)\n",
      "Requirement already satisfied: exceptiongroup>=1.2.2 in /usr/local/python/3.12.1/lib/python3.12/site-packages (from fastmcp) (1.3.0)\n",
      "Requirement already satisfied: httpx>=0.28.1 in /home/codespace/.local/lib/python3.12/site-packages (from fastmcp) (0.28.1)\n",
      "Requirement already satisfied: mcp>=1.10.0 in /usr/local/python/3.12.1/lib/python3.12/site-packages (from fastmcp) (1.12.2)\n",
      "Requirement already satisfied: openapi-pydantic>=0.5.1 in /usr/local/python/3.12.1/lib/python3.12/site-packages (from fastmcp) (0.5.1)\n",
      "Requirement already satisfied: pydantic>=2.11.7 in /usr/local/python/3.12.1/lib/python3.12/site-packages (from pydantic[email]>=2.11.7->fastmcp) (2.11.7)\n",
      "Requirement already satisfied: pyperclip>=1.9.0 in /usr/local/python/3.12.1/lib/python3.12/site-packages (from fastmcp) (1.9.0)\n",
      "Requirement already satisfied: python-dotenv>=1.1.0 in /usr/local/python/3.12.1/lib/python3.12/site-packages (from fastmcp) (1.1.1)\n",
      "Requirement already satisfied: rich>=13.9.4 in /usr/local/python/3.12.1/lib/python3.12/site-packages (from fastmcp) (14.0.0)\n",
      "Requirement already satisfied: cryptography in /usr/local/python/3.12.1/lib/python3.12/site-packages (from authlib>=1.5.2->fastmcp) (45.0.4)\n",
      "Requirement already satisfied: attrs>=23.1.0 in /home/codespace/.local/lib/python3.12/site-packages (from cyclopts>=3.0.0->fastmcp) (25.3.0)\n",
      "Requirement already satisfied: docstring-parser>=0.15 in /usr/local/python/3.12.1/lib/python3.12/site-packages (from cyclopts>=3.0.0->fastmcp) (0.16)\n",
      "Requirement already satisfied: rich-rst<2.0.0,>=1.3.1 in /usr/local/python/3.12.1/lib/python3.12/site-packages (from cyclopts>=3.0.0->fastmcp) (1.3.1)\n",
      "Requirement already satisfied: docutils in /usr/local/python/3.12.1/lib/python3.12/site-packages (from rich-rst<2.0.0,>=1.3.1->cyclopts>=3.0.0->fastmcp) (0.21.2)\n",
      "Requirement already satisfied: typing-extensions>=4.6.0 in /usr/local/python/3.12.1/lib/python3.12/site-packages (from exceptiongroup>=1.2.2->fastmcp) (4.12.2)\n",
      "Requirement already satisfied: anyio in /home/codespace/.local/lib/python3.12/site-packages (from httpx>=0.28.1->fastmcp) (4.9.0)\n",
      "Requirement already satisfied: certifi in /home/codespace/.local/lib/python3.12/site-packages (from httpx>=0.28.1->fastmcp) (2025.4.26)\n",
      "Requirement already satisfied: httpcore==1.* in /home/codespace/.local/lib/python3.12/site-packages (from httpx>=0.28.1->fastmcp) (1.0.9)\n",
      "Requirement already satisfied: idna in /home/codespace/.local/lib/python3.12/site-packages (from httpx>=0.28.1->fastmcp) (3.10)\n",
      "Requirement already satisfied: h11>=0.16 in /home/codespace/.local/lib/python3.12/site-packages (from httpcore==1.*->httpx>=0.28.1->fastmcp) (0.16.0)\n",
      "Requirement already satisfied: httpx-sse>=0.4 in /usr/local/python/3.12.1/lib/python3.12/site-packages (from mcp>=1.10.0->fastmcp) (0.4.0)\n",
      "Requirement already satisfied: jsonschema>=4.20.0 in /home/codespace/.local/lib/python3.12/site-packages (from mcp>=1.10.0->fastmcp) (4.24.0)\n",
      "Requirement already satisfied: pydantic-settings>=2.5.2 in /usr/local/python/3.12.1/lib/python3.12/site-packages (from mcp>=1.10.0->fastmcp) (2.10.1)\n",
      "Requirement already satisfied: python-multipart>=0.0.9 in /usr/local/python/3.12.1/lib/python3.12/site-packages (from mcp>=1.10.0->fastmcp) (0.0.20)\n",
      "Requirement already satisfied: sse-starlette>=1.6.1 in /usr/local/python/3.12.1/lib/python3.12/site-packages (from mcp>=1.10.0->fastmcp) (3.0.0)\n",
      "Requirement already satisfied: starlette>=0.27 in /usr/local/python/3.12.1/lib/python3.12/site-packages (from mcp>=1.10.0->fastmcp) (0.45.3)\n",
      "Requirement already satisfied: uvicorn>=0.23.1 in /usr/local/python/3.12.1/lib/python3.12/site-packages (from mcp>=1.10.0->fastmcp) (0.35.0)\n",
      "Requirement already satisfied: annotated-types>=0.6.0 in /usr/local/python/3.12.1/lib/python3.12/site-packages (from pydantic>=2.11.7->pydantic[email]>=2.11.7->fastmcp) (0.7.0)\n",
      "Requirement already satisfied: pydantic-core==2.33.2 in /usr/local/python/3.12.1/lib/python3.12/site-packages (from pydantic>=2.11.7->pydantic[email]>=2.11.7->fastmcp) (2.33.2)\n",
      "Requirement already satisfied: typing-inspection>=0.4.0 in /usr/local/python/3.12.1/lib/python3.12/site-packages (from pydantic>=2.11.7->pydantic[email]>=2.11.7->fastmcp) (0.4.1)\n",
      "Requirement already satisfied: sniffio>=1.1 in /home/codespace/.local/lib/python3.12/site-packages (from anyio->httpx>=0.28.1->fastmcp) (1.3.1)\n",
      "Requirement already satisfied: jsonschema-specifications>=2023.03.6 in /home/codespace/.local/lib/python3.12/site-packages (from jsonschema>=4.20.0->mcp>=1.10.0->fastmcp) (2025.4.1)\n",
      "Requirement already satisfied: referencing>=0.28.4 in /home/codespace/.local/lib/python3.12/site-packages (from jsonschema>=4.20.0->mcp>=1.10.0->fastmcp) (0.36.2)\n",
      "Requirement already satisfied: rpds-py>=0.7.1 in /home/codespace/.local/lib/python3.12/site-packages (from jsonschema>=4.20.0->mcp>=1.10.0->fastmcp) (0.25.1)\n",
      "Requirement already satisfied: email-validator>=2.0.0 in /usr/local/python/3.12.1/lib/python3.12/site-packages (from pydantic[email]>=2.11.7->fastmcp) (2.2.0)\n",
      "Requirement already satisfied: dnspython>=2.0.0 in /usr/local/python/3.12.1/lib/python3.12/site-packages (from email-validator>=2.0.0->pydantic[email]>=2.11.7->fastmcp) (2.7.0)\n",
      "Requirement already satisfied: markdown-it-py>=2.2.0 in /usr/local/python/3.12.1/lib/python3.12/site-packages (from rich>=13.9.4->fastmcp) (3.0.0)\n",
      "Requirement already satisfied: pygments<3.0.0,>=2.13.0 in /home/codespace/.local/lib/python3.12/site-packages (from rich>=13.9.4->fastmcp) (2.19.1)\n",
      "Requirement already satisfied: mdurl~=0.1 in /usr/local/python/3.12.1/lib/python3.12/site-packages (from markdown-it-py>=2.2.0->rich>=13.9.4->fastmcp) (0.1.2)\n",
      "Requirement already satisfied: click>=7.0 in /usr/local/python/3.12.1/lib/python3.12/site-packages (from uvicorn>=0.23.1->mcp>=1.10.0->fastmcp) (8.2.1)\n",
      "Requirement already satisfied: cffi>=1.14 in /home/codespace/.local/lib/python3.12/site-packages (from cryptography->authlib>=1.5.2->fastmcp) (1.17.1)\n",
      "Requirement already satisfied: pycparser in /home/codespace/.local/lib/python3.12/site-packages (from cffi>=1.14->cryptography->authlib>=1.5.2->fastmcp) (2.22)\n"
     ]
    }
   ],
   "source": [
    "!pip install fastmcp"
   ]
  },
  {
   "cell_type": "code",
   "execution_count": 5,
   "id": "e3bc3e77-ca20-4f54-bab6-8a90cb3b97f6",
   "metadata": {},
   "outputs": [
    {
     "name": "stdout",
     "output_type": "stream",
     "text": [
      "FastMCP version: 2.10.6\n"
     ]
    }
   ],
   "source": [
    "import importlib.metadata\n",
    "\n",
    "version = importlib.metadata.version(\"fastmcp\")\n",
    "print(\"FastMCP version:\", version)"
   ]
  },
  {
   "cell_type": "code",
   "execution_count": 2,
   "id": "1a196a60-b236-4587-8438-ad525dbbe5a6",
   "metadata": {},
   "outputs": [
    {
     "ename": "RuntimeError",
     "evalue": "Already running asyncio in this thread",
     "output_type": "error",
     "traceback": [
      "\u001b[31m---------------------------------------------------------------------------\u001b[39m",
      "\u001b[31mRuntimeError\u001b[39m                              Traceback (most recent call last)",
      "\u001b[36mCell\u001b[39m\u001b[36m \u001b[39m\u001b[32mIn[2]\u001b[39m\u001b[32m, line 12\u001b[39m\n\u001b[32m      9\u001b[39m     \u001b[38;5;28;01mreturn\u001b[39;00m a + b\n\u001b[32m     11\u001b[39m \u001b[38;5;28;01mif\u001b[39;00m \u001b[34m__name__\u001b[39m == \u001b[33m\"\u001b[39m\u001b[33m__main__\u001b[39m\u001b[33m\"\u001b[39m:\n\u001b[32m---> \u001b[39m\u001b[32m12\u001b[39m     \u001b[43mmcp\u001b[49m\u001b[43m.\u001b[49m\u001b[43mrun\u001b[49m\u001b[43m(\u001b[49m\u001b[43m)\u001b[49m\n",
      "\u001b[36mFile \u001b[39m\u001b[32m/usr/local/python/3.12.1/lib/python3.12/site-packages/fastmcp/server/server.py:328\u001b[39m, in \u001b[36mFastMCP.run\u001b[39m\u001b[34m(self, transport, show_banner, **transport_kwargs)\u001b[39m\n\u001b[32m    316\u001b[39m \u001b[38;5;28;01mdef\u001b[39;00m\u001b[38;5;250m \u001b[39m\u001b[34mrun\u001b[39m(\n\u001b[32m    317\u001b[39m     \u001b[38;5;28mself\u001b[39m,\n\u001b[32m    318\u001b[39m     transport: Transport | \u001b[38;5;28;01mNone\u001b[39;00m = \u001b[38;5;28;01mNone\u001b[39;00m,\n\u001b[32m    319\u001b[39m     show_banner: \u001b[38;5;28mbool\u001b[39m = \u001b[38;5;28;01mTrue\u001b[39;00m,\n\u001b[32m    320\u001b[39m     **transport_kwargs: Any,\n\u001b[32m    321\u001b[39m ) -> \u001b[38;5;28;01mNone\u001b[39;00m:\n\u001b[32m    322\u001b[39m \u001b[38;5;250m    \u001b[39m\u001b[33;03m\"\"\"Run the FastMCP server. Note this is a synchronous function.\u001b[39;00m\n\u001b[32m    323\u001b[39m \n\u001b[32m    324\u001b[39m \u001b[33;03m    Args:\u001b[39;00m\n\u001b[32m    325\u001b[39m \u001b[33;03m        transport: Transport protocol to use (\"stdio\", \"sse\", or \"streamable-http\")\u001b[39;00m\n\u001b[32m    326\u001b[39m \u001b[33;03m    \"\"\"\u001b[39;00m\n\u001b[32m--> \u001b[39m\u001b[32m328\u001b[39m     \u001b[43manyio\u001b[49m\u001b[43m.\u001b[49m\u001b[43mrun\u001b[49m\u001b[43m(\u001b[49m\n\u001b[32m    329\u001b[39m \u001b[43m        \u001b[49m\u001b[43mpartial\u001b[49m\u001b[43m(\u001b[49m\n\u001b[32m    330\u001b[39m \u001b[43m            \u001b[49m\u001b[38;5;28;43mself\u001b[39;49m\u001b[43m.\u001b[49m\u001b[43mrun_async\u001b[49m\u001b[43m,\u001b[49m\n\u001b[32m    331\u001b[39m \u001b[43m            \u001b[49m\u001b[43mtransport\u001b[49m\u001b[43m,\u001b[49m\n\u001b[32m    332\u001b[39m \u001b[43m            \u001b[49m\u001b[43mshow_banner\u001b[49m\u001b[43m=\u001b[49m\u001b[43mshow_banner\u001b[49m\u001b[43m,\u001b[49m\n\u001b[32m    333\u001b[39m \u001b[43m            \u001b[49m\u001b[43m*\u001b[49m\u001b[43m*\u001b[49m\u001b[43mtransport_kwargs\u001b[49m\u001b[43m,\u001b[49m\n\u001b[32m    334\u001b[39m \u001b[43m        \u001b[49m\u001b[43m)\u001b[49m\n\u001b[32m    335\u001b[39m \u001b[43m    \u001b[49m\u001b[43m)\u001b[49m\n",
      "\u001b[36mFile \u001b[39m\u001b[32m~/.local/lib/python3.12/site-packages/anyio/_core/_eventloop.py:59\u001b[39m, in \u001b[36mrun\u001b[39m\u001b[34m(func, backend, backend_options, *args)\u001b[39m\n\u001b[32m     57\u001b[39m     \u001b[38;5;28;01mpass\u001b[39;00m\n\u001b[32m     58\u001b[39m \u001b[38;5;28;01melse\u001b[39;00m:\n\u001b[32m---> \u001b[39m\u001b[32m59\u001b[39m     \u001b[38;5;28;01mraise\u001b[39;00m \u001b[38;5;167;01mRuntimeError\u001b[39;00m(\u001b[33mf\u001b[39m\u001b[33m\"\u001b[39m\u001b[33mAlready running \u001b[39m\u001b[38;5;132;01m{\u001b[39;00masynclib_name\u001b[38;5;132;01m}\u001b[39;00m\u001b[33m in this thread\u001b[39m\u001b[33m\"\u001b[39m)\n\u001b[32m     61\u001b[39m \u001b[38;5;28;01mtry\u001b[39;00m:\n\u001b[32m     62\u001b[39m     async_backend = get_async_backend(backend)\n",
      "\u001b[31mRuntimeError\u001b[39m: Already running asyncio in this thread"
     ]
    }
   ],
   "source": [
    "# weather_server.py\n",
    "from fastmcp import FastMCP\n",
    "\n",
    "mcp = FastMCP(\"Demo 🚀\")\n",
    "\n",
    "@mcp.tool\n",
    "def add(a: int, b: int) -> int:\n",
    "    \"\"\"Add two numbers\"\"\"\n",
    "    return a + b\n",
    "\n",
    "if __name__ == \"__main__\":\n",
    "    mcp.run()"
   ]
  },
  {
   "cell_type": "code",
   "execution_count": 6,
   "id": "fde5006a-e4fe-40f7-a89c-0bc30f498223",
   "metadata": {},
   "outputs": [
    {
     "ename": "AttributeError",
     "evalue": "'FastMCP' object has no attribute 'tools'",
     "output_type": "error",
     "traceback": [
      "\u001b[31m---------------------------------------------------------------------------\u001b[39m",
      "\u001b[31mAttributeError\u001b[39m                            Traceback (most recent call last)",
      "\u001b[36mCell\u001b[39m\u001b[36m \u001b[39m\u001b[32mIn[6]\u001b[39m\u001b[32m, line 9\u001b[39m\n\u001b[32m      5\u001b[39m \u001b[38;5;129m@mcp\u001b[39m.tool\n\u001b[32m      6\u001b[39m \u001b[38;5;28;01mdef\u001b[39;00m\u001b[38;5;250m \u001b[39m\u001b[34madd\u001b[39m(a: \u001b[38;5;28mint\u001b[39m, b: \u001b[38;5;28mint\u001b[39m) -> \u001b[38;5;28mint\u001b[39m:\n\u001b[32m      7\u001b[39m     \u001b[38;5;28;01mreturn\u001b[39;00m a + b\n\u001b[32m----> \u001b[39m\u001b[32m9\u001b[39m result = \u001b[43mmcp\u001b[49m\u001b[43m.\u001b[49m\u001b[43mtools\u001b[49m[\u001b[33m\"\u001b[39m\u001b[33madd\u001b[39m\u001b[33m\"\u001b[39m].call({\u001b[33m\"\u001b[39m\u001b[33ma\u001b[39m\u001b[33m\"\u001b[39m: \u001b[32m2\u001b[39m, \u001b[33m\"\u001b[39m\u001b[33mb\u001b[39m\u001b[33m\"\u001b[39m: \u001b[32m3\u001b[39m})\n\u001b[32m     10\u001b[39m \u001b[38;5;28mprint\u001b[39m(\u001b[33m\"\u001b[39m\u001b[33mResult:\u001b[39m\u001b[33m\"\u001b[39m, result)\n",
      "\u001b[31mAttributeError\u001b[39m: 'FastMCP' object has no attribute 'tools'"
     ]
    }
   ],
   "source": [
    "from fastmcp import FastMCP\n",
    "\n",
    "mcp = FastMCP(\"Demo 🚀\")\n",
    "\n",
    "@mcp.tool\n",
    "def add(a: int, b: int) -> int:\n",
    "    return a + b\n",
    "\n",
    "result = mcp.tools[\"add\"].call({\"a\": 2, \"b\": 3})\n",
    "print(\"Result:\", result)"
   ]
  },
  {
   "cell_type": "code",
   "execution_count": 1,
   "id": "104d49aa-d5ed-4e0c-95be-054908d28583",
   "metadata": {},
   "outputs": [],
   "source": [
    "def get_weather(city: str) -> float:\n",
    "    \"\"\"\n",
    "    Retrieves the temperature for a specified city.\n",
    "\n",
    "    Parameters:\n",
    "        city (str): The name of the city for which to retrieve weather data.\n",
    "\n",
    "    Returns:\n",
    "        float: The temperature associated with the city.\n",
    "    \"\"\"\n",
    "    city = city.strip().lower()\n",
    "\n",
    "    if city in known_weather_data:\n",
    "        return known_weather_data[city]\n",
    "\n",
    "    return round(random.uniform(-5, 35), 1)\n",
    "\n",
    "\n",
    "def set_weather(city: str, temp: float) -> None:\n",
    "    \"\"\"\n",
    "    Sets the temperature for a specified city.\n",
    "\n",
    "    Parameters:\n",
    "        city (str): The name of the city for which to set the weather data.\n",
    "        temp (float): The temperature to associate with the city.\n",
    "\n",
    "    Returns:\n",
    "        str: A confirmation string 'OK' indicating successful update.\n",
    "    \"\"\"\n",
    "    city = city.strip().lower()\n",
    "    known_weather_data[city] = temp\n",
    "    return 'OK'"
   ]
  },
  {
   "cell_type": "code",
   "execution_count": null,
   "id": "97926322-29f9-4080-8b6d-a999f381dfcf",
   "metadata": {},
   "outputs": [],
   "source": []
  }
 ],
 "metadata": {
  "kernelspec": {
   "display_name": "Python 3 (ipykernel)",
   "language": "python",
   "name": "python3"
  },
  "language_info": {
   "codemirror_mode": {
    "name": "ipython",
    "version": 3
   },
   "file_extension": ".py",
   "mimetype": "text/x-python",
   "name": "python",
   "nbconvert_exporter": "python",
   "pygments_lexer": "ipython3",
   "version": "3.12.1"
  }
 },
 "nbformat": 4,
 "nbformat_minor": 5
}
