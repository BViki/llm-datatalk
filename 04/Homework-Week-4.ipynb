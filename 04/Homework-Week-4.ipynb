{
 "cells": [
  {
   "cell_type": "markdown",
   "id": "901a9099-b9e7-4306-9e78-2eab0dee2eef",
   "metadata": {
    "jp-MarkdownHeadingCollapsed": true
   },
   "source": [
    "#### Question 1 : Define function description"
   ]
  },
  {
   "cell_type": "code",
   "execution_count": null,
   "id": "77789eac-15c9-4e82-ae90-8638fd5b69e0",
   "metadata": {},
   "outputs": [],
   "source": [
    "from openai import OpenAI\n",
    "client = OpenAI()"
   ]
  },
  {
   "cell_type": "code",
   "execution_count": 1,
   "id": "43485e11-9f87-4af7-919b-392693337920",
   "metadata": {},
   "outputs": [],
   "source": [
    "import random\n",
    "\n",
    "known_weather_data = {\n",
    "    'berlin': 20.0\n",
    "}\n",
    "\n",
    "def get_weather(city: str) -> float:\n",
    "    city = city.strip().lower()\n",
    "\n",
    "    if city in known_weather_data:\n",
    "        return known_weather_data[city]\n",
    "\n",
    "    return round(random.uniform(-5, 35), 1)"
   ]
  },
  {
   "cell_type": "code",
   "execution_count": null,
   "id": "0ae7eef7-4559-447d-970d-4a0c9a90ba22",
   "metadata": {},
   "outputs": [],
   "source": [
    "get_weather('berlin')"
   ]
  },
  {
   "cell_type": "code",
   "execution_count": null,
   "id": "78cb186e-0a89-4a49-8b85-76a52bb28448",
   "metadata": {},
   "outputs": [],
   "source": [
    "get_weather_tool = {\n",
    "    \"type\": \"function\",\n",
    "    \"name\": \"get_weather\",\n",
    "    \"description\": \"Fetch the Weather of the City\",\n",
    "    \"parameters\": {\n",
    "        \"type\": \"object\",\n",
    "        \"properties\": {\n",
    "            \"city\": {\n",
    "                \"type\": \"string\",\n",
    "                \"description\": \"Which city's weather ?\"\n",
    "            }\n",
    "        },\n",
    "        \"required\": ['city'],\n",
    "        \"additionalProperties\": False\n",
    "    }\n",
    "}"
   ]
  },
  {
   "cell_type": "code",
   "execution_count": null,
   "id": "d8c213ac-c99a-4a70-b935-15973422960e",
   "metadata": {},
   "outputs": [],
   "source": [
    "# !wget https://raw.githubusercontent.com/alexeygrigorev/rag-agents-workshop/refs/heads/main/chat_assistant.py"
   ]
  },
  {
   "cell_type": "code",
   "execution_count": null,
   "id": "1b492c70-a70d-4701-82c9-57115b3c30e5",
   "metadata": {},
   "outputs": [],
   "source": [
    "import chat_assistant\n",
    "tools = chat_assistant.Tools()"
   ]
  },
  {
   "cell_type": "code",
   "execution_count": null,
   "id": "c356142b-711b-4c3a-b778-ab0c52529b5d",
   "metadata": {},
   "outputs": [],
   "source": [
    "tools.add_tool(get_weather,get_weather_tool)"
   ]
  },
  {
   "cell_type": "code",
   "execution_count": null,
   "id": "2ed883c7-6d32-4d6b-96cd-49b8cdff41ab",
   "metadata": {},
   "outputs": [],
   "source": [
    "tools.get_tools()"
   ]
  },
  {
   "cell_type": "code",
   "execution_count": null,
   "id": "22036cba-41c4-4839-bde3-2414cc8e8689",
   "metadata": {},
   "outputs": [],
   "source": [
    "developer_prompt = \"\"\"\n",
    "You are a weather assistant.\n",
    "\n",
    "When provided with a city name, use the available tools to:\n",
    "1. Fetch the current weather of the city.\n",
    "2. Optionally add the weather information to the database.\n",
    "\n",
    "After each response, follow up with a relevant question to keep the conversation going.\n",
    "\"\"\".strip()\n",
    "\n",
    "chat_interface = chat_assistant.ChatInterface()\n",
    "\n",
    "chat = chat_assistant.ChatAssistant(\n",
    "    tools=tools,\n",
    "    developer_prompt=developer_prompt,\n",
    "    chat_interface=chat_interface,\n",
    "    client=client\n",
    ")"
   ]
  },
  {
   "cell_type": "code",
   "execution_count": null,
   "id": "22a20dec-afa7-4d25-856c-b47a0a3e39bb",
   "metadata": {},
   "outputs": [],
   "source": [
    "# chat.run()"
   ]
  },
  {
   "cell_type": "markdown",
   "id": "8c03e381-4f3e-439f-9996-001e567c77aa",
   "metadata": {
    "jp-MarkdownHeadingCollapsed": true
   },
   "source": [
    "#### Question 2 : Adding another tool"
   ]
  },
  {
   "cell_type": "code",
   "execution_count": null,
   "id": "5082e5d4-12f7-44ac-a410-380b419749ec",
   "metadata": {},
   "outputs": [],
   "source": [
    "def set_weather(city: str, temp: float) -> None:\n",
    "    city = city.strip().lower()\n",
    "    known_weather_data[city] = temp\n",
    "    return 'OK'"
   ]
  },
  {
   "cell_type": "code",
   "execution_count": null,
   "id": "4cd332f6-423f-4c4a-97a0-beb46e1b4126",
   "metadata": {},
   "outputs": [],
   "source": [
    "set_weather_tool = {\n",
    "    \"type\": \"function\",\n",
    "    \"name\": \"set_weather\",\n",
    "    \"description\": \"Set the Weather of the City\",\n",
    "    \"parameters\": {\n",
    "        \"type\": \"object\",\n",
    "        \"properties\": {\n",
    "            \"city\": {\"type\": \"string\", \"description\": \"Which city's weather?\"},\n",
    "            \"temp\": {\"type\": \"number\", \"description\": \"Temperature in Fahrenheit?\"}\n",
    "        },\n",
    "        \"required\": [\"city\", \"temp\"],\n",
    "        \"additionalProperties\": False\n",
    "    }\n",
    "}"
   ]
  },
  {
   "cell_type": "code",
   "execution_count": null,
   "id": "39a9eba5-7e00-4fd1-9629-a174920575bc",
   "metadata": {},
   "outputs": [],
   "source": [
    "tools.add_tool(set_weather,set_weather_tool)"
   ]
  },
  {
   "cell_type": "code",
   "execution_count": null,
   "id": "c0d927eb-bb94-4e30-a8d3-a57c33d8f7a6",
   "metadata": {},
   "outputs": [],
   "source": [
    "tools.get_tools()"
   ]
  },
  {
   "cell_type": "code",
   "execution_count": null,
   "id": "3b1c2dbd-8b04-41fd-b716-13e69d2d09ea",
   "metadata": {},
   "outputs": [],
   "source": [
    "known_weather_data"
   ]
  },
  {
   "cell_type": "code",
   "execution_count": null,
   "id": "1418f1e7-b691-47a7-8661-862d357b2d87",
   "metadata": {},
   "outputs": [],
   "source": [
    "chat.run()"
   ]
  },
  {
   "cell_type": "markdown",
   "id": "391cd4b2-9455-460b-863a-c8b732ae8a14",
   "metadata": {},
   "source": [
    "#### Question 3 :"
   ]
  },
  {
   "cell_type": "code",
   "execution_count": null,
   "id": "15cb41dd-0219-41c8-8d81-493cca571790",
   "metadata": {},
   "outputs": [],
   "source": [
    "!pip install fastmcp"
   ]
  },
  {
   "cell_type": "code",
   "execution_count": 3,
   "id": "e3bc3e77-ca20-4f54-bab6-8a90cb3b97f6",
   "metadata": {},
   "outputs": [
    {
     "name": "stdout",
     "output_type": "stream",
     "text": [
      "FastMCP version: 2.10.6\n"
     ]
    }
   ],
   "source": [
    "import importlib.metadata\n",
    "\n",
    "version = importlib.metadata.version(\"fastmcp\")\n",
    "print(\"FastMCP version:\", version)"
   ]
  },
  {
   "cell_type": "code",
   "execution_count": 7,
   "id": "1a196a60-b236-4587-8438-ad525dbbe5a6",
   "metadata": {},
   "outputs": [],
   "source": [
    "import weather_server"
   ]
  },
  {
   "cell_type": "code",
   "execution_count": null,
   "id": "d3730b7e-07ad-4a63-b7fc-96bde5b515e5",
   "metadata": {},
   "outputs": [],
   "source": []
  },
  {
   "cell_type": "code",
   "execution_count": 3,
   "id": "104d49aa-d5ed-4e0c-95be-054908d28583",
   "metadata": {},
   "outputs": [],
   "source": [
    "def get_weather(city: str) -> float:\n",
    "    \"\"\"\n",
    "    Retrieves the temperature for a specified city.\n",
    "\n",
    "    Parameters:\n",
    "        city (str): The name of the city for which to retrieve weather data.\n",
    "\n",
    "    Returns:\n",
    "        float: The temperature associated with the city.\n",
    "    \"\"\"\n",
    "    city = city.strip().lower()\n",
    "\n",
    "    if city in known_weather_data:\n",
    "        return known_weather_data[city]\n",
    "\n",
    "    return round(random.uniform(-5, 35), 1)\n",
    "\n",
    "\n",
    "def set_weather(city: str, temp: float) -> None:\n",
    "    \"\"\"\n",
    "    Sets the temperature for a specified city.\n",
    "\n",
    "    Parameters:\n",
    "        city (str): The name of the city for which to set the weather data.\n",
    "        temp (float): The temperature to associate with the city.\n",
    "\n",
    "    Returns:\n",
    "        str: A confirmation string 'OK' indicating successful update.\n",
    "    \"\"\"\n",
    "    city = city.strip().lower()\n",
    "    known_weather_data[city] = temp\n",
    "    return 'OK'"
   ]
  },
  {
   "cell_type": "code",
   "execution_count": null,
   "id": "97926322-29f9-4080-8b6d-a999f381dfcf",
   "metadata": {},
   "outputs": [],
   "source": []
  }
 ],
 "metadata": {
  "kernelspec": {
   "display_name": "Python 3 (ipykernel)",
   "language": "python",
   "name": "python3"
  },
  "language_info": {
   "codemirror_mode": {
    "name": "ipython",
    "version": 3
   },
   "file_extension": ".py",
   "mimetype": "text/x-python",
   "name": "python",
   "nbconvert_exporter": "python",
   "pygments_lexer": "ipython3",
   "version": "3.12.1"
  }
 },
 "nbformat": 4,
 "nbformat_minor": 5
}
