{
 "cells": [
  {
   "cell_type": "code",
   "execution_count": 2,
   "id": "96a6f615-fd30-4095-9dfb-d80b499eb94a",
   "metadata": {},
   "outputs": [
    {
     "name": "stdout",
     "output_type": "stream",
     "text": [
      "The history saving thread hit an unexpected error (OperationalError('attempt to write a readonly database')).History will not be written to the database.\n"
     ]
    }
   ],
   "source": [
    "from elasticsearch import Elasticsearch\n",
    "from tqdm.auto import tqdm\n",
    "import json\n",
    "import requests "
   ]
  },
  {
   "cell_type": "code",
   "execution_count": 3,
   "id": "5548c371-d31c-438c-b2cb-89cd486b34a9",
   "metadata": {},
   "outputs": [],
   "source": [
    "# Instatiate the ES Client\n",
    "es_client = Elasticsearch('http://localhost:9200')"
   ]
  },
  {
   "cell_type": "code",
   "execution_count": 4,
   "id": "b5114d54-5135-42fb-9764-5e8ccf6149f7",
   "metadata": {
    "scrolled": true
   },
   "outputs": [
    {
     "data": {
      "text/plain": [
       "ObjectApiResponse({'acknowledged': True, 'shards_acknowledged': True, 'index': 'course-questions'})"
      ]
     },
     "execution_count": 4,
     "metadata": {},
     "output_type": "execute_result"
    }
   ],
   "source": [
    "index_settings = {\n",
    "    \"settings\": {\n",
    "        \"number_of_shards\": 1,\n",
    "        \"number_of_replicas\": 0\n",
    "    },\n",
    "    \"mappings\": {\n",
    "        \"properties\": {\n",
    "            \"text\": {\"type\": \"text\"},\n",
    "            \"section\": {\"type\": \"text\"},\n",
    "            \"question\": {\"type\": \"text\"},\n",
    "            \"course\": {\"type\": \"keyword\"} \n",
    "        }\n",
    "    }\n",
    "}\n",
    "\n",
    "index_name = \"course-questions\"\n",
    "\n",
    "es_client.indices.create(index=index_name, body=index_settings)"
   ]
  },
  {
   "cell_type": "markdown",
   "id": "6f9fd7bc-90f3-4676-a5fe-ae7aeb244130",
   "metadata": {},
   "source": [
    "### Remote File Ingestion"
   ]
  },
  {
   "cell_type": "code",
   "execution_count": 8,
   "id": "542a8803-677c-45a8-aca6-77e1092d23ed",
   "metadata": {},
   "outputs": [],
   "source": [
    "# Download FAQ Documents\n",
    "\n",
    "docs_url = 'https://github.com/DataTalksClub/llm-zoomcamp/blob/main/01-intro/documents.json?raw=1'\n",
    "docs_response = requests.get(docs_url)\n",
    "documents_raw = docs_response.json()\n",
    "\n",
    "documents = []\n",
    "\n",
    "for course in documents_raw:\n",
    "    course_name = course['course']\n",
    "\n",
    "    for doc in course['documents']:\n",
    "        doc['course'] = course_name\n",
    "        documents.append(doc)"
   ]
  },
  {
   "cell_type": "code",
   "execution_count": 9,
   "id": "6babcbc5-9316-4fd5-a8d8-bf4e586e7399",
   "metadata": {},
   "outputs": [
    {
     "data": {
      "application/vnd.jupyter.widget-view+json": {
       "model_id": "0f87208425e440479166fbbdf8829e2c",
       "version_major": 2,
       "version_minor": 0
      },
      "text/plain": [
       "  0%|          | 0/948 [00:00<?, ?it/s]"
      ]
     },
     "metadata": {},
     "output_type": "display_data"
    }
   ],
   "source": [
    "for doc in tqdm(documents):\n",
    "    es_client.index(index=index_name, document=doc)"
   ]
  },
  {
   "cell_type": "markdown",
   "id": "0d4cd2d5-b397-4ee2-8f54-ee814d1d1cfd",
   "metadata": {},
   "source": [
    "### Local File Ingestion"
   ]
  },
  {
   "cell_type": "code",
   "execution_count": null,
   "id": "bc2a598d-802c-4b53-85f5-f1e56e1a6bd3",
   "metadata": {},
   "outputs": [],
   "source": [
    "# with open('documents.json', 'rt') as f_in:\n",
    "#     docs_raw = json.load(f_in)\n",
    "\n",
    "# documents = []\n",
    "\n",
    "# for course_dict in docs_raw:\n",
    "#     for doc in course_dict['documents']:\n",
    "#         doc['course'] = course_dict['course']\n",
    "#         documents.append(doc)\n",
    "\n",
    "# for doc in tqdm(documents):\n",
    "#     es_client.index(index=index_name, document=doc)"
   ]
  },
  {
   "cell_type": "markdown",
   "id": "a51e558c-f9f8-423c-b535-58897c7ba8bf",
   "metadata": {},
   "source": [
    "### LLM FAQ Ingestion"
   ]
  },
  {
   "cell_type": "code",
   "execution_count": 10,
   "id": "20852c77-9fec-424e-a52b-7a88a09be945",
   "metadata": {},
   "outputs": [
    {
     "data": {
      "text/plain": [
       "ObjectApiResponse({'acknowledged': True, 'shards_acknowledged': True, 'index': 'llm-course-questions'})"
      ]
     },
     "execution_count": 10,
     "metadata": {},
     "output_type": "execute_result"
    }
   ],
   "source": [
    "llm_index_name = \"llm-course-questions\"\n",
    "es_client.indices.create(index=llm_index_name, body=index_settings)"
   ]
  },
  {
   "cell_type": "code",
   "execution_count": 11,
   "id": "ef6de9ce-7237-492c-b506-8863f361e2af",
   "metadata": {},
   "outputs": [
    {
     "data": {
      "application/vnd.jupyter.widget-view+json": {
       "model_id": "4f0a0c23cab44e1db8e06861df659f48",
       "version_major": 2,
       "version_minor": 0
      },
      "text/plain": [
       "  0%|          | 0/86 [00:00<?, ?it/s]"
      ]
     },
     "metadata": {},
     "output_type": "display_data"
    }
   ],
   "source": [
    "with open('documents-llm.json', 'rt') as f_in:\n",
    "    docs_raw = json.load(f_in)\n",
    "documents = []\n",
    "\n",
    "for course_dict in docs_raw:\n",
    "    for doc in course_dict['documents']:\n",
    "        doc['course'] = course_dict['course']\n",
    "        documents.append(doc)\n",
    "for doc in tqdm(documents):\n",
    "    es_client.index(index=llm_index_name, document=doc)"
   ]
  }
 ],
 "metadata": {
  "kernelspec": {
   "display_name": "Python 3 (ipykernel)",
   "language": "python",
   "name": "python3"
  },
  "language_info": {
   "codemirror_mode": {
    "name": "ipython",
    "version": 3
   },
   "file_extension": ".py",
   "mimetype": "text/x-python",
   "name": "python",
   "nbconvert_exporter": "python",
   "pygments_lexer": "ipython3",
   "version": "3.12.1"
  }
 },
 "nbformat": 4,
 "nbformat_minor": 5
}
