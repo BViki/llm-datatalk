{
 "cells": [
  {
   "cell_type": "code",
   "execution_count": 1,
   "id": "96a6f615-fd30-4095-9dfb-d80b499eb94a",
   "metadata": {},
   "outputs": [],
   "source": [
    "from elasticsearch import Elasticsearch"
   ]
  },
  {
   "cell_type": "code",
   "execution_count": 37,
   "id": "0f946dd1-98ad-4596-aa3e-01a27be8708e",
   "metadata": {},
   "outputs": [],
   "source": [
    "# %run ./RAG_MIN_SEARCH.ipynb"
   ]
  },
  {
   "cell_type": "code",
   "execution_count": 5,
   "id": "5548c371-d31c-438c-b2cb-89cd486b34a9",
   "metadata": {},
   "outputs": [],
   "source": [
    "es_client = Elasticsearch('http://localhost:9200')"
   ]
  },
  {
   "cell_type": "code",
   "execution_count": 6,
   "id": "b5114d54-5135-42fb-9764-5e8ccf6149f7",
   "metadata": {
    "scrolled": true
   },
   "outputs": [
    {
     "data": {
      "text/plain": [
       "ObjectApiResponse({'acknowledged': True, 'shards_acknowledged': True, 'index': 'course-questions'})"
      ]
     },
     "execution_count": 6,
     "metadata": {},
     "output_type": "execute_result"
    }
   ],
   "source": [
    "index_settings = {\n",
    "    \"settings\": {\n",
    "        \"number_of_shards\": 1,\n",
    "        \"number_of_replicas\": 0\n",
    "    },\n",
    "    \"mappings\": {\n",
    "        \"properties\": {\n",
    "            \"text\": {\"type\": \"text\"},\n",
    "            \"section\": {\"type\": \"text\"},\n",
    "            \"question\": {\"type\": \"text\"},\n",
    "            \"course\": {\"type\": \"keyword\"} \n",
    "        }\n",
    "    }\n",
    "}\n",
    "\n",
    "index_name = \"course-questions\"\n",
    "\n",
    "es_client.indices.create(index=index_name, body=index_settings)"
   ]
  },
  {
   "cell_type": "code",
   "execution_count": 7,
   "id": "542a8803-677c-45a8-aca6-77e1092d23ed",
   "metadata": {},
   "outputs": [],
   "source": [
    "import requests \n",
    "\n",
    "docs_url = 'https://github.com/DataTalksClub/llm-zoomcamp/blob/main/01-intro/documents.json?raw=1'\n",
    "docs_response = requests.get(docs_url)\n",
    "documents_raw = docs_response.json()\n",
    "\n",
    "documents = []\n",
    "\n",
    "for course in documents_raw:\n",
    "    course_name = course['course']\n",
    "\n",
    "    for doc in course['documents']:\n",
    "        doc['course'] = course_name\n",
    "        documents.append(doc)"
   ]
  },
  {
   "cell_type": "code",
   "execution_count": 8,
   "id": "24e24e8a-7ecc-4ffd-8f30-731de5e39190",
   "metadata": {},
   "outputs": [],
   "source": [
    "from tqdm.auto import tqdm\n",
    "import json"
   ]
  },
  {
   "cell_type": "code",
   "execution_count": null,
   "id": "bc2a598d-802c-4b53-85f5-f1e56e1a6bd3",
   "metadata": {},
   "outputs": [],
   "source": [
    "with open('documents.json', 'rt') as f_in:\n",
    "    docs_raw = json.load(f_in)"
   ]
  },
  {
   "cell_type": "code",
   "execution_count": null,
   "id": "d5518488-a57b-4e35-bdd4-54af633b3604",
   "metadata": {},
   "outputs": [],
   "source": [
    "documents = []\n",
    "\n",
    "for course_dict in docs_raw:\n",
    "    for doc in course_dict['documents']:\n",
    "        doc['course'] = course_dict['course']\n",
    "        documents.append(doc)"
   ]
  },
  {
   "cell_type": "code",
   "execution_count": 9,
   "id": "598c37c2-2586-4d50-a978-049f930e3f5f",
   "metadata": {},
   "outputs": [
    {
     "data": {
      "application/vnd.jupyter.widget-view+json": {
       "model_id": "58db2651b7b94a45978fd973907489e1",
       "version_major": 2,
       "version_minor": 0
      },
      "text/plain": [
       "  0%|          | 0/948 [00:00<?, ?it/s]"
      ]
     },
     "metadata": {},
     "output_type": "display_data"
    }
   ],
   "source": [
    "for doc in tqdm(documents):\n",
    "    es_client.index(index=index_name, document=doc)"
   ]
  },
  {
   "cell_type": "code",
   "execution_count": 127,
   "id": "20852c77-9fec-424e-a52b-7a88a09be945",
   "metadata": {},
   "outputs": [
    {
     "data": {
      "text/plain": [
       "ObjectApiResponse({'acknowledged': True, 'shards_acknowledged': True, 'index': 'llm-course-questions'})"
      ]
     },
     "execution_count": 127,
     "metadata": {},
     "output_type": "execute_result"
    }
   ],
   "source": [
    "llm_index_name = \"llm-course-questions\"\n",
    "es_client.indices.create(index=llm_index_name, body=index_settings)"
   ]
  },
  {
   "cell_type": "code",
   "execution_count": 128,
   "id": "ef6de9ce-7237-492c-b506-8863f361e2af",
   "metadata": {},
   "outputs": [
    {
     "data": {
      "application/vnd.jupyter.widget-view+json": {
       "model_id": "3edc9ff7df604a25be4f24bb018c21fe",
       "version_major": 2,
       "version_minor": 0
      },
      "text/plain": [
       "  0%|          | 0/86 [00:00<?, ?it/s]"
      ]
     },
     "metadata": {},
     "output_type": "display_data"
    }
   ],
   "source": [
    "with open('documents-llm.json', 'rt') as f_in:\n",
    "    docs_raw = json.load(f_in)\n",
    "documents = []\n",
    "\n",
    "for course_dict in docs_raw:\n",
    "    for doc in course_dict['documents']:\n",
    "        doc['course'] = course_dict['course']\n",
    "        documents.append(doc)\n",
    "for doc in tqdm(documents):\n",
    "    es_client.index(index=llm_index_name, document=doc)"
   ]
  },
  {
   "cell_type": "code",
   "execution_count": 10,
   "id": "a622ef6e-c976-468d-b304-35aa114d87a7",
   "metadata": {},
   "outputs": [],
   "source": [
    "query = 'How do execute a command on a Kubernetes pod?'"
   ]
  },
  {
   "cell_type": "code",
   "execution_count": 25,
   "id": "0f1085e4-d479-4742-8c12-53daadc20dcf",
   "metadata": {},
   "outputs": [],
   "source": [
    "def elastic_search_rag(query):\n",
    "    search_query = {\n",
    "        \"size\": 5,\n",
    "        \"query\": {\n",
    "            \"bool\": {\n",
    "                \"must\": {\n",
    "                    \"multi_match\": {\n",
    "                        \"query\": query,\n",
    "                        \"fields\": [\"question^4\", \"text\"],\n",
    "                        \"type\": \"best_fields\"\n",
    "                    }\n",
    "                },\n",
    "                \"filter\": {\n",
    "                    \"term\": {\n",
    "                        \"course\": \"data-engineering-zoomcamp\"\n",
    "                    }\n",
    "                }\n",
    "            }\n",
    "        }\n",
    "    }\n",
    "\n",
    "    response = es_client.search(index=index_name, body=search_query)\n",
    "    \n",
    "    result_docs = []\n",
    "    \n",
    "    for hit in response['hits']['hits']:\n",
    "        result_docs.append(hit['_source'])\n",
    "    \n",
    "    return result_docs"
   ]
  },
  {
   "cell_type": "code",
   "execution_count": 33,
   "id": "92fda39a-cb50-432d-a132-fc064f829abf",
   "metadata": {},
   "outputs": [],
   "source": [
    "def q3_elastic_search(query):\n",
    "    search_query = {\n",
    "        \"size\": 5,\n",
    "        \"query\": {\n",
    "            \"bool\": {\n",
    "                \"must\": {\n",
    "                    \"multi_match\": {\n",
    "                        \"query\": query,\n",
    "                        \"fields\": [\"question^4\", \"text\"],\n",
    "                        \"type\": \"best_fields\"\n",
    "                    }\n",
    "                }\n",
    "            }\n",
    "        }\n",
    "    }\n",
    "\n",
    "    response = es_client.search(index=index_name, body=search_query)\n",
    "    \n",
    "    result_docs = []\n",
    "    \n",
    "    for hit in response['hits']['hits']:\n",
    "        result_docs.append(hit['_score'])\n",
    "    \n",
    "    return result_docs"
   ]
  },
  {
   "cell_type": "code",
   "execution_count": 34,
   "id": "f7aed9b1-8b29-43c2-bdb5-760c1e2222ab",
   "metadata": {},
   "outputs": [
    {
     "name": "stdout",
     "output_type": "stream",
     "text": [
      "[44.50556, 35.433445, 33.70974, 33.2635, 32.589073]\n"
     ]
    }
   ],
   "source": [
    "print(q3_elastic_search(query))"
   ]
  },
  {
   "cell_type": "code",
   "execution_count": 73,
   "id": "05727f78-c61b-4ab9-85d2-b081747777fd",
   "metadata": {},
   "outputs": [],
   "source": [
    "def q4_elastic_search(query):\n",
    "    search_query = {\n",
    "        \"size\": 3,\n",
    "        \"query\": {\n",
    "            \"bool\": {\n",
    "                \"must\": {\n",
    "                    \"multi_match\": {\n",
    "                        \"query\": query,\n",
    "                        \"fields\": [\"question^4\", \"text\"],\n",
    "                        \"type\": \"best_fields\"\n",
    "                    }\n",
    "                },\n",
    "                \"filter\": {\n",
    "                    \"term\": {\n",
    "                        \"course\": \"machine-learning-zoomcamp\"\n",
    "                    }\n",
    "                }\n",
    "            }\n",
    "        }\n",
    "    }\n",
    "\n",
    "    response = es_client.search(index=index_name, body=search_query)\n",
    "    \n",
    "    result_docs = []\n",
    "    \n",
    "    for hit in response['hits']['hits']:\n",
    "        result_docs.append(hit['_source'])\n",
    "    \n",
    "    return result_docs"
   ]
  },
  {
   "cell_type": "code",
   "execution_count": 51,
   "id": "472df0fc-b25f-450c-910e-a721c4a46886",
   "metadata": {},
   "outputs": [],
   "source": [
    "q4_query=\"How do copy a file to a Docker container?\""
   ]
  },
  {
   "cell_type": "code",
   "execution_count": 53,
   "id": "b54f2f3c-9ae4-4bce-90ac-0c92c5ee2325",
   "metadata": {},
   "outputs": [
    {
     "name": "stdout",
     "output_type": "stream",
     "text": [
      "How do I copy files from a different folder into docker container’s working directory?\n"
     ]
    }
   ],
   "source": [
    "print(q4_elastic_search(q4_query)[2]['question'])"
   ]
  },
  {
   "cell_type": "code",
   "execution_count": 122,
   "id": "874a38ff-7254-4855-901f-a2f3c71c7b0f",
   "metadata": {},
   "outputs": [],
   "source": [
    "def q5_build_prompt(query, search_results):\n",
    "    \n",
    "    prompt_template = \"\"\"\n",
    "You're a course teaching assistant. Answer the QUESTION based on the CONTEXT from the FAQ database.\n",
    "Use only the facts from the CONTEXT when answering the QUESTION.\n",
    "\n",
    "QUESTION: {question}\n",
    "\n",
    "CONTEXT:\n",
    "{context}\n",
    "\"\"\".strip()\n",
    "    \n",
    "    context_template = \"\"\"\n",
    "Q: {question}\n",
    "A: {text}\n",
    "\"\"\".strip()\n",
    "\n",
    "    context = \"\"\n",
    "    \n",
    "    for doc in search_results:\n",
    "        context =  context + context_template.format(question=doc['question'], text=doc['text'])+'\\n\\n'\n",
    "\n",
    "    prompt = prompt_template.format(question=query, context=context).strip()\n",
    "    return prompt"
   ]
  },
  {
   "cell_type": "code",
   "execution_count": 112,
   "id": "b447f81c-e677-49dd-8d59-cb9fdd0b4ff3",
   "metadata": {},
   "outputs": [],
   "source": [
    "q5_query=\"How do copy a file to a Docker container?\""
   ]
  },
  {
   "cell_type": "code",
   "execution_count": 113,
   "id": "135a1fa5-d6e4-438b-bcb0-efe50994660b",
   "metadata": {},
   "outputs": [],
   "source": [
    "search_results = q4_elastic_search(q5_query)"
   ]
  },
  {
   "cell_type": "code",
   "execution_count": 123,
   "id": "0fcea800-f916-43ec-b9b3-c21ec7d2fe17",
   "metadata": {},
   "outputs": [],
   "source": [
    "prompt = q5_build_prompt(q5_query, search_results)"
   ]
  },
  {
   "cell_type": "code",
   "execution_count": 126,
   "id": "3ac3d4c9-30b3-4f7e-ad03-ab5b1d86f689",
   "metadata": {},
   "outputs": [
    {
     "data": {
      "text/plain": [
       "1446"
      ]
     },
     "execution_count": 126,
     "metadata": {},
     "output_type": "execute_result"
    }
   ],
   "source": [
    "# prompt\n",
    "len(prompt)"
   ]
  },
  {
   "cell_type": "markdown",
   "id": "ecf5ecd0-28de-4b82-9c6b-854f36a0bc54",
   "metadata": {},
   "source": [
    "## Question 6"
   ]
  },
  {
   "cell_type": "code",
   "execution_count": 130,
   "id": "7d73d264-1fd6-4fdd-9d02-9e1d8e4ce664",
   "metadata": {},
   "outputs": [],
   "source": [
    "import tiktoken"
   ]
  },
  {
   "cell_type": "code",
   "execution_count": 131,
   "id": "aa80c59a-f9a6-4210-b2a4-b545867f5bc1",
   "metadata": {},
   "outputs": [],
   "source": [
    "encoding = tiktoken.encoding_for_model(\"gpt-4o\")"
   ]
  },
  {
   "cell_type": "code",
   "execution_count": 133,
   "id": "89ae1ab0-b77f-4348-b113-52bf9006f8b5",
   "metadata": {},
   "outputs": [],
   "source": [
    "token=encoding.encode(prompt)"
   ]
  },
  {
   "cell_type": "code",
   "execution_count": 134,
   "id": "858ac569-3bed-4ce4-a9cc-f4bbbd3df365",
   "metadata": {},
   "outputs": [
    {
     "data": {
      "text/plain": [
       "320"
      ]
     },
     "execution_count": 134,
     "metadata": {},
     "output_type": "execute_result"
    }
   ],
   "source": [
    "len(token)"
   ]
  },
  {
   "cell_type": "code",
   "execution_count": null,
   "id": "4aba66b0-17ce-4f82-9e1b-685ea4ac79a7",
   "metadata": {},
   "outputs": [],
   "source": [
    "def q5_rag(query):\n",
    "    search_results = q4_elastic_search(query)\n",
    "    prompt = q5_build_prompt(query, search_results)\n",
    "    answer = llm(prompt)\n",
    "    return answer"
   ]
  },
  {
   "cell_type": "code",
   "execution_count": null,
   "id": "c671ff00-f1dd-4015-8a1d-56f10506cc92",
   "metadata": {},
   "outputs": [],
   "source": [
    "def rag(query):\n",
    "    search_results = elastic_search_rag(query)\n",
    "    prompt = build_prompt(query, search_results)\n",
    "    answer = llm(prompt)\n",
    "    return answer"
   ]
  }
 ],
 "metadata": {
  "kernelspec": {
   "display_name": "Python 3 (ipykernel)",
   "language": "python",
   "name": "python3"
  },
  "language_info": {
   "codemirror_mode": {
    "name": "ipython",
    "version": 3
   },
   "file_extension": ".py",
   "mimetype": "text/x-python",
   "name": "python",
   "nbconvert_exporter": "python",
   "pygments_lexer": "ipython3",
   "version": "3.12.1"
  }
 },
 "nbformat": 4,
 "nbformat_minor": 5
}
