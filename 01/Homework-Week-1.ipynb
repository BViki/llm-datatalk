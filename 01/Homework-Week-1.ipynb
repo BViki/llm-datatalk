{
 "cells": [
  {
   "cell_type": "markdown",
   "id": "012f9781-caff-4503-a3e6-86704e7337eb",
   "metadata": {},
   "source": [
    "#### Question 1: Running Elastic"
   ]
  },
  {
   "cell_type": "code",
   "execution_count": 40,
   "id": "3a98feaa-0363-4e0b-8690-3cf76c257eec",
   "metadata": {},
   "outputs": [],
   "source": [
    "from elasticsearch import Elasticsearch"
   ]
  },
  {
   "cell_type": "code",
   "execution_count": 41,
   "id": "c9562756-3c76-447f-ac79-9b18ad4a5bf0",
   "metadata": {},
   "outputs": [],
   "source": [
    "# Instatiate the ES Client\n",
    "es_client = Elasticsearch('http://localhost:9200')"
   ]
  },
  {
   "cell_type": "code",
   "execution_count": 42,
   "id": "1f2b837b-5d83-4fac-8cb9-851230e4105f",
   "metadata": {},
   "outputs": [
    {
     "name": "stdout",
     "output_type": "stream",
     "text": [
      "ES build hash: dbcbbbd0bc4924cfeb28929dc05d82d662c527b7\n"
     ]
    }
   ],
   "source": [
    "es_info = es_client.info()\n",
    "build_hash = es_info['version']['build_hash']\n",
    "print('ES build hash:',build_hash)"
   ]
  },
  {
   "cell_type": "markdown",
   "id": "c728b65f-a533-416f-8cca-0dac6d3d140d",
   "metadata": {},
   "source": [
    "#### Question 2. Indexing the data"
   ]
  },
  {
   "cell_type": "code",
   "execution_count": 43,
   "id": "1705c5bc-1cde-4f97-8132-e37253514ddc",
   "metadata": {},
   "outputs": [
    {
     "data": {
      "application/vnd.jupyter.widget-view+json": {
       "model_id": "c491e52998934f01b6e81ba7037c0f34",
       "version_major": 2,
       "version_minor": 0
      },
      "text/plain": [
       "  0%|          | 0/948 [00:00<?, ?it/s]"
      ]
     },
     "metadata": {},
     "output_type": "display_data"
    },
    {
     "data": {
      "application/vnd.jupyter.widget-view+json": {
       "model_id": "4c8474f6f3c54654a4139dba14171a0e",
       "version_major": 2,
       "version_minor": 0
      },
      "text/plain": [
       "  0%|          | 0/86 [00:00<?, ?it/s]"
      ]
     },
     "metadata": {},
     "output_type": "display_data"
    }
   ],
   "source": [
    "%run Elastic_Indexes_Setup.ipynb"
   ]
  },
  {
   "cell_type": "code",
   "execution_count": null,
   "id": "4a2dad5e-28c3-4034-8687-029b4e3a300e",
   "metadata": {},
   "outputs": [],
   "source": [
    "# index_name = \"course-questions\""
   ]
  },
  {
   "cell_type": "markdown",
   "id": "c9702c76-1d82-4259-93e1-211e35f83f5c",
   "metadata": {},
   "source": [
    "### Questions on ES Queries"
   ]
  },
  {
   "cell_type": "code",
   "execution_count": null,
   "id": "1838f318-66ae-4ef6-8ccf-cd096a06fb37",
   "metadata": {},
   "outputs": [],
   "source": [
    "## Sample Es Query\n",
    "def elastic_search_rag(query):\n",
    "    search_query = {\n",
    "        \"size\": 5,\n",
    "        \"query\": {\n",
    "            \"bool\": {\n",
    "                \"must\": {\n",
    "                    \"multi_match\": {\n",
    "                        \"query\": query,\n",
    "                        \"fields\": [\"question^4\", \"text\"],\n",
    "                        \"type\": \"best_fields\"\n",
    "                    }\n",
    "                },\n",
    "                \"filter\": {\n",
    "                    \"term\": {\n",
    "                        \"course\": \"data-engineering-zoomcamp\"\n",
    "                    }\n",
    "                }\n",
    "            }\n",
    "        }\n",
    "    }\n",
    "\n",
    "    response = es_client.search(index=index_name, body=search_query)\n",
    "    \n",
    "    result_docs = []\n",
    "    \n",
    "    for hit in response['hits']['hits']:\n",
    "        result_docs.append(hit['_source'])\n",
    "    \n",
    "    return result_docs"
   ]
  },
  {
   "cell_type": "markdown",
   "id": "5d206c9f-da0f-4547-b821-a0556572e21f",
   "metadata": {},
   "source": [
    "#### Question 3: Searching"
   ]
  },
  {
   "cell_type": "code",
   "execution_count": 44,
   "id": "9d261e29-6dca-481f-9fe6-d4ae4858078d",
   "metadata": {},
   "outputs": [],
   "source": [
    "def q3_elastic_search(query):\n",
    "    search_query = {\n",
    "        \"size\": 5,\n",
    "        \"query\": {\n",
    "            \"bool\": {\n",
    "                \"must\": {\n",
    "                    \"multi_match\": {\n",
    "                        \"query\": query,\n",
    "                        \"fields\": [\"question^4\", \"text\"],\n",
    "                        \"type\": \"best_fields\"\n",
    "                    }\n",
    "                }\n",
    "            }\n",
    "        }\n",
    "    }\n",
    "\n",
    "    response = es_client.search(index=index_name, body=search_query)\n",
    "    \n",
    "    result_docs = []\n",
    "    \n",
    "    for hit in response['hits']['hits']:\n",
    "        result_docs.append(hit['_score'])\n",
    "    \n",
    "    return result_docs"
   ]
  },
  {
   "cell_type": "code",
   "execution_count": 45,
   "id": "6255bc72-ed31-4f1c-9013-eac0cbaf97f5",
   "metadata": {},
   "outputs": [],
   "source": [
    "q3_query = 'How do execute a command on a Kubernetes pod?'"
   ]
  },
  {
   "cell_type": "code",
   "execution_count": 47,
   "id": "f5982ce0-3dca-4f81-aefa-92d1813b79fa",
   "metadata": {},
   "outputs": [
    {
     "name": "stdout",
     "output_type": "stream",
     "text": [
      "44.50556\n"
     ]
    }
   ],
   "source": [
    "print(q3_elastic_search(q3_query)[0])"
   ]
  },
  {
   "cell_type": "markdown",
   "id": "541998b0-2c0e-43ee-998a-76b36e9566e5",
   "metadata": {},
   "source": [
    "#### Question 4: Filtering"
   ]
  },
  {
   "cell_type": "code",
   "execution_count": 48,
   "id": "99c05fab-7806-4d37-895b-ccd8968a22db",
   "metadata": {},
   "outputs": [],
   "source": [
    "def q4_elastic_search(query):\n",
    "    search_query = {\n",
    "        \"size\": 3,\n",
    "        \"query\": {\n",
    "            \"bool\": {\n",
    "                \"must\": {\n",
    "                    \"multi_match\": {\n",
    "                        \"query\": query,\n",
    "                        \"fields\": [\"question^4\", \"text\"],\n",
    "                        \"type\": \"best_fields\"\n",
    "                    }\n",
    "                },\n",
    "                \"filter\": {\n",
    "                    \"term\": {\n",
    "                        \"course\": \"machine-learning-zoomcamp\"\n",
    "                    }\n",
    "                }\n",
    "            }\n",
    "        }\n",
    "    }\n",
    "\n",
    "    response = es_client.search(index=index_name, body=search_query)\n",
    "    \n",
    "    result_docs = []\n",
    "    \n",
    "    for hit in response['hits']['hits']:\n",
    "        result_docs.append(hit['_source'])\n",
    "    \n",
    "    return result_docs"
   ]
  },
  {
   "cell_type": "code",
   "execution_count": 49,
   "id": "51537389-c877-4c77-bfec-af24a847033a",
   "metadata": {},
   "outputs": [],
   "source": [
    "q4_query=\"How do copy a file to a Docker container?\""
   ]
  },
  {
   "cell_type": "code",
   "execution_count": 50,
   "id": "656ed291-4195-4c75-840f-ffddd37ad591",
   "metadata": {},
   "outputs": [
    {
     "name": "stdout",
     "output_type": "stream",
     "text": [
      "How do I copy files from a different folder into docker container’s working directory?\n"
     ]
    }
   ],
   "source": [
    "print(q4_elastic_search(q4_query)[2]['question'])"
   ]
  },
  {
   "cell_type": "markdown",
   "id": "bdfef680-5608-476a-9a9b-024880525416",
   "metadata": {},
   "source": [
    "#### Question 5. Building a prompt"
   ]
  },
  {
   "cell_type": "code",
   "execution_count": 51,
   "id": "24217f0d-6ead-447f-a6cc-f17ac98b6df4",
   "metadata": {},
   "outputs": [],
   "source": [
    "def q5_build_prompt(query, search_results):\n",
    "    \n",
    "    prompt_template = \"\"\"\n",
    "You're a course teaching assistant. Answer the QUESTION based on the CONTEXT from the FAQ database.\n",
    "Use only the facts from the CONTEXT when answering the QUESTION.\n",
    "\n",
    "QUESTION: {question}\n",
    "\n",
    "CONTEXT:\n",
    "{context}\n",
    "\"\"\".strip()\n",
    "    \n",
    "    context_template = \"\"\"\n",
    "Q: {question}\n",
    "A: {text}\n",
    "\"\"\".strip()\n",
    "\n",
    "    context = \"\"\n",
    "    \n",
    "    for doc in search_results:\n",
    "        context =  context + context_template.format(question=doc['question'], text=doc['text'])+'\\n\\n'\n",
    "\n",
    "    prompt = prompt_template.format(question=query, context=context).strip()\n",
    "    return prompt"
   ]
  },
  {
   "cell_type": "code",
   "execution_count": 52,
   "id": "bb0769ce-8045-4881-8c06-20fe84b666bd",
   "metadata": {},
   "outputs": [],
   "source": [
    "q5_query=\"How do copy a file to a Docker container?\""
   ]
  },
  {
   "cell_type": "code",
   "execution_count": 53,
   "id": "870d58b8-7e76-4409-829c-b4666e6e349c",
   "metadata": {},
   "outputs": [],
   "source": [
    "search_results = q4_elastic_search(q5_query)"
   ]
  },
  {
   "cell_type": "code",
   "execution_count": 54,
   "id": "12502aea-2fc4-4e6e-a688-5e4da7369b01",
   "metadata": {},
   "outputs": [],
   "source": [
    "prompt = q5_build_prompt(q5_query, search_results)"
   ]
  },
  {
   "cell_type": "code",
   "execution_count": 55,
   "id": "73d7b035-a905-4d62-925e-b68cf9934f5a",
   "metadata": {},
   "outputs": [
    {
     "data": {
      "text/plain": [
       "1446"
      ]
     },
     "execution_count": 55,
     "metadata": {},
     "output_type": "execute_result"
    }
   ],
   "source": [
    "# prompt\n",
    "len(prompt)"
   ]
  },
  {
   "cell_type": "markdown",
   "id": "0a673104-24fd-45c4-b541-9d797566c787",
   "metadata": {},
   "source": [
    "#### Question 6. Tokens"
   ]
  },
  {
   "cell_type": "code",
   "execution_count": 56,
   "id": "d68f5812-2af2-402d-9993-0db934a6acba",
   "metadata": {},
   "outputs": [],
   "source": [
    "import tiktoken"
   ]
  },
  {
   "cell_type": "code",
   "execution_count": 57,
   "id": "50fb3d31-30fe-4f26-a163-9d0a2afa3ce1",
   "metadata": {},
   "outputs": [],
   "source": [
    "encoding = tiktoken.encoding_for_model(\"gpt-4o\")"
   ]
  },
  {
   "cell_type": "code",
   "execution_count": 58,
   "id": "c80767e1-e1dd-43e3-ad94-5f8ce46dfc8d",
   "metadata": {},
   "outputs": [],
   "source": [
    "token=encoding.encode(prompt)"
   ]
  },
  {
   "cell_type": "code",
   "execution_count": 59,
   "id": "33cbac8e-83fb-4c67-989d-2ad950c8b3e1",
   "metadata": {},
   "outputs": [
    {
     "data": {
      "text/plain": [
       "320"
      ]
     },
     "execution_count": 59,
     "metadata": {},
     "output_type": "execute_result"
    }
   ],
   "source": [
    "len(token)"
   ]
  },
  {
   "cell_type": "markdown",
   "id": "d386abbc-9345-4604-b7c9-6a1595b17774",
   "metadata": {},
   "source": [
    "#### RAG"
   ]
  },
  {
   "cell_type": "code",
   "execution_count": 66,
   "id": "5cebffb5-a3a9-48ca-934b-263c988028bf",
   "metadata": {},
   "outputs": [],
   "source": [
    "from openai import OpenAI\n",
    "client = OpenAI()"
   ]
  },
  {
   "cell_type": "code",
   "execution_count": 67,
   "id": "2cf6568d-2c7b-411f-b768-4f2cf3bb70d9",
   "metadata": {},
   "outputs": [],
   "source": [
    "def llm(prompt):\n",
    "    response = client.chat.completions.create(\n",
    "        model='gpt-4o',\n",
    "        messages=[{\"role\": \"user\", \"content\": prompt}]\n",
    "    )\n",
    "    \n",
    "    return response.choices[0].message.content"
   ]
  },
  {
   "cell_type": "code",
   "execution_count": 68,
   "id": "295fba19-0b01-462b-a504-e7790615a29b",
   "metadata": {},
   "outputs": [],
   "source": [
    "def q5_rag(query):\n",
    "    search_results = q4_elastic_search(query)\n",
    "    prompt = q5_build_prompt(query, search_results)\n",
    "    answer = llm(prompt)\n",
    "    return answer"
   ]
  },
  {
   "cell_type": "code",
   "execution_count": 70,
   "id": "a0bc1b1d-bf9b-452c-9bb6-8f6eb7e61b0c",
   "metadata": {},
   "outputs": [],
   "source": [
    "llm_response = q5_rag(q5_query)"
   ]
  },
  {
   "cell_type": "code",
   "execution_count": 71,
   "id": "900a9e9d-4d2f-4f73-be78-658e84638840",
   "metadata": {},
   "outputs": [
    {
     "data": {
      "text/plain": [
       "'To copy a file to a Docker container, you can use the `docker cp` command. The basic syntax is as follows:\\n\\n```bash\\ndocker cp /path/to/local/file_or_directory container_id:/path/in/container\\n```\\n\\nThis command allows you to copy files from your local machine to a running Docker container.'"
      ]
     },
     "execution_count": 71,
     "metadata": {},
     "output_type": "execute_result"
    }
   ],
   "source": [
    "llm_response"
   ]
  },
  {
   "cell_type": "code",
   "execution_count": 72,
   "id": "885d2a12-9434-4e79-be1e-77d4bf9fc318",
   "metadata": {},
   "outputs": [
    {
     "data": {
      "text/plain": [
       "288"
      ]
     },
     "execution_count": 72,
     "metadata": {},
     "output_type": "execute_result"
    }
   ],
   "source": [
    "len(llm_response)"
   ]
  }
 ],
 "metadata": {
  "kernelspec": {
   "display_name": "Python 3 (ipykernel)",
   "language": "python",
   "name": "python3"
  },
  "language_info": {
   "codemirror_mode": {
    "name": "ipython",
    "version": 3
   },
   "file_extension": ".py",
   "mimetype": "text/x-python",
   "name": "python",
   "nbconvert_exporter": "python",
   "pygments_lexer": "ipython3",
   "version": "3.12.1"
  }
 },
 "nbformat": 4,
 "nbformat_minor": 5
}
