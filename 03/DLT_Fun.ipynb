{
 "cells": [
  {
   "cell_type": "code",
   "execution_count": 2,
   "id": "50636380-a8fc-468d-9539-76dffa04b70a",
   "metadata": {},
   "outputs": [],
   "source": [
    "import dlt\n",
    "from dlt.destinations import qdrant"
   ]
  },
  {
   "cell_type": "code",
   "execution_count": 3,
   "id": "eee576cc-da21-4a59-be7a-24e6cad504f9",
   "metadata": {},
   "outputs": [],
   "source": [
    "movies = [\n",
    "    {\n",
    "        \"title\": \"Blade Runner\",\n",
    "        \"year\": 1982,\n",
    "        \"description\": \"The film is about a dystopian vision of the future that combines noir elements with sci-fi imagery.\"\n",
    "    },\n",
    "    {\n",
    "        \"title\": \"Ghost in the Shell\",\n",
    "        \"year\": 1995,\n",
    "        \"description\": \"The film is about a cyborg policewoman and her partner who set out to find the main culprit behind brain hacking, the Puppet Master.\"\n",
    "    },\n",
    "    {\n",
    "        \"title\": \"The Matrix\",\n",
    "        \"year\": 1999,\n",
    "        \"description\": \"The movie is set in the 22nd century and tells the story of a computer hacker who joins an underground group fighting the powerful computers that rule the earth.\"\n",
    "    }\n",
    "]"
   ]
  },
  {
   "cell_type": "code",
   "execution_count": 4,
   "id": "a724c5cf-d0aa-49a0-a12b-944cd446e49b",
   "metadata": {},
   "outputs": [],
   "source": [
    "qdrant_destination = qdrant(\n",
    "    url=\"http://localhost:6333\", \n",
    "    api_key=None, \n",
    ")"
   ]
  },
  {
   "cell_type": "code",
   "execution_count": 5,
   "id": "81dbb951-8f14-405c-87aa-41212f51ea23",
   "metadata": {},
   "outputs": [],
   "source": [
    "pipeline = dlt.pipeline(\n",
    "    pipeline_name=\"movies\",\n",
    "    destination=qdrant_destination,\n",
    "    dataset_name=\"movies_dataset\",\n",
    ")"
   ]
  },
  {
   "cell_type": "code",
   "execution_count": 6,
   "id": "615dbe7b-cf0a-4f77-88f3-92c5e2084ca1",
   "metadata": {},
   "outputs": [
    {
     "ename": "NameError",
     "evalue": "name 'qdrant_adapter' is not defined",
     "output_type": "error",
     "traceback": [
      "\u001b[31m---------------------------------------------------------------------------\u001b[39m",
      "\u001b[31mNameError\u001b[39m                                 Traceback (most recent call last)",
      "\u001b[36mCell\u001b[39m\u001b[36m \u001b[39m\u001b[32mIn[6]\u001b[39m\u001b[32m, line 2\u001b[39m\n\u001b[32m      1\u001b[39m info = pipeline.run(\n\u001b[32m----> \u001b[39m\u001b[32m2\u001b[39m     \u001b[43mqdrant_adapter\u001b[49m(\n\u001b[32m      3\u001b[39m         movies,\n\u001b[32m      4\u001b[39m         embed=[\u001b[33m\"\u001b[39m\u001b[33mtitle\u001b[39m\u001b[33m\"\u001b[39m, \u001b[33m\"\u001b[39m\u001b[33mdescription\u001b[39m\u001b[33m\"\u001b[39m]\n\u001b[32m      5\u001b[39m     )\n\u001b[32m      6\u001b[39m )\n",
      "\u001b[31mNameError\u001b[39m: name 'qdrant_adapter' is not defined"
     ]
    }
   ],
   "source": [
    "info = pipeline.run(\n",
    "    qdrant_adapter(\n",
    "        movies,\n",
    "        embed=[\"title\", \"description\"]\n",
    "    )\n",
    ")"
   ]
  },
  {
   "cell_type": "code",
   "execution_count": null,
   "id": "23c46a6b-d37a-46b2-8e31-142bd1314ce8",
   "metadata": {},
   "outputs": [],
   "source": [
    "load_info = pipeline.run(zoomcamp_data())\n",
    "print(pipeline.last_trace)"
   ]
  }
 ],
 "metadata": {
  "kernelspec": {
   "display_name": "Python 3 (ipykernel)",
   "language": "python",
   "name": "python3"
  },
  "language_info": {
   "codemirror_mode": {
    "name": "ipython",
    "version": 3
   },
   "file_extension": ".py",
   "mimetype": "text/x-python",
   "name": "python",
   "nbconvert_exporter": "python",
   "pygments_lexer": "ipython3",
   "version": "3.12.1"
  }
 },
 "nbformat": 4,
 "nbformat_minor": 5
}
