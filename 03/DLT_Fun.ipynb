{
 "cells": [
  {
   "cell_type": "code",
   "execution_count": 1,
   "id": "50636380-a8fc-468d-9539-76dffa04b70a",
   "metadata": {},
   "outputs": [],
   "source": [
    "import dlt\n",
    "from dlt.destinations import qdrant"
   ]
  },
  {
   "cell_type": "code",
   "execution_count": 2,
   "id": "eee576cc-da21-4a59-be7a-24e6cad504f9",
   "metadata": {},
   "outputs": [],
   "source": [
    "movies = [\n",
    "    {\n",
    "        \"title\": \"Blade Runner\",\n",
    "        \"year\": 1982,\n",
    "        \"description\": \"The film is about a dystopian vision of the future that combines noir elements with sci-fi imagery.\"\n",
    "    },\n",
    "    {\n",
    "        \"title\": \"Ghost in the Shell\",\n",
    "        \"year\": 1995,\n",
    "        \"description\": \"The film is about a cyborg policewoman and her partner who set out to find the main culprit behind brain hacking, the Puppet Master.\"\n",
    "    },\n",
    "    {\n",
    "        \"title\": \"The Matrix\",\n",
    "        \"year\": 1999,\n",
    "        \"description\": \"The movie is set in the 22nd century and tells the story of a computer hacker who joins an underground group fighting the powerful computers that rule the earth.\"\n",
    "    }\n",
    "]"
   ]
  },
  {
   "cell_type": "code",
   "execution_count": 12,
   "id": "a724c5cf-d0aa-49a0-a12b-944cd446e49b",
   "metadata": {},
   "outputs": [
    {
     "name": "stderr",
     "output_type": "stream",
     "text": [
      "2025-07-06 04:28:02,647|[WARNING]|5608|132567427815232|dlt|reference.py|__init__:74|When initializing destination factory of type dlt.destinations.qdrant, argument url is not a valid field in QdrantClientConfiguration or destination capabilities\n",
      "2025-07-06 04:28:02,648|[WARNING]|5608|132567427815232|dlt|reference.py|__init__:74|When initializing destination factory of type dlt.destinations.qdrant, argument api_key is not a valid field in QdrantClientConfiguration or destination capabilities\n"
     ]
    }
   ],
   "source": [
    "qdrant_destination = qdrant(\n",
    "    url=\"http://localhost:6333\", \n",
    "    api_key=None, \n",
    ")"
   ]
  },
  {
   "cell_type": "code",
   "execution_count": 13,
   "id": "81dbb951-8f14-405c-87aa-41212f51ea23",
   "metadata": {},
   "outputs": [],
   "source": [
    "pipeline = dlt.pipeline(\n",
    "    pipeline_name=\"movies\",\n",
    "    destination=qdrant_destination,\n",
    "    dataset_name=\"movies_dataset\",\n",
    ")"
   ]
  },
  {
   "cell_type": "code",
   "execution_count": 14,
   "id": "615dbe7b-cf0a-4f77-88f3-92c5e2084ca1",
   "metadata": {},
   "outputs": [
    {
     "ename": "NameError",
     "evalue": "name 'qdrant_adapter' is not defined",
     "output_type": "error",
     "traceback": [
      "\u001b[31m---------------------------------------------------------------------------\u001b[39m",
      "\u001b[31mNameError\u001b[39m                                 Traceback (most recent call last)",
      "\u001b[36mCell\u001b[39m\u001b[36m \u001b[39m\u001b[32mIn[14]\u001b[39m\u001b[32m, line 2\u001b[39m\n\u001b[32m      1\u001b[39m info = pipeline.run(\n\u001b[32m----> \u001b[39m\u001b[32m2\u001b[39m     \u001b[43mqdrant_adapter\u001b[49m(\n\u001b[32m      3\u001b[39m         movies,\n\u001b[32m      4\u001b[39m         embed=[\u001b[33m\"\u001b[39m\u001b[33mtitle\u001b[39m\u001b[33m\"\u001b[39m, \u001b[33m\"\u001b[39m\u001b[33mdescription\u001b[39m\u001b[33m\"\u001b[39m]\n\u001b[32m      5\u001b[39m     )\n\u001b[32m      6\u001b[39m )\n",
      "\u001b[31mNameError\u001b[39m: name 'qdrant_adapter' is not defined"
     ]
    }
   ],
   "source": [
    "info = pipeline.run(\n",
    "    qdrant_adapter(\n",
    "        movies,\n",
    "        embed=[\"title\", \"description\"]\n",
    "    )\n",
    ")"
   ]
  },
  {
   "cell_type": "code",
   "execution_count": null,
   "id": "23c46a6b-d37a-46b2-8e31-142bd1314ce8",
   "metadata": {},
   "outputs": [],
   "source": [
    "load_info = pipeline.run(zoomcamp_data())\n",
    "print(pipeline.last_trace)"
   ]
  },
  {
   "cell_type": "code",
   "execution_count": 4,
   "id": "612cbc0f-4393-4106-aaa0-84e19c7bb9cb",
   "metadata": {},
   "outputs": [],
   "source": [
    "import dlt\n",
    "\n",
    "@dlt.resource(name=\"movies_data\")\n",
    "def movies_resource():\n",
    "    movies = [\n",
    "        {\n",
    "            \"title\": \"Blade Runner\",\n",
    "            \"year\": 1982,\n",
    "            \"description\": \"The film is about a dystopian vision of the future that combines noir elements with sci-fi imagery.\"\n",
    "        },\n",
    "        {\n",
    "            \"title\": \"Ghost in the Shell\",\n",
    "            \"year\": 1995,\n",
    "            \"description\": \"A cyborg policewoman and her partner hunt the brain-hacking Puppet Master.\"\n",
    "        },\n",
    "        {\n",
    "            \"title\": \"The Matrix\",\n",
    "            \"year\": 1999,\n",
    "            \"description\": \"In a dystopian future, a hacker discovers the world is a simulation and joins the resistance.\"\n",
    "        }\n",
    "    ]\n",
    "    for movie in movies:\n",
    "        yield movie\n"
   ]
  },
  {
   "cell_type": "code",
   "execution_count": 10,
   "id": "82eb047e-7277-4f2b-9370-ff7889f73eec",
   "metadata": {},
   "outputs": [
    {
     "data": {
      "application/vnd.jupyter.widget-view+json": {
       "model_id": "5ca2b66c1115464d9e319b4c30e9bfd2",
       "version_major": 2,
       "version_minor": 0
      },
      "text/plain": [
       "Fetching 5 files:   0%|          | 0/5 [00:00<?, ?it/s]"
      ]
     },
     "metadata": {},
     "output_type": "display_data"
    },
    {
     "data": {
      "application/vnd.jupyter.widget-view+json": {
       "model_id": "6a0ebfebcfcc47219d4a57505acd220e",
       "version_major": 2,
       "version_minor": 0
      },
      "text/plain": [
       "tokenizer_config.json: 0.00B [00:00, ?B/s]"
      ]
     },
     "metadata": {},
     "output_type": "display_data"
    },
    {
     "data": {
      "application/vnd.jupyter.widget-view+json": {
       "model_id": "81ccb5c3b73d4d4aae91e30030e8d22d",
       "version_major": 2,
       "version_minor": 0
      },
      "text/plain": [
       "config.json:   0%|          | 0.00/706 [00:00<?, ?B/s]"
      ]
     },
     "metadata": {},
     "output_type": "display_data"
    },
    {
     "data": {
      "application/vnd.jupyter.widget-view+json": {
       "model_id": "b9243d5b3e5e460da2c7a1bb3cffa877",
       "version_major": 2,
       "version_minor": 0
      },
      "text/plain": [
       "special_tokens_map.json:   0%|          | 0.00/695 [00:00<?, ?B/s]"
      ]
     },
     "metadata": {},
     "output_type": "display_data"
    },
    {
     "data": {
      "application/vnd.jupyter.widget-view+json": {
       "model_id": "a7c1724cb1e44b20be43311597c2c403",
       "version_major": 2,
       "version_minor": 0
      },
      "text/plain": [
       "tokenizer.json: 0.00B [00:00, ?B/s]"
      ]
     },
     "metadata": {},
     "output_type": "display_data"
    },
    {
     "data": {
      "application/vnd.jupyter.widget-view+json": {
       "model_id": "1040ce8195d84aa7a246b234f89cf53e",
       "version_major": 2,
       "version_minor": 0
      },
      "text/plain": [
       "model_optimized.onnx:   0%|          | 0.00/66.5M [00:00<?, ?B/s]"
      ]
     },
     "metadata": {},
     "output_type": "display_data"
    }
   ],
   "source": [
    "from fastembed.embedding import TextEmbedding\n",
    "\n",
    "# Load default embedding model (BAAI/bge-small-en-v1.5)\n",
    "embedder = TextEmbedding()"
   ]
  },
  {
   "cell_type": "code",
   "execution_count": 11,
   "id": "46deb230-fd04-466c-8927-dc17a327cf14",
   "metadata": {},
   "outputs": [
    {
     "ename": "InvalidParentResourceDataType",
     "evalue": "Cannot create resource `embed_movie` from specified data. If you want to process just one data item, enclose it in a list. A parent resource of `embed_movie` is of type `str`. Did you forget to use `@dlt.resource` decorator or `resource` function?",
     "output_type": "error",
     "traceback": [
      "\u001b[31m---------------------------------------------------------------------------\u001b[39m",
      "\u001b[31mInvalidParentResourceDataType\u001b[39m             Traceback (most recent call last)",
      "\u001b[36mCell\u001b[39m\u001b[36m \u001b[39m\u001b[32mIn[11]\u001b[39m\u001b[32m, line 3\u001b[39m\n\u001b[32m      1\u001b[39m \u001b[38;5;28;01mimport\u001b[39;00m\u001b[38;5;250m \u001b[39m\u001b[34;01mdlt\u001b[39;00m\n\u001b[32m----> \u001b[39m\u001b[32m3\u001b[39m \u001b[38;5;129;43m@dlt\u001b[39;49m\u001b[43m.\u001b[49m\u001b[43mtransformer\u001b[49m\u001b[43m(\u001b[49m\u001b[43mdata_from\u001b[49m\u001b[43m=\u001b[49m\u001b[33;43m\"\u001b[39;49m\u001b[33;43mmovies_data\u001b[39;49m\u001b[33;43m\"\u001b[39;49m\u001b[43m)\u001b[49m\n\u001b[32m      4\u001b[39m \u001b[38;5;28;43;01mdef\u001b[39;49;00m\u001b[38;5;250;43m \u001b[39;49m\u001b[34;43membed_movie\u001b[39;49m\u001b[43m(\u001b[49m\u001b[43mmovie\u001b[49m\u001b[43m)\u001b[49m\u001b[43m:\u001b[49m\n\u001b[32m      5\u001b[39m \u001b[43m    \u001b[49m\u001b[43mtext\u001b[49m\u001b[43m \u001b[49m\u001b[43m=\u001b[49m\u001b[43m \u001b[49m\u001b[33;43mf\u001b[39;49m\u001b[33;43m\"\u001b[39;49m\u001b[38;5;132;43;01m{\u001b[39;49;00m\u001b[43mmovie\u001b[49m\u001b[43m[\u001b[49m\u001b[33;43m'\u001b[39;49m\u001b[33;43mtitle\u001b[39;49m\u001b[33;43m'\u001b[39;49m\u001b[43m]\u001b[49m\u001b[38;5;132;43;01m}\u001b[39;49;00m\u001b[33;43m \u001b[39;49m\u001b[38;5;132;43;01m{\u001b[39;49;00m\u001b[43mmovie\u001b[49m\u001b[43m[\u001b[49m\u001b[33;43m'\u001b[39;49m\u001b[33;43mdescription\u001b[39;49m\u001b[33;43m'\u001b[39;49m\u001b[43m]\u001b[49m\u001b[38;5;132;43;01m}\u001b[39;49;00m\u001b[33;43m\"\u001b[39;49m\n\u001b[32m      6\u001b[39m \u001b[43m    \u001b[49m\u001b[43membedding\u001b[49m\u001b[43m \u001b[49m\u001b[43m=\u001b[49m\u001b[43m \u001b[49m\u001b[43membedder\u001b[49m\u001b[43m.\u001b[49m\u001b[43membed\u001b[49m\u001b[43m(\u001b[49m\u001b[43mtext\u001b[49m\u001b[43m)\u001b[49m\u001b[43m[\u001b[49m\u001b[32;43m0\u001b[39;49m\u001b[43m]\u001b[49m\n",
      "\u001b[36mFile \u001b[39m\u001b[32m/usr/local/python/3.12.1/lib/python3.12/site-packages/dlt/extract/decorators.py:744\u001b[39m, in \u001b[36mresource.<locals>.decorator\u001b[39m\u001b[34m(f)\u001b[39m\n\u001b[32m    735\u001b[39m     logger.info(\n\u001b[32m    736\u001b[39m         \u001b[33mf\u001b[39m\u001b[33m\"\u001b[39m\u001b[33mTransformer \u001b[39m\u001b[38;5;132;01m{\u001b[39;00mresource_name\u001b[38;5;132;01m}\u001b[39;00m\u001b[33m in section \u001b[39m\u001b[38;5;132;01m{\u001b[39;00msource_section\u001b[38;5;132;01m}\u001b[39;00m\u001b[33m is defined over an inner\u001b[39m\u001b[33m\"\u001b[39m\n\u001b[32m    737\u001b[39m         \u001b[33m\"\u001b[39m\u001b[33m function and has additional arguments that will be injected from the\u001b[39m\u001b[33m\"\u001b[39m\n\u001b[32m   (...)\u001b[39m\u001b[32m    740\u001b[39m         \u001b[33m\"\u001b[39m\u001b[33m the required configuration and pass them explicitly to your source.\u001b[39m\u001b[33m\"\u001b[39m\n\u001b[32m    741\u001b[39m     )\n\u001b[32m    743\u001b[39m factory = \u001b[38;5;28;01mNone\u001b[39;00m\n\u001b[32m--> \u001b[39m\u001b[32m744\u001b[39m r_ = \u001b[43mmake_resource\u001b[49m\u001b[43m(\u001b[49m\u001b[43mresource_name\u001b[49m\u001b[43m,\u001b[49m\u001b[43m \u001b[49m\u001b[43msource_section\u001b[49m\u001b[43m,\u001b[49m\u001b[43m \u001b[49m\u001b[43mf\u001b[49m\u001b[43m)\u001b[49m\n\u001b[32m    745\u001b[39m \u001b[38;5;66;03m# register non inner resources as source with single resource in it\u001b[39;00m\n\u001b[32m    746\u001b[39m \u001b[38;5;28;01mif\u001b[39;00m \u001b[38;5;129;01mnot\u001b[39;00m is_inner_resource:\n\u001b[32m    747\u001b[39m     \u001b[38;5;66;03m# a source function for the source wrapper, args that go to source are forwarded\u001b[39;00m\n\u001b[32m    748\u001b[39m     \u001b[38;5;66;03m# to a single resource within\u001b[39;00m\n",
      "\u001b[36mFile \u001b[39m\u001b[32m/usr/local/python/3.12.1/lib/python3.12/site-packages/dlt/extract/decorators.py:676\u001b[39m, in \u001b[36mresource.<locals>.make_resource\u001b[39m\u001b[34m(_name, _section, _data)\u001b[39m\n\u001b[32m    662\u001b[39m \u001b[38;5;28;01mdef\u001b[39;00m\u001b[38;5;250m \u001b[39m\u001b[34mmake_resource\u001b[39m(_name: \u001b[38;5;28mstr\u001b[39m, _section: \u001b[38;5;28mstr\u001b[39m, _data: Any) -> TDltResourceImpl:\n\u001b[32m    663\u001b[39m     table_template = make_hints(\n\u001b[32m    664\u001b[39m         table_name,\n\u001b[32m    665\u001b[39m         write_disposition=write_disposition \u001b[38;5;129;01mor\u001b[39;00m DEFAULT_WRITE_DISPOSITION,\n\u001b[32m   (...)\u001b[39m\u001b[32m    674\u001b[39m         incremental=incremental,\n\u001b[32m    675\u001b[39m     )\n\u001b[32m--> \u001b[39m\u001b[32m676\u001b[39m     resource = \u001b[43m_impl_cls\u001b[49m\u001b[43m.\u001b[49m\u001b[43mfrom_data\u001b[49m\u001b[43m(\u001b[49m\n\u001b[32m    677\u001b[39m \u001b[43m        \u001b[49m\u001b[43m_data\u001b[49m\u001b[43m,\u001b[49m\n\u001b[32m    678\u001b[39m \u001b[43m        \u001b[49m\u001b[43m_name\u001b[49m\u001b[43m,\u001b[49m\n\u001b[32m    679\u001b[39m \u001b[43m        \u001b[49m\u001b[43m_section\u001b[49m\u001b[43m,\u001b[49m\n\u001b[32m    680\u001b[39m \u001b[43m        \u001b[49m\u001b[43mtable_template\u001b[49m\u001b[43m,\u001b[49m\n\u001b[32m    681\u001b[39m \u001b[43m        \u001b[49m\u001b[43mselected\u001b[49m\u001b[43m,\u001b[49m\n\u001b[32m    682\u001b[39m \u001b[43m        \u001b[49m\u001b[43mcast\u001b[49m\u001b[43m(\u001b[49m\u001b[43mDltResource\u001b[49m\u001b[43m,\u001b[49m\u001b[43m \u001b[49m\u001b[43mdata_from\u001b[49m\u001b[43m)\u001b[49m\u001b[43m,\u001b[49m\n\u001b[32m    683\u001b[39m \u001b[43m        \u001b[49m\u001b[38;5;28;43;01mTrue\u001b[39;49;00m\u001b[43m,\u001b[49m\n\u001b[32m    684\u001b[39m \u001b[43m    \u001b[49m\u001b[43m)\u001b[49m\n\u001b[32m    686\u001b[39m     \u001b[38;5;28;01mif\u001b[39;00m incremental:\n\u001b[32m    687\u001b[39m         \u001b[38;5;66;03m# Reset the flag to allow overriding by incremental argument\u001b[39;00m\n\u001b[32m    688\u001b[39m         resource.incremental._from_hints = \u001b[38;5;28;01mFalse\u001b[39;00m\n",
      "\u001b[36mFile \u001b[39m\u001b[32m/usr/local/python/3.12.1/lib/python3.12/site-packages/dlt/extract/resource.py:196\u001b[39m, in \u001b[36mDltResource.from_data\u001b[39m\u001b[34m(cls, data, name, section, hints, selected, data_from, inject_config)\u001b[39m\n\u001b[32m    194\u001b[39m \u001b[38;5;28;01mif\u001b[39;00m data_from \u001b[38;5;129;01mis\u001b[39;00m \u001b[38;5;129;01mnot\u001b[39;00m \u001b[38;5;28;01mNone\u001b[39;00m:\n\u001b[32m    195\u001b[39m     DltResource._ensure_valid_transformer_resource(name, data)\n\u001b[32m--> \u001b[39m\u001b[32m196\u001b[39m     parent_pipe = \u001b[43mDltResource\u001b[49m\u001b[43m.\u001b[49m\u001b[43m_get_parent_pipe\u001b[49m\u001b[43m(\u001b[49m\u001b[43mname\u001b[49m\u001b[43m,\u001b[49m\u001b[43m \u001b[49m\u001b[43mdata_from\u001b[49m\u001b[43m)\u001b[49m\n\u001b[32m    198\u001b[39m \u001b[38;5;66;03m# create resource from iterator, iterable or generator function\u001b[39;00m\n\u001b[32m    199\u001b[39m \u001b[38;5;28;01mif\u001b[39;00m \u001b[38;5;28misinstance\u001b[39m(data, (Iterable, Iterator, AsyncIterable)) \u001b[38;5;129;01mor\u001b[39;00m \u001b[38;5;28mcallable\u001b[39m(data):\n",
      "\u001b[36mFile \u001b[39m\u001b[32m/usr/local/python/3.12.1/lib/python3.12/site-packages/dlt/extract/resource.py:852\u001b[39m, in \u001b[36mDltResource._get_parent_pipe\u001b[39m\u001b[34m(name, data_from)\u001b[39m\n\u001b[32m    850\u001b[39m     \u001b[38;5;28;01mraise\u001b[39;00m InvalidParentResourceIsAFunction(name, get_callable_name(data_from))\n\u001b[32m    851\u001b[39m \u001b[38;5;28;01melse\u001b[39;00m:\n\u001b[32m--> \u001b[39m\u001b[32m852\u001b[39m     \u001b[38;5;28;01mraise\u001b[39;00m InvalidParentResourceDataType(name, data_from, \u001b[38;5;28mtype\u001b[39m(data_from))\n",
      "\u001b[31mInvalidParentResourceDataType\u001b[39m: Cannot create resource `embed_movie` from specified data. If you want to process just one data item, enclose it in a list. A parent resource of `embed_movie` is of type `str`. Did you forget to use `@dlt.resource` decorator or `resource` function?"
     ]
    }
   ],
   "source": [
    "import dlt\n",
    "\n",
    "@dlt.transformer(data_from=\"movies_data\")\n",
    "def embed_movie(movie):\n",
    "    text = f\"{movie['title']} {movie['description']}\"\n",
    "    embedding = embedder.embed(text)[0]\n",
    "    movie[\"embedding\"] = embedding\n",
    "    yield movie\n"
   ]
  },
  {
   "cell_type": "code",
   "execution_count": null,
   "id": "6c4682d5-682e-4a5f-ace1-84f9332b7071",
   "metadata": {},
   "outputs": [],
   "source": []
  }
 ],
 "metadata": {
  "kernelspec": {
   "display_name": "Python 3 (ipykernel)",
   "language": "python",
   "name": "python3"
  },
  "language_info": {
   "codemirror_mode": {
    "name": "ipython",
    "version": 3
   },
   "file_extension": ".py",
   "mimetype": "text/x-python",
   "name": "python",
   "nbconvert_exporter": "python",
   "pygments_lexer": "ipython3",
   "version": "3.12.1"
  }
 },
 "nbformat": 4,
 "nbformat_minor": 5
}
